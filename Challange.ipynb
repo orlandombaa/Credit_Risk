{
 "cells": [
  {
   "cell_type": "markdown",
   "source": [
    "# Challange Bankaya\n",
    "Este Notebook está enfocada en la resolución de un problema plantado por Bankaya"
   ],
   "metadata": {
    "collapsed": false
   }
  },
  {
   "cell_type": "markdown",
   "source": [
    "## Descripción del problema\n",
    "**RISK MODEL CALLENGE:** El problema se centra en la necesidad de Bankaya de poner hacer una clasificación correcta de clientes (buen cliente y mal cliente) que le permite minimzar los riesgos en la colocación de créditos.\n",
    "\n",
    "**La primera parte del reto** se centra en la creación de un modelo que permita minimizar  dichos riesgos.  Esta etapa se puede abordar con una clasificación binaria en la que entrenemos el modelo con datos etiquetadas de \"buen cliente\"   y \"mal cliente\" y con dicho datos hacer clasificaciones futuras. Existe una amplia variedad de modelos que podríamos usar para abordar este tipo de problemas. Dado que los datos que usaremos son tabulares optaremos por proponer 2 modelos los cuales son XGboost  y  regresión logistica.\n",
    "\n",
    "**La segunda parte del reto** se centra simplemente en una recomendación de como utilizar este modelo para asginar tasas de interés a cada cliente.\n",
    "\n",
    "\n",
    "**IMPORTANTE:** Dado que ya se esta planteando que exista distintas tasas de interés optaremos"
   ],
   "metadata": {
    "collapsed": false
   }
  },
  {
   "cell_type": "markdown",
   "source": [
    "**NOTAS IMPORTANTES:**\n",
    "1) No todos los clientes en el main_dataset tienen historial en el credit_reports"
   ],
   "metadata": {
    "collapsed": false
   }
  },
  {
   "cell_type": "markdown",
   "source": [
    "**CARGA DE LIBRERIAS**"
   ],
   "metadata": {
    "collapsed": false
   }
  },
  {
   "cell_type": "code",
   "execution_count": 1,
   "outputs": [],
   "source": [
    "import pandas as pd\n",
    "import duckdb # Me permite interactuar con sentencias sql en mis pandas df\n",
    "import plotly.express as px # Visualizaciones\n",
    "from datetime import datetime\n",
    "import xgboost as xgb\n",
    "from xgboost import plot_importance\n",
    "from sklearn.model_selection import train_test_split, GridSearchCV\n",
    "from sklearn.metrics import accuracy_score\n",
    "from sklearn.preprocessing import StandardScaler\n",
    "from sklearn.linear_model import LogisticRegression\n",
    "import matplotlib.pyplot as plt"
   ],
   "metadata": {
    "collapsed": false,
    "ExecuteTime": {
     "end_time": "2023-10-30T15:11:09.811492Z",
     "start_time": "2023-10-30T15:11:08.220916Z"
    }
   }
  },
  {
   "cell_type": "markdown",
   "source": [
    "## 1) Lectura de datos y análisis inicial\n"
   ],
   "metadata": {
    "collapsed": false
   }
  },
  {
   "cell_type": "markdown",
   "source": [
    "### 1.1) Lectura de datos"
   ],
   "metadata": {
    "collapsed": false
   }
  },
  {
   "cell_type": "code",
   "execution_count": 2,
   "outputs": [
    {
     "data": {
      "text/plain": "       customer_id  loan_id ACC_CREATION_DATETIME APPLICATION_DATETIME  \\\n0             1223        1   2021-08-23 13:57:56  2022-04-26 07:00:00   \n1             5190        2   2022-04-26 09:57:25  2022-04-26 07:00:00   \n2             5194        3   2022-04-26 12:22:35  2022-04-26 07:00:00   \n3             3978        4   2022-03-09 11:26:55  2022-04-26 07:00:00   \n4             4535        5   2022-04-01 14:28:42  2022-04-26 07:00:00   \n...            ...      ...                   ...                  ...   \n14449        14452    14450   2023-05-15 12:02:51  2023-05-15 07:00:00   \n14450        14453    14451   2023-05-16 12:54:39  2023-05-16 07:00:00   \n14451        14454    14452   2023-05-19 19:55:04  2023-05-19 07:00:00   \n14452          768    14453   2021-06-28 14:36:50  2023-05-22 07:00:00   \n14453        12079    14454   2022-12-24 17:19:26  2023-05-26 07:00:00   \n\n      LOAN_ORIGINATION_DATETIME  max_days_late  target  \\\n0           2022-10-20 18:26:35              5       0   \n1           2022-12-22 18:03:32              2       0   \n2           2022-08-09 17:31:05              4       0   \n3           2022-11-11 19:48:08              2       0   \n4           2022-07-24 12:07:15              2       0   \n...                         ...            ...     ...   \n14449       2023-05-21 14:56:30              5       0   \n14450       2023-05-19 21:07:56              0       0   \n14451       2023-05-22 15:14:50              0       0   \n14452       2023-05-26 07:12:16              0       0   \n14453       2023-05-29 12:18:28              0       0   \n\n       account_to_application_days  n_sf_apps       first_app_date  \\\n0                              245        1.0  2022-04-25 00:00:00   \n1                                0       <NA>                 <NA>   \n2                                0       <NA>                 <NA>   \n3                               47        1.0  2022-03-17 00:00:00   \n4                               24        1.0  2022-04-01 00:00:00   \n...                            ...        ...                  ...   \n14449                            0       <NA>                 <NA>   \n14450                            0       <NA>                 <NA>   \n14451                            0       <NA>                 <NA>   \n14452                          692       <NA>                 <NA>   \n14453                          152        1.0  2022-12-24 00:00:00   \n\n             last_app_date  n_bnpl_apps  n_bnpl_approved_apps  \\\n0      2022-04-25 00:00:00          1.0                   0.0   \n1                     <NA>         <NA>                  <NA>   \n2                     <NA>         <NA>                  <NA>   \n3      2022-03-17 00:00:00          2.0                   0.0   \n4      2022-04-01 00:00:00          1.0                   0.0   \n...                    ...          ...                   ...   \n14449                 <NA>         <NA>                  <NA>   \n14450                 <NA>         <NA>                  <NA>   \n14451                 <NA>         <NA>                  <NA>   \n14452                 <NA>          3.0                   0.0   \n14453  2022-12-24 00:00:00          1.0                   0.0   \n\n              first_bnpl_app_date          last_bnpl_app_date  \\\n0      2022-04-26 02:15:17.742000  2022-04-26 02:15:17.742000   \n1                            <NA>                        <NA>   \n2                            <NA>                        <NA>   \n3      2022-03-19 22:02:50.555000  2022-03-09 16:41:49.675000   \n4      2022-04-01 19:37:56.185000  2022-04-01 19:37:56.185000   \n...                           ...                         ...   \n14449                        <NA>                        <NA>   \n14450                        <NA>                        <NA>   \n14451                        <NA>                        <NA>   \n14452         2023-05-20 17:15:47         2023-05-17 15:20:48   \n14453  2022-12-25 05:05:05.841000  2022-12-25 05:05:05.841000   \n\n       n_inquiries_l3m  n_inquiries_l6m  \n0                 91.0             91.0  \n1                 <NA>             <NA>  \n2                 <NA>             <NA>  \n3                 13.0             13.0  \n4                 21.0             21.0  \n...                ...              ...  \n14449             <NA>             <NA>  \n14450             <NA>             <NA>  \n14451             <NA>             <NA>  \n14452             10.0             10.0  \n14453              0.0             25.0  \n\n[14454 rows x 17 columns]",
      "text/html": "<div>\n<style scoped>\n    .dataframe tbody tr th:only-of-type {\n        vertical-align: middle;\n    }\n\n    .dataframe tbody tr th {\n        vertical-align: top;\n    }\n\n    .dataframe thead th {\n        text-align: right;\n    }\n</style>\n<table border=\"1\" class=\"dataframe\">\n  <thead>\n    <tr style=\"text-align: right;\">\n      <th></th>\n      <th>customer_id</th>\n      <th>loan_id</th>\n      <th>ACC_CREATION_DATETIME</th>\n      <th>APPLICATION_DATETIME</th>\n      <th>LOAN_ORIGINATION_DATETIME</th>\n      <th>max_days_late</th>\n      <th>target</th>\n      <th>account_to_application_days</th>\n      <th>n_sf_apps</th>\n      <th>first_app_date</th>\n      <th>last_app_date</th>\n      <th>n_bnpl_apps</th>\n      <th>n_bnpl_approved_apps</th>\n      <th>first_bnpl_app_date</th>\n      <th>last_bnpl_app_date</th>\n      <th>n_inquiries_l3m</th>\n      <th>n_inquiries_l6m</th>\n    </tr>\n  </thead>\n  <tbody>\n    <tr>\n      <th>0</th>\n      <td>1223</td>\n      <td>1</td>\n      <td>2021-08-23 13:57:56</td>\n      <td>2022-04-26 07:00:00</td>\n      <td>2022-10-20 18:26:35</td>\n      <td>5</td>\n      <td>0</td>\n      <td>245</td>\n      <td>1.0</td>\n      <td>2022-04-25 00:00:00</td>\n      <td>2022-04-25 00:00:00</td>\n      <td>1.0</td>\n      <td>0.0</td>\n      <td>2022-04-26 02:15:17.742000</td>\n      <td>2022-04-26 02:15:17.742000</td>\n      <td>91.0</td>\n      <td>91.0</td>\n    </tr>\n    <tr>\n      <th>1</th>\n      <td>5190</td>\n      <td>2</td>\n      <td>2022-04-26 09:57:25</td>\n      <td>2022-04-26 07:00:00</td>\n      <td>2022-12-22 18:03:32</td>\n      <td>2</td>\n      <td>0</td>\n      <td>0</td>\n      <td>&lt;NA&gt;</td>\n      <td>&lt;NA&gt;</td>\n      <td>&lt;NA&gt;</td>\n      <td>&lt;NA&gt;</td>\n      <td>&lt;NA&gt;</td>\n      <td>&lt;NA&gt;</td>\n      <td>&lt;NA&gt;</td>\n      <td>&lt;NA&gt;</td>\n      <td>&lt;NA&gt;</td>\n    </tr>\n    <tr>\n      <th>2</th>\n      <td>5194</td>\n      <td>3</td>\n      <td>2022-04-26 12:22:35</td>\n      <td>2022-04-26 07:00:00</td>\n      <td>2022-08-09 17:31:05</td>\n      <td>4</td>\n      <td>0</td>\n      <td>0</td>\n      <td>&lt;NA&gt;</td>\n      <td>&lt;NA&gt;</td>\n      <td>&lt;NA&gt;</td>\n      <td>&lt;NA&gt;</td>\n      <td>&lt;NA&gt;</td>\n      <td>&lt;NA&gt;</td>\n      <td>&lt;NA&gt;</td>\n      <td>&lt;NA&gt;</td>\n      <td>&lt;NA&gt;</td>\n    </tr>\n    <tr>\n      <th>3</th>\n      <td>3978</td>\n      <td>4</td>\n      <td>2022-03-09 11:26:55</td>\n      <td>2022-04-26 07:00:00</td>\n      <td>2022-11-11 19:48:08</td>\n      <td>2</td>\n      <td>0</td>\n      <td>47</td>\n      <td>1.0</td>\n      <td>2022-03-17 00:00:00</td>\n      <td>2022-03-17 00:00:00</td>\n      <td>2.0</td>\n      <td>0.0</td>\n      <td>2022-03-19 22:02:50.555000</td>\n      <td>2022-03-09 16:41:49.675000</td>\n      <td>13.0</td>\n      <td>13.0</td>\n    </tr>\n    <tr>\n      <th>4</th>\n      <td>4535</td>\n      <td>5</td>\n      <td>2022-04-01 14:28:42</td>\n      <td>2022-04-26 07:00:00</td>\n      <td>2022-07-24 12:07:15</td>\n      <td>2</td>\n      <td>0</td>\n      <td>24</td>\n      <td>1.0</td>\n      <td>2022-04-01 00:00:00</td>\n      <td>2022-04-01 00:00:00</td>\n      <td>1.0</td>\n      <td>0.0</td>\n      <td>2022-04-01 19:37:56.185000</td>\n      <td>2022-04-01 19:37:56.185000</td>\n      <td>21.0</td>\n      <td>21.0</td>\n    </tr>\n    <tr>\n      <th>...</th>\n      <td>...</td>\n      <td>...</td>\n      <td>...</td>\n      <td>...</td>\n      <td>...</td>\n      <td>...</td>\n      <td>...</td>\n      <td>...</td>\n      <td>...</td>\n      <td>...</td>\n      <td>...</td>\n      <td>...</td>\n      <td>...</td>\n      <td>...</td>\n      <td>...</td>\n      <td>...</td>\n      <td>...</td>\n    </tr>\n    <tr>\n      <th>14449</th>\n      <td>14452</td>\n      <td>14450</td>\n      <td>2023-05-15 12:02:51</td>\n      <td>2023-05-15 07:00:00</td>\n      <td>2023-05-21 14:56:30</td>\n      <td>5</td>\n      <td>0</td>\n      <td>0</td>\n      <td>&lt;NA&gt;</td>\n      <td>&lt;NA&gt;</td>\n      <td>&lt;NA&gt;</td>\n      <td>&lt;NA&gt;</td>\n      <td>&lt;NA&gt;</td>\n      <td>&lt;NA&gt;</td>\n      <td>&lt;NA&gt;</td>\n      <td>&lt;NA&gt;</td>\n      <td>&lt;NA&gt;</td>\n    </tr>\n    <tr>\n      <th>14450</th>\n      <td>14453</td>\n      <td>14451</td>\n      <td>2023-05-16 12:54:39</td>\n      <td>2023-05-16 07:00:00</td>\n      <td>2023-05-19 21:07:56</td>\n      <td>0</td>\n      <td>0</td>\n      <td>0</td>\n      <td>&lt;NA&gt;</td>\n      <td>&lt;NA&gt;</td>\n      <td>&lt;NA&gt;</td>\n      <td>&lt;NA&gt;</td>\n      <td>&lt;NA&gt;</td>\n      <td>&lt;NA&gt;</td>\n      <td>&lt;NA&gt;</td>\n      <td>&lt;NA&gt;</td>\n      <td>&lt;NA&gt;</td>\n    </tr>\n    <tr>\n      <th>14451</th>\n      <td>14454</td>\n      <td>14452</td>\n      <td>2023-05-19 19:55:04</td>\n      <td>2023-05-19 07:00:00</td>\n      <td>2023-05-22 15:14:50</td>\n      <td>0</td>\n      <td>0</td>\n      <td>0</td>\n      <td>&lt;NA&gt;</td>\n      <td>&lt;NA&gt;</td>\n      <td>&lt;NA&gt;</td>\n      <td>&lt;NA&gt;</td>\n      <td>&lt;NA&gt;</td>\n      <td>&lt;NA&gt;</td>\n      <td>&lt;NA&gt;</td>\n      <td>&lt;NA&gt;</td>\n      <td>&lt;NA&gt;</td>\n    </tr>\n    <tr>\n      <th>14452</th>\n      <td>768</td>\n      <td>14453</td>\n      <td>2021-06-28 14:36:50</td>\n      <td>2023-05-22 07:00:00</td>\n      <td>2023-05-26 07:12:16</td>\n      <td>0</td>\n      <td>0</td>\n      <td>692</td>\n      <td>&lt;NA&gt;</td>\n      <td>&lt;NA&gt;</td>\n      <td>&lt;NA&gt;</td>\n      <td>3.0</td>\n      <td>0.0</td>\n      <td>2023-05-20 17:15:47</td>\n      <td>2023-05-17 15:20:48</td>\n      <td>10.0</td>\n      <td>10.0</td>\n    </tr>\n    <tr>\n      <th>14453</th>\n      <td>12079</td>\n      <td>14454</td>\n      <td>2022-12-24 17:19:26</td>\n      <td>2023-05-26 07:00:00</td>\n      <td>2023-05-29 12:18:28</td>\n      <td>0</td>\n      <td>0</td>\n      <td>152</td>\n      <td>1.0</td>\n      <td>2022-12-24 00:00:00</td>\n      <td>2022-12-24 00:00:00</td>\n      <td>1.0</td>\n      <td>0.0</td>\n      <td>2022-12-25 05:05:05.841000</td>\n      <td>2022-12-25 05:05:05.841000</td>\n      <td>0.0</td>\n      <td>25.0</td>\n    </tr>\n  </tbody>\n</table>\n<p>14454 rows × 17 columns</p>\n</div>"
     },
     "execution_count": 2,
     "metadata": {},
     "output_type": "execute_result"
    }
   ],
   "source": [
    "main_dataset   = pd.read_parquet(\"main_dataset.parquet\", dtype_backend=\"pyarrow\") # Usar el nuevo backedn de incluido desde pandas 2.0 puede minimizar hasta 3 veces el espacio en memoria que demanda en pandas DF  (esto se nota principalmente en archivos grandes)\n",
    "main_dataset"
   ],
   "metadata": {
    "collapsed": false,
    "ExecuteTime": {
     "end_time": "2023-10-30T15:11:11.741928Z",
     "start_time": "2023-10-30T15:11:11.641556Z"
    }
   }
  },
  {
   "cell_type": "markdown",
   "source": [
    "**BREVE DESCRIPCIÓN:** Cada registro de este dataset corresponde al primer credito de cada cliente, adicionalmente este dataset contiene una variable objetivo, esta variable objetivo es una variable binaria que corresponde a buen o mal cliente"
   ],
   "metadata": {
    "collapsed": false
   }
  },
  {
   "cell_type": "code",
   "execution_count": 3,
   "outputs": [
    {
     "data": {
      "text/plain": "        customer_id                      INQUIRY_TIME  \\\n0              4223  2022-04-01 00:32:36.689000+00:00   \n1              4223  2022-04-01 00:32:36.689000+00:00   \n2              4223  2022-04-01 00:32:36.689000+00:00   \n3              3490  2022-02-15 02:30:22.086000+00:00   \n4              6486  2022-06-25 01:57:14.868000+00:00   \n...             ...                               ...   \n287351        12079  2022-12-24 22:21:36.102000+00:00   \n287352        12079  2022-12-24 22:21:36.102000+00:00   \n287353        12079  2022-12-24 22:21:36.102000+00:00   \n287354        12079  2022-12-24 22:21:36.102000+00:00   \n287355        12079  2022-12-24 22:21:36.102000+00:00   \n\n                                      CDC_INQUIRY_ID         INQUIRY_DATE  \\\n0        710278-27993a6e-2885-48d4-a753-9249e7022af1  2022-04-01 00:00:00   \n1        710278-27993a6e-2885-48d4-a753-9249e7022af1  2022-04-01 00:00:00   \n2        710278-27993a6e-2885-48d4-a753-9249e7022af1  2022-04-01 00:00:00   \n3        622857-6b4e9d95-7491-40c3-bccd-442de7f94c58  2022-02-15 00:00:00   \n4        875073-46a5f149-19db-4193-b92a-b8f41fb3e896  2022-06-25 00:00:00   \n...                                              ...                  ...   \n287351  1053785-35891c8d-97ba-4dce-9f5f-e7bf8684473a  2022-12-24 00:00:00   \n287352  1053785-35891c8d-97ba-4dce-9f5f-e7bf8684473a  2022-12-24 00:00:00   \n287353  1053785-35891c8d-97ba-4dce-9f5f-e7bf8684473a  2022-12-24 00:00:00   \n287354  1053785-35891c8d-97ba-4dce-9f5f-e7bf8684473a  2022-12-24 00:00:00   \n287355  1053785-35891c8d-97ba-4dce-9f5f-e7bf8684473a  2022-12-24 00:00:00   \n\n                    PREVENTION_KEY         CURRENCY  MAX_CREDIT  CREDIT_LIMIT  \\\n0                  SIN OBSERVACION  PESOS MEXICANOS      1244.0        9900.0   \n1                  SIN OBSERVACION  PESOS MEXICANOS      1722.0        9900.0   \n2                  SIN OBSERVACION  PESOS MEXICANOS      6346.0           0.0   \n3                  SIN OBSERVACION  PESOS MEXICANOS     11600.0           0.0   \n4                  SIN OBSERVACION  PESOS MEXICANOS      2452.0       16800.0   \n...                            ...              ...         ...           ...   \n287351             SIN OBSERVACION  PESOS MEXICANOS      1609.0        1609.0   \n287352             SIN OBSERVACION  PESOS MEXICANOS       248.0         248.0   \n287353             SIN OBSERVACION  PESOS MEXICANOS      3267.0        3267.0   \n287354             SIN OBSERVACION  PESOS MEXICANOS       496.0         496.0   \n287355  CUENTA QUE CAUSA QUEBRANTO  PESOS MEXICANOS     26458.0           0.0   \n\n        PAYMENT_AMOUNT          UPDATE_DATE  ... ACCOUNT_TYPE  \\\n0               1244.0  2022-02-28 00:00:00  ...  PAGOS FIJOS   \n1               1722.0  2022-02-28 00:00:00  ...   REVOLVENTE   \n2                482.0  2022-03-28 00:00:00  ...  PAGOS FIJOS   \n3                232.0  2022-02-01 00:00:00  ...  PAGOS FIJOS   \n4               2452.0  2021-09-30 00:00:00  ...   REVOLVENTE   \n...                ...                  ...  ...          ...   \n287351           634.0  2022-12-01 00:00:00  ...  PAGOS FIJOS   \n287352           263.0  2022-12-01 00:00:00  ...  PAGOS FIJOS   \n287353          1243.0  2022-12-01 00:00:00  ...  PAGOS FIJOS   \n287354           189.0  2022-12-01 00:00:00  ...  PAGOS FIJOS   \n287355          9882.0  2022-12-15 00:00:00  ...  PAGOS FIJOS   \n\n         RESPONSABILITY_TYPE TOTAL_PAYMENTS DELAYED_PAYMENTS CURRENT_PAYMENT  \\\n0       INDIVIDUAL (TITULAR)           12.0                7              13   \n1       INDIVIDUAL (TITULAR)            0.0                3              13   \n2       INDIVIDUAL (TITULAR)           16.0                0               V   \n3       INDIVIDUAL (TITULAR)          100.0                4              01   \n4       INDIVIDUAL (TITULAR)            0.0               19              13   \n...                      ...            ...              ...             ...   \n287351  INDIVIDUAL (TITULAR)            3.0               11              01   \n287352  INDIVIDUAL (TITULAR)            1.0               11              01   \n287353  INDIVIDUAL (TITULAR)            3.0               10              03   \n287354  INDIVIDUAL (TITULAR)            3.0               10              03   \n287355  INDIVIDUAL (TITULAR)          102.0               73              84   \n\n       WORST_DELAY TOTAL_REPORTED_PAYMENTS CURRENT_BALANCE BALANCE_DUE  \\\n0             13.0                       0          1244.0      1244.0   \n1             13.0                       0          1722.0      1722.0   \n2              0.0                       0           943.0         0.0   \n3              1.0                       0          6185.0       116.0   \n4             13.0                       0          2452.0      2452.0   \n...            ...                     ...             ...         ...   \n287351         1.0                       0           634.0       634.0   \n287352         1.0                       0           263.0       263.0   \n287353         3.0                       0          3666.0      3666.0   \n287354         3.0                       0           557.0       557.0   \n287355        84.0                       0          9882.0      9882.0   \n\n       BALANCE_DUE_WORST_DELAY  \n0                       1244.0  \n1                       1722.0  \n2                          0.0  \n3                        116.0  \n4                       2452.0  \n...                        ...  \n287351                   634.0  \n287352                   263.0  \n287353                  3666.0  \n287354                   557.0  \n287355                  9882.0  \n\n[287356 rows x 29 columns]",
      "text/html": "<div>\n<style scoped>\n    .dataframe tbody tr th:only-of-type {\n        vertical-align: middle;\n    }\n\n    .dataframe tbody tr th {\n        vertical-align: top;\n    }\n\n    .dataframe thead th {\n        text-align: right;\n    }\n</style>\n<table border=\"1\" class=\"dataframe\">\n  <thead>\n    <tr style=\"text-align: right;\">\n      <th></th>\n      <th>customer_id</th>\n      <th>INQUIRY_TIME</th>\n      <th>CDC_INQUIRY_ID</th>\n      <th>INQUIRY_DATE</th>\n      <th>PREVENTION_KEY</th>\n      <th>CURRENCY</th>\n      <th>MAX_CREDIT</th>\n      <th>CREDIT_LIMIT</th>\n      <th>PAYMENT_AMOUNT</th>\n      <th>UPDATE_DATE</th>\n      <th>...</th>\n      <th>ACCOUNT_TYPE</th>\n      <th>RESPONSABILITY_TYPE</th>\n      <th>TOTAL_PAYMENTS</th>\n      <th>DELAYED_PAYMENTS</th>\n      <th>CURRENT_PAYMENT</th>\n      <th>WORST_DELAY</th>\n      <th>TOTAL_REPORTED_PAYMENTS</th>\n      <th>CURRENT_BALANCE</th>\n      <th>BALANCE_DUE</th>\n      <th>BALANCE_DUE_WORST_DELAY</th>\n    </tr>\n  </thead>\n  <tbody>\n    <tr>\n      <th>0</th>\n      <td>4223</td>\n      <td>2022-04-01 00:32:36.689000+00:00</td>\n      <td>710278-27993a6e-2885-48d4-a753-9249e7022af1</td>\n      <td>2022-04-01 00:00:00</td>\n      <td>SIN OBSERVACION</td>\n      <td>PESOS MEXICANOS</td>\n      <td>1244.0</td>\n      <td>9900.0</td>\n      <td>1244.0</td>\n      <td>2022-02-28 00:00:00</td>\n      <td>...</td>\n      <td>PAGOS FIJOS</td>\n      <td>INDIVIDUAL (TITULAR)</td>\n      <td>12.0</td>\n      <td>7</td>\n      <td>13</td>\n      <td>13.0</td>\n      <td>0</td>\n      <td>1244.0</td>\n      <td>1244.0</td>\n      <td>1244.0</td>\n    </tr>\n    <tr>\n      <th>1</th>\n      <td>4223</td>\n      <td>2022-04-01 00:32:36.689000+00:00</td>\n      <td>710278-27993a6e-2885-48d4-a753-9249e7022af1</td>\n      <td>2022-04-01 00:00:00</td>\n      <td>SIN OBSERVACION</td>\n      <td>PESOS MEXICANOS</td>\n      <td>1722.0</td>\n      <td>9900.0</td>\n      <td>1722.0</td>\n      <td>2022-02-28 00:00:00</td>\n      <td>...</td>\n      <td>REVOLVENTE</td>\n      <td>INDIVIDUAL (TITULAR)</td>\n      <td>0.0</td>\n      <td>3</td>\n      <td>13</td>\n      <td>13.0</td>\n      <td>0</td>\n      <td>1722.0</td>\n      <td>1722.0</td>\n      <td>1722.0</td>\n    </tr>\n    <tr>\n      <th>2</th>\n      <td>4223</td>\n      <td>2022-04-01 00:32:36.689000+00:00</td>\n      <td>710278-27993a6e-2885-48d4-a753-9249e7022af1</td>\n      <td>2022-04-01 00:00:00</td>\n      <td>SIN OBSERVACION</td>\n      <td>PESOS MEXICANOS</td>\n      <td>6346.0</td>\n      <td>0.0</td>\n      <td>482.0</td>\n      <td>2022-03-28 00:00:00</td>\n      <td>...</td>\n      <td>PAGOS FIJOS</td>\n      <td>INDIVIDUAL (TITULAR)</td>\n      <td>16.0</td>\n      <td>0</td>\n      <td>V</td>\n      <td>0.0</td>\n      <td>0</td>\n      <td>943.0</td>\n      <td>0.0</td>\n      <td>0.0</td>\n    </tr>\n    <tr>\n      <th>3</th>\n      <td>3490</td>\n      <td>2022-02-15 02:30:22.086000+00:00</td>\n      <td>622857-6b4e9d95-7491-40c3-bccd-442de7f94c58</td>\n      <td>2022-02-15 00:00:00</td>\n      <td>SIN OBSERVACION</td>\n      <td>PESOS MEXICANOS</td>\n      <td>11600.0</td>\n      <td>0.0</td>\n      <td>232.0</td>\n      <td>2022-02-01 00:00:00</td>\n      <td>...</td>\n      <td>PAGOS FIJOS</td>\n      <td>INDIVIDUAL (TITULAR)</td>\n      <td>100.0</td>\n      <td>4</td>\n      <td>01</td>\n      <td>1.0</td>\n      <td>0</td>\n      <td>6185.0</td>\n      <td>116.0</td>\n      <td>116.0</td>\n    </tr>\n    <tr>\n      <th>4</th>\n      <td>6486</td>\n      <td>2022-06-25 01:57:14.868000+00:00</td>\n      <td>875073-46a5f149-19db-4193-b92a-b8f41fb3e896</td>\n      <td>2022-06-25 00:00:00</td>\n      <td>SIN OBSERVACION</td>\n      <td>PESOS MEXICANOS</td>\n      <td>2452.0</td>\n      <td>16800.0</td>\n      <td>2452.0</td>\n      <td>2021-09-30 00:00:00</td>\n      <td>...</td>\n      <td>REVOLVENTE</td>\n      <td>INDIVIDUAL (TITULAR)</td>\n      <td>0.0</td>\n      <td>19</td>\n      <td>13</td>\n      <td>13.0</td>\n      <td>0</td>\n      <td>2452.0</td>\n      <td>2452.0</td>\n      <td>2452.0</td>\n    </tr>\n    <tr>\n      <th>...</th>\n      <td>...</td>\n      <td>...</td>\n      <td>...</td>\n      <td>...</td>\n      <td>...</td>\n      <td>...</td>\n      <td>...</td>\n      <td>...</td>\n      <td>...</td>\n      <td>...</td>\n      <td>...</td>\n      <td>...</td>\n      <td>...</td>\n      <td>...</td>\n      <td>...</td>\n      <td>...</td>\n      <td>...</td>\n      <td>...</td>\n      <td>...</td>\n      <td>...</td>\n      <td>...</td>\n    </tr>\n    <tr>\n      <th>287351</th>\n      <td>12079</td>\n      <td>2022-12-24 22:21:36.102000+00:00</td>\n      <td>1053785-35891c8d-97ba-4dce-9f5f-e7bf8684473a</td>\n      <td>2022-12-24 00:00:00</td>\n      <td>SIN OBSERVACION</td>\n      <td>PESOS MEXICANOS</td>\n      <td>1609.0</td>\n      <td>1609.0</td>\n      <td>634.0</td>\n      <td>2022-12-01 00:00:00</td>\n      <td>...</td>\n      <td>PAGOS FIJOS</td>\n      <td>INDIVIDUAL (TITULAR)</td>\n      <td>3.0</td>\n      <td>11</td>\n      <td>01</td>\n      <td>1.0</td>\n      <td>0</td>\n      <td>634.0</td>\n      <td>634.0</td>\n      <td>634.0</td>\n    </tr>\n    <tr>\n      <th>287352</th>\n      <td>12079</td>\n      <td>2022-12-24 22:21:36.102000+00:00</td>\n      <td>1053785-35891c8d-97ba-4dce-9f5f-e7bf8684473a</td>\n      <td>2022-12-24 00:00:00</td>\n      <td>SIN OBSERVACION</td>\n      <td>PESOS MEXICANOS</td>\n      <td>248.0</td>\n      <td>248.0</td>\n      <td>263.0</td>\n      <td>2022-12-01 00:00:00</td>\n      <td>...</td>\n      <td>PAGOS FIJOS</td>\n      <td>INDIVIDUAL (TITULAR)</td>\n      <td>1.0</td>\n      <td>11</td>\n      <td>01</td>\n      <td>1.0</td>\n      <td>0</td>\n      <td>263.0</td>\n      <td>263.0</td>\n      <td>263.0</td>\n    </tr>\n    <tr>\n      <th>287353</th>\n      <td>12079</td>\n      <td>2022-12-24 22:21:36.102000+00:00</td>\n      <td>1053785-35891c8d-97ba-4dce-9f5f-e7bf8684473a</td>\n      <td>2022-12-24 00:00:00</td>\n      <td>SIN OBSERVACION</td>\n      <td>PESOS MEXICANOS</td>\n      <td>3267.0</td>\n      <td>3267.0</td>\n      <td>1243.0</td>\n      <td>2022-12-01 00:00:00</td>\n      <td>...</td>\n      <td>PAGOS FIJOS</td>\n      <td>INDIVIDUAL (TITULAR)</td>\n      <td>3.0</td>\n      <td>10</td>\n      <td>03</td>\n      <td>3.0</td>\n      <td>0</td>\n      <td>3666.0</td>\n      <td>3666.0</td>\n      <td>3666.0</td>\n    </tr>\n    <tr>\n      <th>287354</th>\n      <td>12079</td>\n      <td>2022-12-24 22:21:36.102000+00:00</td>\n      <td>1053785-35891c8d-97ba-4dce-9f5f-e7bf8684473a</td>\n      <td>2022-12-24 00:00:00</td>\n      <td>SIN OBSERVACION</td>\n      <td>PESOS MEXICANOS</td>\n      <td>496.0</td>\n      <td>496.0</td>\n      <td>189.0</td>\n      <td>2022-12-01 00:00:00</td>\n      <td>...</td>\n      <td>PAGOS FIJOS</td>\n      <td>INDIVIDUAL (TITULAR)</td>\n      <td>3.0</td>\n      <td>10</td>\n      <td>03</td>\n      <td>3.0</td>\n      <td>0</td>\n      <td>557.0</td>\n      <td>557.0</td>\n      <td>557.0</td>\n    </tr>\n    <tr>\n      <th>287355</th>\n      <td>12079</td>\n      <td>2022-12-24 22:21:36.102000+00:00</td>\n      <td>1053785-35891c8d-97ba-4dce-9f5f-e7bf8684473a</td>\n      <td>2022-12-24 00:00:00</td>\n      <td>CUENTA QUE CAUSA QUEBRANTO</td>\n      <td>PESOS MEXICANOS</td>\n      <td>26458.0</td>\n      <td>0.0</td>\n      <td>9882.0</td>\n      <td>2022-12-15 00:00:00</td>\n      <td>...</td>\n      <td>PAGOS FIJOS</td>\n      <td>INDIVIDUAL (TITULAR)</td>\n      <td>102.0</td>\n      <td>73</td>\n      <td>84</td>\n      <td>84.0</td>\n      <td>0</td>\n      <td>9882.0</td>\n      <td>9882.0</td>\n      <td>9882.0</td>\n    </tr>\n  </tbody>\n</table>\n<p>287356 rows × 29 columns</p>\n</div>"
     },
     "execution_count": 3,
     "metadata": {},
     "output_type": "execute_result"
    }
   ],
   "source": [
    "# Información externa de buro de crédito\n",
    "credit_reports = pd.read_parquet(\"credit_reports.parquet\", dtype_backend=\"pyarrow\")\n",
    "credit_reports\n",
    "# El cliente ID aparece varias veces, contiene registros del buro de crédito de varias consultas a lo largo del tiempo por lo que puede variar el estatus o calidad crediticia de la persona"
   ],
   "metadata": {
    "collapsed": false,
    "ExecuteTime": {
     "end_time": "2023-10-30T15:11:13.418003Z",
     "start_time": "2023-10-30T15:11:13.327723Z"
    }
   }
  },
  {
   "cell_type": "markdown",
   "source": [
    "### 1.2) Análisis explotario de datos  (AED)\n",
    "Antes de iniciar el tratamiento de los datos  es recomendable hacer una breve insepción y exploraación de los datos"
   ],
   "metadata": {
    "collapsed": false
   }
  },
  {
   "cell_type": "markdown",
   "source": [
    "#### 1.2.1) Coicidencia entre sets de datos\n",
    "Veremos cuantos clientes tiene cada set de datos y en cuantos de ellos hay una coicidencia"
   ],
   "metadata": {
    "collapsed": false
   }
  },
  {
   "cell_type": "code",
   "execution_count": 4,
   "outputs": [
    {
     "name": "stdout",
     "output_type": "stream",
     "text": [
      "Cantidad de clientes en el set de datos 'main_dataset': 14454\n",
      "Cantidad de clientes en el 'credit_report': 9249\n"
     ]
    }
   ],
   "source": [
    "print(\"Cantidad de clientes en el set de datos 'main_dataset':\", len(main_dataset[\"customer_id\"].unique()))\n",
    "print(\"Cantidad de clientes en el 'credit_report':\", len(credit_reports[\"customer_id\"].unique()))"
   ],
   "metadata": {
    "collapsed": false,
    "ExecuteTime": {
     "end_time": "2023-10-30T15:11:17.780214Z",
     "start_time": "2023-10-30T15:11:17.768525Z"
    }
   }
  },
  {
   "cell_type": "markdown",
   "source": [
    "**IMPORTANTE:**  Hay una diferencia importante en el número de clientes sin historial. Voy a tomar la desición de solo continuar con los clientes que cuentan con datos historicos para el proceso de entrenamiento. Esto dado la importancia en los datos contenidos en el credit_report"
   ],
   "metadata": {
    "collapsed": false
   }
  },
  {
   "cell_type": "markdown",
   "source": [
    "#### 1.2.2) Valores nulos\n",
    "Exploración de registros nulos en ambos set de datos"
   ],
   "metadata": {
    "collapsed": false
   }
  },
  {
   "cell_type": "code",
   "execution_count": 5,
   "outputs": [
    {
     "data": {
      "text/plain": "customer_id                       0\nloan_id                           0\nACC_CREATION_DATETIME             0\nAPPLICATION_DATETIME              0\nLOAN_ORIGINATION_DATETIME         0\nmax_days_late                     0\ntarget                            0\naccount_to_application_days       0\nn_sf_apps                      7648\nfirst_app_date                 7648\nlast_app_date                  7648\nn_bnpl_apps                    5715\nn_bnpl_approved_apps           5715\nfirst_bnpl_app_date            5715\nlast_bnpl_app_date             5715\nn_inquiries_l3m                5371\nn_inquiries_l6m                5371\ndtype: int64"
     },
     "execution_count": 5,
     "metadata": {},
     "output_type": "execute_result"
    }
   ],
   "source": [
    "# Inspección de valores nulos en el main dataset (datos internos de la empresa)\n",
    "main_dataset.isnull().sum()"
   ],
   "metadata": {
    "collapsed": false,
    "ExecuteTime": {
     "end_time": "2023-10-30T15:11:19.649642Z",
     "start_time": "2023-10-30T15:11:19.636474Z"
    }
   }
  },
  {
   "cell_type": "code",
   "execution_count": 6,
   "outputs": [
    {
     "data": {
      "text/plain": "customer_id                     0\nINQUIRY_TIME                    0\nCDC_INQUIRY_ID                 89\nINQUIRY_DATE                   89\nPREVENTION_KEY                 89\nCURRENCY                       89\nMAX_CREDIT                    182\nCREDIT_LIMIT                 8357\nPAYMENT_AMOUNT                 89\nUPDATE_DATE                    89\nLOAN_OPENING_DATE              89\nLOAN_CLOSING_DATE           94747\nWORST_DELAY_DATE           202698\nREPORT_DATE                    89\nLAST_PURCHASE_DATE           4142\nLAST_PAYMENT_DATE           31677\nPAYMENT_FREQUENCY              89\nBUSINESS_TYPE                  89\nCREDIT_TYPE                    89\nACCOUNT_TYPE                   89\nRESPONSABILITY_TYPE            89\nTOTAL_PAYMENTS              18645\nDELAYED_PAYMENTS               89\nCURRENT_PAYMENT                89\nWORST_DELAY                  3210\nTOTAL_REPORTED_PAYMENTS     41941\nCURRENT_BALANCE                89\nBALANCE_DUE                    89\nBALANCE_DUE_WORST_DELAY        89\ndtype: int64"
     },
     "execution_count": 6,
     "metadata": {},
     "output_type": "execute_result"
    }
   ],
   "source": [
    "# Revision de valores nulos en el dataset de datos externos (buro de credito)\n",
    "credit_reports.isnull().sum()  # Se observa valores nulos en varias columnas"
   ],
   "metadata": {
    "collapsed": false,
    "ExecuteTime": {
     "end_time": "2023-10-30T15:11:20.697068Z",
     "start_time": "2023-10-30T15:11:20.621574Z"
    }
   }
  },
  {
   "cell_type": "markdown",
   "source": [
    "#### 1.2.3) Valores duplicados\n",
    "Inspección de valores duplicados en ambos set de datos"
   ],
   "metadata": {
    "collapsed": false
   }
  },
  {
   "cell_type": "code",
   "execution_count": 9,
   "outputs": [
    {
     "ename": "NotImplementedError",
     "evalue": "",
     "output_type": "error",
     "traceback": [
      "\u001B[0;31m---------------------------------------------------------------------------\u001B[0m",
      "\u001B[0;31mNotImplementedError\u001B[0m                       Traceback (most recent call last)",
      "Cell \u001B[0;32mIn[9], line 1\u001B[0m\n\u001B[0;32m----> 1\u001B[0m duplicados_por_columna \u001B[38;5;241m=\u001B[39m credit_reports\u001B[38;5;241m.\u001B[39mapply(\u001B[38;5;28;01mlambda\u001B[39;00m col: col\u001B[38;5;241m.\u001B[39mduplicated(keep\u001B[38;5;241m=\u001B[39m\u001B[38;5;124m'\u001B[39m\u001B[38;5;124mfirst\u001B[39m\u001B[38;5;124m'\u001B[39m)\u001B[38;5;241m.\u001B[39msum())\n\u001B[1;32m      2\u001B[0m duplicados_por_columna\n",
      "File \u001B[0;32m~/miniconda3/envs/Data_Science/lib/python3.11/site-packages/pandas/core/frame.py:10037\u001B[0m, in \u001B[0;36mDataFrame.apply\u001B[0;34m(self, func, axis, raw, result_type, args, by_row, **kwargs)\u001B[0m\n\u001B[1;32m  10025\u001B[0m \u001B[38;5;28;01mfrom\u001B[39;00m \u001B[38;5;21;01mpandas\u001B[39;00m\u001B[38;5;21;01m.\u001B[39;00m\u001B[38;5;21;01mcore\u001B[39;00m\u001B[38;5;21;01m.\u001B[39;00m\u001B[38;5;21;01mapply\u001B[39;00m \u001B[38;5;28;01mimport\u001B[39;00m frame_apply\n\u001B[1;32m  10027\u001B[0m op \u001B[38;5;241m=\u001B[39m frame_apply(\n\u001B[1;32m  10028\u001B[0m     \u001B[38;5;28mself\u001B[39m,\n\u001B[1;32m  10029\u001B[0m     func\u001B[38;5;241m=\u001B[39mfunc,\n\u001B[0;32m   (...)\u001B[0m\n\u001B[1;32m  10035\u001B[0m     kwargs\u001B[38;5;241m=\u001B[39mkwargs,\n\u001B[1;32m  10036\u001B[0m )\n\u001B[0;32m> 10037\u001B[0m \u001B[38;5;28;01mreturn\u001B[39;00m op\u001B[38;5;241m.\u001B[39mapply()\u001B[38;5;241m.\u001B[39m__finalize__(\u001B[38;5;28mself\u001B[39m, method\u001B[38;5;241m=\u001B[39m\u001B[38;5;124m\"\u001B[39m\u001B[38;5;124mapply\u001B[39m\u001B[38;5;124m\"\u001B[39m)\n",
      "File \u001B[0;32m~/miniconda3/envs/Data_Science/lib/python3.11/site-packages/pandas/core/apply.py:831\u001B[0m, in \u001B[0;36mFrameApply.apply\u001B[0;34m(self)\u001B[0m\n\u001B[1;32m    828\u001B[0m \u001B[38;5;28;01melif\u001B[39;00m \u001B[38;5;28mself\u001B[39m\u001B[38;5;241m.\u001B[39mraw:\n\u001B[1;32m    829\u001B[0m     \u001B[38;5;28;01mreturn\u001B[39;00m \u001B[38;5;28mself\u001B[39m\u001B[38;5;241m.\u001B[39mapply_raw()\n\u001B[0;32m--> 831\u001B[0m \u001B[38;5;28;01mreturn\u001B[39;00m \u001B[38;5;28mself\u001B[39m\u001B[38;5;241m.\u001B[39mapply_standard()\n",
      "File \u001B[0;32m~/miniconda3/envs/Data_Science/lib/python3.11/site-packages/pandas/core/apply.py:957\u001B[0m, in \u001B[0;36mFrameApply.apply_standard\u001B[0;34m(self)\u001B[0m\n\u001B[1;32m    956\u001B[0m \u001B[38;5;28;01mdef\u001B[39;00m \u001B[38;5;21mapply_standard\u001B[39m(\u001B[38;5;28mself\u001B[39m):\n\u001B[0;32m--> 957\u001B[0m     results, res_index \u001B[38;5;241m=\u001B[39m \u001B[38;5;28mself\u001B[39m\u001B[38;5;241m.\u001B[39mapply_series_generator()\n\u001B[1;32m    959\u001B[0m     \u001B[38;5;66;03m# wrap results\u001B[39;00m\n\u001B[1;32m    960\u001B[0m     \u001B[38;5;28;01mreturn\u001B[39;00m \u001B[38;5;28mself\u001B[39m\u001B[38;5;241m.\u001B[39mwrap_results(results, res_index)\n",
      "File \u001B[0;32m~/miniconda3/envs/Data_Science/lib/python3.11/site-packages/pandas/core/apply.py:973\u001B[0m, in \u001B[0;36mFrameApply.apply_series_generator\u001B[0;34m(self)\u001B[0m\n\u001B[1;32m    970\u001B[0m \u001B[38;5;28;01mwith\u001B[39;00m option_context(\u001B[38;5;124m\"\u001B[39m\u001B[38;5;124mmode.chained_assignment\u001B[39m\u001B[38;5;124m\"\u001B[39m, \u001B[38;5;28;01mNone\u001B[39;00m):\n\u001B[1;32m    971\u001B[0m     \u001B[38;5;28;01mfor\u001B[39;00m i, v \u001B[38;5;129;01min\u001B[39;00m \u001B[38;5;28menumerate\u001B[39m(series_gen):\n\u001B[1;32m    972\u001B[0m         \u001B[38;5;66;03m# ignore SettingWithCopy here in case the user mutates\u001B[39;00m\n\u001B[0;32m--> 973\u001B[0m         results[i] \u001B[38;5;241m=\u001B[39m \u001B[38;5;28mself\u001B[39m\u001B[38;5;241m.\u001B[39mfunc(v, \u001B[38;5;241m*\u001B[39m\u001B[38;5;28mself\u001B[39m\u001B[38;5;241m.\u001B[39margs, \u001B[38;5;241m*\u001B[39m\u001B[38;5;241m*\u001B[39m\u001B[38;5;28mself\u001B[39m\u001B[38;5;241m.\u001B[39mkwargs)\n\u001B[1;32m    974\u001B[0m         \u001B[38;5;28;01mif\u001B[39;00m \u001B[38;5;28misinstance\u001B[39m(results[i], ABCSeries):\n\u001B[1;32m    975\u001B[0m             \u001B[38;5;66;03m# If we have a view on v, we need to make a copy because\u001B[39;00m\n\u001B[1;32m    976\u001B[0m             \u001B[38;5;66;03m#  series_generator will swap out the underlying data\u001B[39;00m\n\u001B[1;32m    977\u001B[0m             results[i] \u001B[38;5;241m=\u001B[39m results[i]\u001B[38;5;241m.\u001B[39mcopy(deep\u001B[38;5;241m=\u001B[39m\u001B[38;5;28;01mFalse\u001B[39;00m)\n",
      "Cell \u001B[0;32mIn[9], line 1\u001B[0m, in \u001B[0;36m<lambda>\u001B[0;34m(col)\u001B[0m\n\u001B[0;32m----> 1\u001B[0m duplicados_por_columna \u001B[38;5;241m=\u001B[39m credit_reports\u001B[38;5;241m.\u001B[39mapply(\u001B[38;5;28;01mlambda\u001B[39;00m col: col\u001B[38;5;241m.\u001B[39mduplicated(keep\u001B[38;5;241m=\u001B[39m\u001B[38;5;124m'\u001B[39m\u001B[38;5;124mfirst\u001B[39m\u001B[38;5;124m'\u001B[39m)\u001B[38;5;241m.\u001B[39msum())\n\u001B[1;32m      2\u001B[0m duplicados_por_columna\n",
      "File \u001B[0;32m~/miniconda3/envs/Data_Science/lib/python3.11/site-packages/pandas/core/series.py:2484\u001B[0m, in \u001B[0;36mSeries.duplicated\u001B[0;34m(self, keep)\u001B[0m\n\u001B[1;32m   2408\u001B[0m \u001B[38;5;28;01mdef\u001B[39;00m \u001B[38;5;21mduplicated\u001B[39m(\u001B[38;5;28mself\u001B[39m, keep: DropKeep \u001B[38;5;241m=\u001B[39m \u001B[38;5;124m\"\u001B[39m\u001B[38;5;124mfirst\u001B[39m\u001B[38;5;124m\"\u001B[39m) \u001B[38;5;241m-\u001B[39m\u001B[38;5;241m>\u001B[39m Series:\n\u001B[1;32m   2409\u001B[0m \u001B[38;5;250m    \u001B[39m\u001B[38;5;124;03m\"\"\"\u001B[39;00m\n\u001B[1;32m   2410\u001B[0m \u001B[38;5;124;03m    Indicate duplicate Series values.\u001B[39;00m\n\u001B[1;32m   2411\u001B[0m \n\u001B[0;32m   (...)\u001B[0m\n\u001B[1;32m   2482\u001B[0m \u001B[38;5;124;03m    dtype: bool\u001B[39;00m\n\u001B[1;32m   2483\u001B[0m \u001B[38;5;124;03m    \"\"\"\u001B[39;00m\n\u001B[0;32m-> 2484\u001B[0m     res \u001B[38;5;241m=\u001B[39m \u001B[38;5;28mself\u001B[39m\u001B[38;5;241m.\u001B[39m_duplicated(keep\u001B[38;5;241m=\u001B[39mkeep)\n\u001B[1;32m   2485\u001B[0m     result \u001B[38;5;241m=\u001B[39m \u001B[38;5;28mself\u001B[39m\u001B[38;5;241m.\u001B[39m_constructor(res, index\u001B[38;5;241m=\u001B[39m\u001B[38;5;28mself\u001B[39m\u001B[38;5;241m.\u001B[39mindex, copy\u001B[38;5;241m=\u001B[39m\u001B[38;5;28;01mFalse\u001B[39;00m)\n\u001B[1;32m   2486\u001B[0m     \u001B[38;5;28;01mreturn\u001B[39;00m result\u001B[38;5;241m.\u001B[39m__finalize__(\u001B[38;5;28mself\u001B[39m, method\u001B[38;5;241m=\u001B[39m\u001B[38;5;124m\"\u001B[39m\u001B[38;5;124mduplicated\u001B[39m\u001B[38;5;124m\"\u001B[39m)\n",
      "File \u001B[0;32m~/miniconda3/envs/Data_Science/lib/python3.11/site-packages/pandas/core/base.py:1368\u001B[0m, in \u001B[0;36mIndexOpsMixin._duplicated\u001B[0;34m(self, keep)\u001B[0m\n\u001B[1;32m   1366\u001B[0m \u001B[38;5;129m@final\u001B[39m\n\u001B[1;32m   1367\u001B[0m \u001B[38;5;28;01mdef\u001B[39;00m \u001B[38;5;21m_duplicated\u001B[39m(\u001B[38;5;28mself\u001B[39m, keep: DropKeep \u001B[38;5;241m=\u001B[39m \u001B[38;5;124m\"\u001B[39m\u001B[38;5;124mfirst\u001B[39m\u001B[38;5;124m\"\u001B[39m) \u001B[38;5;241m-\u001B[39m\u001B[38;5;241m>\u001B[39m npt\u001B[38;5;241m.\u001B[39mNDArray[np\u001B[38;5;241m.\u001B[39mbool_]:\n\u001B[0;32m-> 1368\u001B[0m     \u001B[38;5;28;01mreturn\u001B[39;00m algorithms\u001B[38;5;241m.\u001B[39mduplicated(\u001B[38;5;28mself\u001B[39m\u001B[38;5;241m.\u001B[39m_values, keep\u001B[38;5;241m=\u001B[39mkeep)\n",
      "File \u001B[0;32m~/miniconda3/envs/Data_Science/lib/python3.11/site-packages/pandas/core/algorithms.py:1002\u001B[0m, in \u001B[0;36mduplicated\u001B[0;34m(values, keep)\u001B[0m\n\u001B[1;32m   1000\u001B[0m \u001B[38;5;28;01mif\u001B[39;00m \u001B[38;5;28mhasattr\u001B[39m(values, \u001B[38;5;124m\"\u001B[39m\u001B[38;5;124mdtype\u001B[39m\u001B[38;5;124m\"\u001B[39m):\n\u001B[1;32m   1001\u001B[0m     \u001B[38;5;28;01mif\u001B[39;00m \u001B[38;5;28misinstance\u001B[39m(values\u001B[38;5;241m.\u001B[39mdtype, ArrowDtype):\n\u001B[0;32m-> 1002\u001B[0m         values \u001B[38;5;241m=\u001B[39m values\u001B[38;5;241m.\u001B[39m_to_masked()  \u001B[38;5;66;03m# type: ignore[union-attr]\u001B[39;00m\n\u001B[1;32m   1004\u001B[0m     \u001B[38;5;28;01mif\u001B[39;00m \u001B[38;5;28misinstance\u001B[39m(values\u001B[38;5;241m.\u001B[39mdtype, BaseMaskedDtype):\n\u001B[1;32m   1005\u001B[0m         values \u001B[38;5;241m=\u001B[39m cast(\u001B[38;5;124m\"\u001B[39m\u001B[38;5;124mBaseMaskedArray\u001B[39m\u001B[38;5;124m\"\u001B[39m, values)\n",
      "File \u001B[0;32m~/miniconda3/envs/Data_Science/lib/python3.11/site-packages/pandas/core/arrays/arrow/array.py:1964\u001B[0m, in \u001B[0;36mArrowExtensionArray._to_masked\u001B[0;34m(self)\u001B[0m\n\u001B[1;32m   1962\u001B[0m     na_value \u001B[38;5;241m=\u001B[39m \u001B[38;5;28;01mTrue\u001B[39;00m\n\u001B[1;32m   1963\u001B[0m \u001B[38;5;28;01melse\u001B[39;00m:\n\u001B[0;32m-> 1964\u001B[0m     \u001B[38;5;28;01mraise\u001B[39;00m \u001B[38;5;167;01mNotImplementedError\u001B[39;00m\n\u001B[1;32m   1966\u001B[0m dtype \u001B[38;5;241m=\u001B[39m _arrow_dtype_mapping()[pa_dtype]\n\u001B[1;32m   1967\u001B[0m mask \u001B[38;5;241m=\u001B[39m \u001B[38;5;28mself\u001B[39m\u001B[38;5;241m.\u001B[39misna()\n",
      "\u001B[0;31mNotImplementedError\u001B[0m: "
     ]
    }
   ],
   "source": [
    "%%time\n",
    "duplicados_por_columna = credit_reports.apply(lambda col: col.duplicated(keep='first').sum())\n",
    "duplicados_por_columna # Este DF contiene un número importante de valores duplicados, la documentación menciona que"
   ],
   "metadata": {
    "collapsed": false,
    "ExecuteTime": {
     "end_time": "2023-10-30T15:12:11.100817Z",
     "start_time": "2023-10-30T15:12:10.982845Z"
    }
   }
  },
  {
   "cell_type": "markdown",
   "source": [
    "#### 1.2.4) Inspección de algunas variables en el dataset de credit_reports\n",
    "Haremos una exploración de un par de variables con el fin de tener una mejor comprensión del comportamiento crediticio de los clientes.\n",
    "\n",
    "Leyendo la documentación proporcionada me surge el interés por ver algunos puntos previos al tratamiento de datos, estos puntos son los siguientes:\n",
    "\n",
    "- Cantidad de prestamos por tipo de credito solicitado (Variable CREDIT_TYPE)\n",
    "- Cantidad de prestamos por plazo solicitados (Variable PAYMENT_FREQUENCY)\n",
    "- Distribución de limites de crédito"
   ],
   "metadata": {
    "collapsed": false
   }
  },
  {
   "cell_type": "markdown",
   "source": [
    "##### 1.2.4.1) Cantidad de prestamos por tipo de crédito solicitado"
   ],
   "metadata": {
    "collapsed": false
   }
  },
  {
   "cell_type": "code",
   "execution_count": 45,
   "outputs": [
    {
     "data": {
      "text/plain": "        customer_id                     INQUIRY_TIME  \\\n0                 1 2022-06-16 18:06:37.677000-05:00   \n1                 1 2022-06-16 18:06:37.677000-05:00   \n2                 1 2022-06-16 18:06:37.677000-05:00   \n3                 1 2022-06-16 18:06:37.677000-05:00   \n4                 1 2022-06-16 18:06:37.677000-05:00   \n...             ...                              ...   \n262854        14416 2023-04-24 17:36:56.539000-06:00   \n262855        14416 2023-04-24 17:36:56.539000-06:00   \n262856        14416 2023-04-24 17:36:56.539000-06:00   \n262857        14416 2023-04-24 17:36:56.539000-06:00   \n262858        14416 2023-04-24 17:36:56.539000-06:00   \n\n                                      CDC_INQUIRY_ID INQUIRY_DATE  \\\n0           102-b978ce50-aa84-4910-92dd-b3c721e7d831   2022-06-16   \n1           102-b978ce50-aa84-4910-92dd-b3c721e7d831   2022-06-16   \n2           102-b978ce50-aa84-4910-92dd-b3c721e7d831   2022-06-16   \n3           102-b978ce50-aa84-4910-92dd-b3c721e7d831   2022-06-16   \n4           102-b978ce50-aa84-4910-92dd-b3c721e7d831   2022-06-16   \n...                                              ...          ...   \n262854  1169801-55d3f904-d9ce-4ad2-bb39-457595c1859b   2023-04-24   \n262855  1169801-55d3f904-d9ce-4ad2-bb39-457595c1859b   2023-04-24   \n262856  1169801-55d3f904-d9ce-4ad2-bb39-457595c1859b   2023-04-24   \n262857  1169801-55d3f904-d9ce-4ad2-bb39-457595c1859b   2023-04-24   \n262858  1169801-55d3f904-d9ce-4ad2-bb39-457595c1859b   2023-04-24   \n\n                    PREVENTION_KEY         CURRENCY  MAX_CREDIT  CREDIT_LIMIT  \\\n0                  SIN OBSERVACION  PESOS MEXICANOS         0.0           0.0   \n1       CUENTA CANCELADA O CERRADA  PESOS MEXICANOS     26509.0       57340.0   \n2                  SIN OBSERVACION  PESOS MEXICANOS      2675.0       20000.0   \n3                  SIN OBSERVACION  PESOS MEXICANOS     25627.0      134000.0   \n4       CUENTA CANCELADA O CERRADA  PESOS MEXICANOS     22710.0       50000.0   \n...                            ...              ...         ...           ...   \n262854  CUENTA CANCELADA O CERRADA  PESOS MEXICANOS      4999.0        4999.0   \n262855             SIN OBSERVACION  PESOS MEXICANOS    121970.0      121970.0   \n262856             SIN OBSERVACION  PESOS MEXICANOS       716.0       15600.0   \n262857             SIN OBSERVACION  PESOS MEXICANOS      9984.0        9984.0   \n262858             SIN OBSERVACION  PESOS MEXICANOS         0.0         500.0   \n\n        PAYMENT_AMOUNT UPDATE_DATE  ...               ACCOUNT_TYPE  \\\n0                  0.0  2022-05-31  ...  SIN LIMITE PREESTABLECIDO   \n1                  0.0  2018-05-30  ...                 REVOLVENTE   \n2                  0.0  2022-06-10  ...  SIN LIMITE PREESTABLECIDO   \n3                  0.0  2022-05-25  ...                 REVOLVENTE   \n4                  0.0  2018-01-24  ...                 REVOLVENTE   \n...                ...         ...  ...                        ...   \n262854             0.0  2019-12-20  ...                PAGOS FIJOS   \n262855        121970.0  2023-03-31  ...  SIN LIMITE PREESTABLECIDO   \n262856         13457.0  2023-02-28  ...                PAGOS FIJOS   \n262857             0.0  2023-04-02  ...                PAGOS FIJOS   \n262858             0.0  2023-03-31  ...                 REVOLVENTE   \n\n         RESPONSABILITY_TYPE TOTAL_PAYMENTS DELAYED_PAYMENTS CURRENT_PAYMENT  \\\n0       INDIVIDUAL (TITULAR)            1.0              0.0               V   \n1       INDIVIDUAL (TITULAR)            NaN              0.0               V   \n2       INDIVIDUAL (TITULAR)            NaN              0.0               V   \n3       INDIVIDUAL (TITULAR)            NaN              1.0               V   \n4       INDIVIDUAL (TITULAR)            NaN              0.0               V   \n...                      ...            ...              ...             ...   \n262854  INDIVIDUAL (TITULAR)            NaN              6.0               V   \n262855  INDIVIDUAL (TITULAR)            0.0             24.0              53   \n262856  INDIVIDUAL (TITULAR)           12.0              7.0              22   \n262857  INDIVIDUAL (TITULAR)           52.0              0.0               V   \n262858  INDIVIDUAL (TITULAR)            0.0              0.0               V   \n\n       WORST_DELAY TOTAL_REPORTED_PAYMENTS CURRENT_BALANCE BALANCE_DUE  \\\n0              0.0                     0.0             0.0         0.0   \n1              0.0                     NaN             0.0         0.0   \n2              0.0                     NaN             0.0         0.0   \n3              1.0                     NaN             0.0         0.0   \n4              0.0                     NaN             0.0         0.0   \n...            ...                     ...             ...         ...   \n262854         2.0                     NaN             0.0         0.0   \n262855        53.0                     0.0        121970.0    121970.0   \n262856        30.0                     0.0         13457.0     13457.0   \n262857         0.0                     0.0             0.0         0.0   \n262858         0.0                     0.0             0.0         0.0   \n\n       BALANCE_DUE_WORST_DELAY  \n0                          0.0  \n1                          0.0  \n2                          0.0  \n3                          0.0  \n4                          0.0  \n...                        ...  \n262854                     0.0  \n262855                121970.0  \n262856                  4511.0  \n262857                     0.0  \n262858                     0.0  \n\n[262859 rows x 29 columns]",
      "text/html": "<div>\n<style scoped>\n    .dataframe tbody tr th:only-of-type {\n        vertical-align: middle;\n    }\n\n    .dataframe tbody tr th {\n        vertical-align: top;\n    }\n\n    .dataframe thead th {\n        text-align: right;\n    }\n</style>\n<table border=\"1\" class=\"dataframe\">\n  <thead>\n    <tr style=\"text-align: right;\">\n      <th></th>\n      <th>customer_id</th>\n      <th>INQUIRY_TIME</th>\n      <th>CDC_INQUIRY_ID</th>\n      <th>INQUIRY_DATE</th>\n      <th>PREVENTION_KEY</th>\n      <th>CURRENCY</th>\n      <th>MAX_CREDIT</th>\n      <th>CREDIT_LIMIT</th>\n      <th>PAYMENT_AMOUNT</th>\n      <th>UPDATE_DATE</th>\n      <th>...</th>\n      <th>ACCOUNT_TYPE</th>\n      <th>RESPONSABILITY_TYPE</th>\n      <th>TOTAL_PAYMENTS</th>\n      <th>DELAYED_PAYMENTS</th>\n      <th>CURRENT_PAYMENT</th>\n      <th>WORST_DELAY</th>\n      <th>TOTAL_REPORTED_PAYMENTS</th>\n      <th>CURRENT_BALANCE</th>\n      <th>BALANCE_DUE</th>\n      <th>BALANCE_DUE_WORST_DELAY</th>\n    </tr>\n  </thead>\n  <tbody>\n    <tr>\n      <th>0</th>\n      <td>1</td>\n      <td>2022-06-16 18:06:37.677000-05:00</td>\n      <td>102-b978ce50-aa84-4910-92dd-b3c721e7d831</td>\n      <td>2022-06-16</td>\n      <td>SIN OBSERVACION</td>\n      <td>PESOS MEXICANOS</td>\n      <td>0.0</td>\n      <td>0.0</td>\n      <td>0.0</td>\n      <td>2022-05-31</td>\n      <td>...</td>\n      <td>SIN LIMITE PREESTABLECIDO</td>\n      <td>INDIVIDUAL (TITULAR)</td>\n      <td>1.0</td>\n      <td>0.0</td>\n      <td>V</td>\n      <td>0.0</td>\n      <td>0.0</td>\n      <td>0.0</td>\n      <td>0.0</td>\n      <td>0.0</td>\n    </tr>\n    <tr>\n      <th>1</th>\n      <td>1</td>\n      <td>2022-06-16 18:06:37.677000-05:00</td>\n      <td>102-b978ce50-aa84-4910-92dd-b3c721e7d831</td>\n      <td>2022-06-16</td>\n      <td>CUENTA CANCELADA O CERRADA</td>\n      <td>PESOS MEXICANOS</td>\n      <td>26509.0</td>\n      <td>57340.0</td>\n      <td>0.0</td>\n      <td>2018-05-30</td>\n      <td>...</td>\n      <td>REVOLVENTE</td>\n      <td>INDIVIDUAL (TITULAR)</td>\n      <td>NaN</td>\n      <td>0.0</td>\n      <td>V</td>\n      <td>0.0</td>\n      <td>NaN</td>\n      <td>0.0</td>\n      <td>0.0</td>\n      <td>0.0</td>\n    </tr>\n    <tr>\n      <th>2</th>\n      <td>1</td>\n      <td>2022-06-16 18:06:37.677000-05:00</td>\n      <td>102-b978ce50-aa84-4910-92dd-b3c721e7d831</td>\n      <td>2022-06-16</td>\n      <td>SIN OBSERVACION</td>\n      <td>PESOS MEXICANOS</td>\n      <td>2675.0</td>\n      <td>20000.0</td>\n      <td>0.0</td>\n      <td>2022-06-10</td>\n      <td>...</td>\n      <td>SIN LIMITE PREESTABLECIDO</td>\n      <td>INDIVIDUAL (TITULAR)</td>\n      <td>NaN</td>\n      <td>0.0</td>\n      <td>V</td>\n      <td>0.0</td>\n      <td>NaN</td>\n      <td>0.0</td>\n      <td>0.0</td>\n      <td>0.0</td>\n    </tr>\n    <tr>\n      <th>3</th>\n      <td>1</td>\n      <td>2022-06-16 18:06:37.677000-05:00</td>\n      <td>102-b978ce50-aa84-4910-92dd-b3c721e7d831</td>\n      <td>2022-06-16</td>\n      <td>SIN OBSERVACION</td>\n      <td>PESOS MEXICANOS</td>\n      <td>25627.0</td>\n      <td>134000.0</td>\n      <td>0.0</td>\n      <td>2022-05-25</td>\n      <td>...</td>\n      <td>REVOLVENTE</td>\n      <td>INDIVIDUAL (TITULAR)</td>\n      <td>NaN</td>\n      <td>1.0</td>\n      <td>V</td>\n      <td>1.0</td>\n      <td>NaN</td>\n      <td>0.0</td>\n      <td>0.0</td>\n      <td>0.0</td>\n    </tr>\n    <tr>\n      <th>4</th>\n      <td>1</td>\n      <td>2022-06-16 18:06:37.677000-05:00</td>\n      <td>102-b978ce50-aa84-4910-92dd-b3c721e7d831</td>\n      <td>2022-06-16</td>\n      <td>CUENTA CANCELADA O CERRADA</td>\n      <td>PESOS MEXICANOS</td>\n      <td>22710.0</td>\n      <td>50000.0</td>\n      <td>0.0</td>\n      <td>2018-01-24</td>\n      <td>...</td>\n      <td>REVOLVENTE</td>\n      <td>INDIVIDUAL (TITULAR)</td>\n      <td>NaN</td>\n      <td>0.0</td>\n      <td>V</td>\n      <td>0.0</td>\n      <td>NaN</td>\n      <td>0.0</td>\n      <td>0.0</td>\n      <td>0.0</td>\n    </tr>\n    <tr>\n      <th>...</th>\n      <td>...</td>\n      <td>...</td>\n      <td>...</td>\n      <td>...</td>\n      <td>...</td>\n      <td>...</td>\n      <td>...</td>\n      <td>...</td>\n      <td>...</td>\n      <td>...</td>\n      <td>...</td>\n      <td>...</td>\n      <td>...</td>\n      <td>...</td>\n      <td>...</td>\n      <td>...</td>\n      <td>...</td>\n      <td>...</td>\n      <td>...</td>\n      <td>...</td>\n      <td>...</td>\n    </tr>\n    <tr>\n      <th>262854</th>\n      <td>14416</td>\n      <td>2023-04-24 17:36:56.539000-06:00</td>\n      <td>1169801-55d3f904-d9ce-4ad2-bb39-457595c1859b</td>\n      <td>2023-04-24</td>\n      <td>CUENTA CANCELADA O CERRADA</td>\n      <td>PESOS MEXICANOS</td>\n      <td>4999.0</td>\n      <td>4999.0</td>\n      <td>0.0</td>\n      <td>2019-12-20</td>\n      <td>...</td>\n      <td>PAGOS FIJOS</td>\n      <td>INDIVIDUAL (TITULAR)</td>\n      <td>NaN</td>\n      <td>6.0</td>\n      <td>V</td>\n      <td>2.0</td>\n      <td>NaN</td>\n      <td>0.0</td>\n      <td>0.0</td>\n      <td>0.0</td>\n    </tr>\n    <tr>\n      <th>262855</th>\n      <td>14416</td>\n      <td>2023-04-24 17:36:56.539000-06:00</td>\n      <td>1169801-55d3f904-d9ce-4ad2-bb39-457595c1859b</td>\n      <td>2023-04-24</td>\n      <td>SIN OBSERVACION</td>\n      <td>PESOS MEXICANOS</td>\n      <td>121970.0</td>\n      <td>121970.0</td>\n      <td>121970.0</td>\n      <td>2023-03-31</td>\n      <td>...</td>\n      <td>SIN LIMITE PREESTABLECIDO</td>\n      <td>INDIVIDUAL (TITULAR)</td>\n      <td>0.0</td>\n      <td>24.0</td>\n      <td>53</td>\n      <td>53.0</td>\n      <td>0.0</td>\n      <td>121970.0</td>\n      <td>121970.0</td>\n      <td>121970.0</td>\n    </tr>\n    <tr>\n      <th>262856</th>\n      <td>14416</td>\n      <td>2023-04-24 17:36:56.539000-06:00</td>\n      <td>1169801-55d3f904-d9ce-4ad2-bb39-457595c1859b</td>\n      <td>2023-04-24</td>\n      <td>SIN OBSERVACION</td>\n      <td>PESOS MEXICANOS</td>\n      <td>716.0</td>\n      <td>15600.0</td>\n      <td>13457.0</td>\n      <td>2023-02-28</td>\n      <td>...</td>\n      <td>PAGOS FIJOS</td>\n      <td>INDIVIDUAL (TITULAR)</td>\n      <td>12.0</td>\n      <td>7.0</td>\n      <td>22</td>\n      <td>30.0</td>\n      <td>0.0</td>\n      <td>13457.0</td>\n      <td>13457.0</td>\n      <td>4511.0</td>\n    </tr>\n    <tr>\n      <th>262857</th>\n      <td>14416</td>\n      <td>2023-04-24 17:36:56.539000-06:00</td>\n      <td>1169801-55d3f904-d9ce-4ad2-bb39-457595c1859b</td>\n      <td>2023-04-24</td>\n      <td>SIN OBSERVACION</td>\n      <td>PESOS MEXICANOS</td>\n      <td>9984.0</td>\n      <td>9984.0</td>\n      <td>0.0</td>\n      <td>2023-04-02</td>\n      <td>...</td>\n      <td>PAGOS FIJOS</td>\n      <td>INDIVIDUAL (TITULAR)</td>\n      <td>52.0</td>\n      <td>0.0</td>\n      <td>V</td>\n      <td>0.0</td>\n      <td>0.0</td>\n      <td>0.0</td>\n      <td>0.0</td>\n      <td>0.0</td>\n    </tr>\n    <tr>\n      <th>262858</th>\n      <td>14416</td>\n      <td>2023-04-24 17:36:56.539000-06:00</td>\n      <td>1169801-55d3f904-d9ce-4ad2-bb39-457595c1859b</td>\n      <td>2023-04-24</td>\n      <td>SIN OBSERVACION</td>\n      <td>PESOS MEXICANOS</td>\n      <td>0.0</td>\n      <td>500.0</td>\n      <td>0.0</td>\n      <td>2023-03-31</td>\n      <td>...</td>\n      <td>REVOLVENTE</td>\n      <td>INDIVIDUAL (TITULAR)</td>\n      <td>0.0</td>\n      <td>0.0</td>\n      <td>V</td>\n      <td>0.0</td>\n      <td>0.0</td>\n      <td>0.0</td>\n      <td>0.0</td>\n      <td>0.0</td>\n    </tr>\n  </tbody>\n</table>\n<p>262859 rows × 29 columns</p>\n</div>"
     },
     "execution_count": 45,
     "metadata": {},
     "output_type": "execute_result"
    }
   ],
   "source": [
    "# como no hay un ID del prestamos supondre que la persona abrio solo un credito en un dia por tipo de categoria, plazazo y tipo de crédito esto no es lo más optimo pues puede colarse errores pero me dará una idea de la distribucion de los tipos de crédito (lo hago asi porque no hay un ID_LOAN)\n",
    "\n",
    "tipos_credito = duckdb.sql(\"SELECT DISTINCT ON (customer_id, LOAN_OPENING_DATE, PAYMENT_FREQUENCY, CREDIT_TYPE) * FROM credit_reports ORDER BY customer_id, LOAN_OPENING_DATE, PAYMENT_FREQUENCY, CREDIT_TYPE\").to_df()\n",
    "\n",
    "tipos_credito"
   ],
   "metadata": {
    "collapsed": false,
    "ExecuteTime": {
     "end_time": "2023-10-29T01:52:52.855468600Z",
     "start_time": "2023-10-29T01:52:51.724197200Z"
    }
   }
  },
  {
   "cell_type": "code",
   "execution_count": 46,
   "outputs": [
    {
     "data": {
      "text/plain": "    Total_Creditos                   CREDIT_TYPE\n0            59553            CREDITO AL CONSUMO\n1                0                          None\n2               14    PRESTAMO PERSONAL BANCARIO\n3              640                 ARRENDAMIENTO\n4            21460              LINEA DE CREDITO\n5            11116               GRUPO SOLIDARIO\n6                3                 CONSOLIDACION\n7                7                        EQUIPO\n8                6      PRESTAMO PARA ESTUDIANTE\n9           120503             PRESTAMO PERSONAL\n10           13915            TARJETA DE CREDITO\n11             371             MEJORAS A LA CASA\n12               2                   FONDEO FIRA\n13               3           AUTOMOTRIZ BANCARIO\n14             392           COMPRA DE AUTOMOVIL\n15             511          PRESTAMO GARANTIZADO\n16             639                 BIENES RAICES\n17               5                   DESCONOCIDO\n18               6                     FACTORAJE\n19            9091              APARATOS/MUEBLES\n20             145  FISICA ACTIVIDAD EMPRESARIAL\n21            6778                         OTROS\n22            4503            PRESTAMO DE NOMINA\n23            1151                CREDITO FISCAL\n24              50          PRESTAMO EMPRESARIAL\n25              40        PRESTAMO QUIROGRAFARIO\n26              14         TARJETA DEPARTAMENTAL\n27               2                        FIANZA\n28              43       PRESTAMO NO GARANTIZADO\n29             325               BANCA COMERCIAL\n30            9080   CREDITO PERSONAL AL CONSUMO\n31            1249                 NO DISPONIBLE\n32            1141        HIPOTECARIO O VIVIENDA\n33              23      ARRENDAMIENTO AUTOMOTRIZ",
      "text/html": "<div>\n<style scoped>\n    .dataframe tbody tr th:only-of-type {\n        vertical-align: middle;\n    }\n\n    .dataframe tbody tr th {\n        vertical-align: top;\n    }\n\n    .dataframe thead th {\n        text-align: right;\n    }\n</style>\n<table border=\"1\" class=\"dataframe\">\n  <thead>\n    <tr style=\"text-align: right;\">\n      <th></th>\n      <th>Total_Creditos</th>\n      <th>CREDIT_TYPE</th>\n    </tr>\n  </thead>\n  <tbody>\n    <tr>\n      <th>0</th>\n      <td>59553</td>\n      <td>CREDITO AL CONSUMO</td>\n    </tr>\n    <tr>\n      <th>1</th>\n      <td>0</td>\n      <td>None</td>\n    </tr>\n    <tr>\n      <th>2</th>\n      <td>14</td>\n      <td>PRESTAMO PERSONAL BANCARIO</td>\n    </tr>\n    <tr>\n      <th>3</th>\n      <td>640</td>\n      <td>ARRENDAMIENTO</td>\n    </tr>\n    <tr>\n      <th>4</th>\n      <td>21460</td>\n      <td>LINEA DE CREDITO</td>\n    </tr>\n    <tr>\n      <th>5</th>\n      <td>11116</td>\n      <td>GRUPO SOLIDARIO</td>\n    </tr>\n    <tr>\n      <th>6</th>\n      <td>3</td>\n      <td>CONSOLIDACION</td>\n    </tr>\n    <tr>\n      <th>7</th>\n      <td>7</td>\n      <td>EQUIPO</td>\n    </tr>\n    <tr>\n      <th>8</th>\n      <td>6</td>\n      <td>PRESTAMO PARA ESTUDIANTE</td>\n    </tr>\n    <tr>\n      <th>9</th>\n      <td>120503</td>\n      <td>PRESTAMO PERSONAL</td>\n    </tr>\n    <tr>\n      <th>10</th>\n      <td>13915</td>\n      <td>TARJETA DE CREDITO</td>\n    </tr>\n    <tr>\n      <th>11</th>\n      <td>371</td>\n      <td>MEJORAS A LA CASA</td>\n    </tr>\n    <tr>\n      <th>12</th>\n      <td>2</td>\n      <td>FONDEO FIRA</td>\n    </tr>\n    <tr>\n      <th>13</th>\n      <td>3</td>\n      <td>AUTOMOTRIZ BANCARIO</td>\n    </tr>\n    <tr>\n      <th>14</th>\n      <td>392</td>\n      <td>COMPRA DE AUTOMOVIL</td>\n    </tr>\n    <tr>\n      <th>15</th>\n      <td>511</td>\n      <td>PRESTAMO GARANTIZADO</td>\n    </tr>\n    <tr>\n      <th>16</th>\n      <td>639</td>\n      <td>BIENES RAICES</td>\n    </tr>\n    <tr>\n      <th>17</th>\n      <td>5</td>\n      <td>DESCONOCIDO</td>\n    </tr>\n    <tr>\n      <th>18</th>\n      <td>6</td>\n      <td>FACTORAJE</td>\n    </tr>\n    <tr>\n      <th>19</th>\n      <td>9091</td>\n      <td>APARATOS/MUEBLES</td>\n    </tr>\n    <tr>\n      <th>20</th>\n      <td>145</td>\n      <td>FISICA ACTIVIDAD EMPRESARIAL</td>\n    </tr>\n    <tr>\n      <th>21</th>\n      <td>6778</td>\n      <td>OTROS</td>\n    </tr>\n    <tr>\n      <th>22</th>\n      <td>4503</td>\n      <td>PRESTAMO DE NOMINA</td>\n    </tr>\n    <tr>\n      <th>23</th>\n      <td>1151</td>\n      <td>CREDITO FISCAL</td>\n    </tr>\n    <tr>\n      <th>24</th>\n      <td>50</td>\n      <td>PRESTAMO EMPRESARIAL</td>\n    </tr>\n    <tr>\n      <th>25</th>\n      <td>40</td>\n      <td>PRESTAMO QUIROGRAFARIO</td>\n    </tr>\n    <tr>\n      <th>26</th>\n      <td>14</td>\n      <td>TARJETA DEPARTAMENTAL</td>\n    </tr>\n    <tr>\n      <th>27</th>\n      <td>2</td>\n      <td>FIANZA</td>\n    </tr>\n    <tr>\n      <th>28</th>\n      <td>43</td>\n      <td>PRESTAMO NO GARANTIZADO</td>\n    </tr>\n    <tr>\n      <th>29</th>\n      <td>325</td>\n      <td>BANCA COMERCIAL</td>\n    </tr>\n    <tr>\n      <th>30</th>\n      <td>9080</td>\n      <td>CREDITO PERSONAL AL CONSUMO</td>\n    </tr>\n    <tr>\n      <th>31</th>\n      <td>1249</td>\n      <td>NO DISPONIBLE</td>\n    </tr>\n    <tr>\n      <th>32</th>\n      <td>1141</td>\n      <td>HIPOTECARIO O VIVIENDA</td>\n    </tr>\n    <tr>\n      <th>33</th>\n      <td>23</td>\n      <td>ARRENDAMIENTO AUTOMOTRIZ</td>\n    </tr>\n  </tbody>\n</table>\n</div>"
     },
     "execution_count": 46,
     "metadata": {},
     "output_type": "execute_result"
    }
   ],
   "source": [
    "# Ahora agrupamos\n",
    "tipos_credito = duckdb.sql(\"select count(CREDIT_TYPE) as Total_Creditos, CREDIT_TYPE from tipos_credito group by CREDIT_TYPE\").to_df()\n",
    "tipos_credito"
   ],
   "metadata": {
    "collapsed": false,
    "ExecuteTime": {
     "end_time": "2023-10-29T01:52:53.512791500Z",
     "start_time": "2023-10-29T01:52:53.473736200Z"
    }
   }
  },
  {
   "cell_type": "code",
   "execution_count": 51,
   "outputs": [
    {
     "data": {
      "application/vnd.plotly.v1+json": {
       "data": [
        {
         "domain": {
          "x": [
           0.0,
           1.0
          ],
          "y": [
           0.0,
           1.0
          ]
         },
         "hovertemplate": "CREDIT_TYPE=%{label}<br>Total_Creditos=%{value}<extra></extra>",
         "labels": [
          "CREDITO AL CONSUMO",
          null,
          "PRESTAMO PERSONAL BANCARIO",
          "ARRENDAMIENTO",
          "LINEA DE CREDITO",
          "GRUPO SOLIDARIO",
          "CONSOLIDACION",
          "EQUIPO",
          "PRESTAMO PARA ESTUDIANTE",
          "PRESTAMO PERSONAL",
          "TARJETA DE CREDITO",
          "MEJORAS A LA CASA",
          "FONDEO FIRA",
          "AUTOMOTRIZ BANCARIO",
          "COMPRA DE AUTOMOVIL",
          "PRESTAMO GARANTIZADO",
          "BIENES RAICES",
          "DESCONOCIDO",
          "FACTORAJE",
          "APARATOS/MUEBLES",
          "FISICA ACTIVIDAD EMPRESARIAL",
          "OTROS",
          "PRESTAMO DE NOMINA",
          "CREDITO FISCAL",
          "PRESTAMO EMPRESARIAL",
          "PRESTAMO QUIROGRAFARIO",
          "TARJETA DEPARTAMENTAL",
          "FIANZA",
          "PRESTAMO NO GARANTIZADO",
          "BANCA COMERCIAL",
          "CREDITO PERSONAL AL CONSUMO",
          "NO DISPONIBLE",
          "HIPOTECARIO O VIVIENDA",
          "ARRENDAMIENTO AUTOMOTRIZ"
         ],
         "legendgroup": "",
         "name": "",
         "showlegend": true,
         "values": [
          59553,
          0,
          14,
          640,
          21460,
          11116,
          3,
          7,
          6,
          120503,
          13915,
          371,
          2,
          3,
          392,
          511,
          639,
          5,
          6,
          9091,
          145,
          6778,
          4503,
          1151,
          50,
          40,
          14,
          2,
          43,
          325,
          9080,
          1249,
          1141,
          23
         ],
         "type": "pie",
         "textposition": "inside"
        }
       ],
       "layout": {
        "template": {
         "data": {
          "histogram2dcontour": [
           {
            "type": "histogram2dcontour",
            "colorbar": {
             "outlinewidth": 0,
             "ticks": ""
            },
            "colorscale": [
             [
              0.0,
              "#0d0887"
             ],
             [
              0.1111111111111111,
              "#46039f"
             ],
             [
              0.2222222222222222,
              "#7201a8"
             ],
             [
              0.3333333333333333,
              "#9c179e"
             ],
             [
              0.4444444444444444,
              "#bd3786"
             ],
             [
              0.5555555555555556,
              "#d8576b"
             ],
             [
              0.6666666666666666,
              "#ed7953"
             ],
             [
              0.7777777777777778,
              "#fb9f3a"
             ],
             [
              0.8888888888888888,
              "#fdca26"
             ],
             [
              1.0,
              "#f0f921"
             ]
            ]
           }
          ],
          "choropleth": [
           {
            "type": "choropleth",
            "colorbar": {
             "outlinewidth": 0,
             "ticks": ""
            }
           }
          ],
          "histogram2d": [
           {
            "type": "histogram2d",
            "colorbar": {
             "outlinewidth": 0,
             "ticks": ""
            },
            "colorscale": [
             [
              0.0,
              "#0d0887"
             ],
             [
              0.1111111111111111,
              "#46039f"
             ],
             [
              0.2222222222222222,
              "#7201a8"
             ],
             [
              0.3333333333333333,
              "#9c179e"
             ],
             [
              0.4444444444444444,
              "#bd3786"
             ],
             [
              0.5555555555555556,
              "#d8576b"
             ],
             [
              0.6666666666666666,
              "#ed7953"
             ],
             [
              0.7777777777777778,
              "#fb9f3a"
             ],
             [
              0.8888888888888888,
              "#fdca26"
             ],
             [
              1.0,
              "#f0f921"
             ]
            ]
           }
          ],
          "heatmap": [
           {
            "type": "heatmap",
            "colorbar": {
             "outlinewidth": 0,
             "ticks": ""
            },
            "colorscale": [
             [
              0.0,
              "#0d0887"
             ],
             [
              0.1111111111111111,
              "#46039f"
             ],
             [
              0.2222222222222222,
              "#7201a8"
             ],
             [
              0.3333333333333333,
              "#9c179e"
             ],
             [
              0.4444444444444444,
              "#bd3786"
             ],
             [
              0.5555555555555556,
              "#d8576b"
             ],
             [
              0.6666666666666666,
              "#ed7953"
             ],
             [
              0.7777777777777778,
              "#fb9f3a"
             ],
             [
              0.8888888888888888,
              "#fdca26"
             ],
             [
              1.0,
              "#f0f921"
             ]
            ]
           }
          ],
          "heatmapgl": [
           {
            "type": "heatmapgl",
            "colorbar": {
             "outlinewidth": 0,
             "ticks": ""
            },
            "colorscale": [
             [
              0.0,
              "#0d0887"
             ],
             [
              0.1111111111111111,
              "#46039f"
             ],
             [
              0.2222222222222222,
              "#7201a8"
             ],
             [
              0.3333333333333333,
              "#9c179e"
             ],
             [
              0.4444444444444444,
              "#bd3786"
             ],
             [
              0.5555555555555556,
              "#d8576b"
             ],
             [
              0.6666666666666666,
              "#ed7953"
             ],
             [
              0.7777777777777778,
              "#fb9f3a"
             ],
             [
              0.8888888888888888,
              "#fdca26"
             ],
             [
              1.0,
              "#f0f921"
             ]
            ]
           }
          ],
          "contourcarpet": [
           {
            "type": "contourcarpet",
            "colorbar": {
             "outlinewidth": 0,
             "ticks": ""
            }
           }
          ],
          "contour": [
           {
            "type": "contour",
            "colorbar": {
             "outlinewidth": 0,
             "ticks": ""
            },
            "colorscale": [
             [
              0.0,
              "#0d0887"
             ],
             [
              0.1111111111111111,
              "#46039f"
             ],
             [
              0.2222222222222222,
              "#7201a8"
             ],
             [
              0.3333333333333333,
              "#9c179e"
             ],
             [
              0.4444444444444444,
              "#bd3786"
             ],
             [
              0.5555555555555556,
              "#d8576b"
             ],
             [
              0.6666666666666666,
              "#ed7953"
             ],
             [
              0.7777777777777778,
              "#fb9f3a"
             ],
             [
              0.8888888888888888,
              "#fdca26"
             ],
             [
              1.0,
              "#f0f921"
             ]
            ]
           }
          ],
          "surface": [
           {
            "type": "surface",
            "colorbar": {
             "outlinewidth": 0,
             "ticks": ""
            },
            "colorscale": [
             [
              0.0,
              "#0d0887"
             ],
             [
              0.1111111111111111,
              "#46039f"
             ],
             [
              0.2222222222222222,
              "#7201a8"
             ],
             [
              0.3333333333333333,
              "#9c179e"
             ],
             [
              0.4444444444444444,
              "#bd3786"
             ],
             [
              0.5555555555555556,
              "#d8576b"
             ],
             [
              0.6666666666666666,
              "#ed7953"
             ],
             [
              0.7777777777777778,
              "#fb9f3a"
             ],
             [
              0.8888888888888888,
              "#fdca26"
             ],
             [
              1.0,
              "#f0f921"
             ]
            ]
           }
          ],
          "mesh3d": [
           {
            "type": "mesh3d",
            "colorbar": {
             "outlinewidth": 0,
             "ticks": ""
            }
           }
          ],
          "scatter": [
           {
            "fillpattern": {
             "fillmode": "overlay",
             "size": 10,
             "solidity": 0.2
            },
            "type": "scatter"
           }
          ],
          "parcoords": [
           {
            "type": "parcoords",
            "line": {
             "colorbar": {
              "outlinewidth": 0,
              "ticks": ""
             }
            }
           }
          ],
          "scatterpolargl": [
           {
            "type": "scatterpolargl",
            "marker": {
             "colorbar": {
              "outlinewidth": 0,
              "ticks": ""
             }
            }
           }
          ],
          "bar": [
           {
            "error_x": {
             "color": "#2a3f5f"
            },
            "error_y": {
             "color": "#2a3f5f"
            },
            "marker": {
             "line": {
              "color": "#E5ECF6",
              "width": 0.5
             },
             "pattern": {
              "fillmode": "overlay",
              "size": 10,
              "solidity": 0.2
             }
            },
            "type": "bar"
           }
          ],
          "scattergeo": [
           {
            "type": "scattergeo",
            "marker": {
             "colorbar": {
              "outlinewidth": 0,
              "ticks": ""
             }
            }
           }
          ],
          "scatterpolar": [
           {
            "type": "scatterpolar",
            "marker": {
             "colorbar": {
              "outlinewidth": 0,
              "ticks": ""
             }
            }
           }
          ],
          "histogram": [
           {
            "marker": {
             "pattern": {
              "fillmode": "overlay",
              "size": 10,
              "solidity": 0.2
             }
            },
            "type": "histogram"
           }
          ],
          "scattergl": [
           {
            "type": "scattergl",
            "marker": {
             "colorbar": {
              "outlinewidth": 0,
              "ticks": ""
             }
            }
           }
          ],
          "scatter3d": [
           {
            "type": "scatter3d",
            "line": {
             "colorbar": {
              "outlinewidth": 0,
              "ticks": ""
             }
            },
            "marker": {
             "colorbar": {
              "outlinewidth": 0,
              "ticks": ""
             }
            }
           }
          ],
          "scattermapbox": [
           {
            "type": "scattermapbox",
            "marker": {
             "colorbar": {
              "outlinewidth": 0,
              "ticks": ""
             }
            }
           }
          ],
          "scatterternary": [
           {
            "type": "scatterternary",
            "marker": {
             "colorbar": {
              "outlinewidth": 0,
              "ticks": ""
             }
            }
           }
          ],
          "scattercarpet": [
           {
            "type": "scattercarpet",
            "marker": {
             "colorbar": {
              "outlinewidth": 0,
              "ticks": ""
             }
            }
           }
          ],
          "carpet": [
           {
            "aaxis": {
             "endlinecolor": "#2a3f5f",
             "gridcolor": "white",
             "linecolor": "white",
             "minorgridcolor": "white",
             "startlinecolor": "#2a3f5f"
            },
            "baxis": {
             "endlinecolor": "#2a3f5f",
             "gridcolor": "white",
             "linecolor": "white",
             "minorgridcolor": "white",
             "startlinecolor": "#2a3f5f"
            },
            "type": "carpet"
           }
          ],
          "table": [
           {
            "cells": {
             "fill": {
              "color": "#EBF0F8"
             },
             "line": {
              "color": "white"
             }
            },
            "header": {
             "fill": {
              "color": "#C8D4E3"
             },
             "line": {
              "color": "white"
             }
            },
            "type": "table"
           }
          ],
          "barpolar": [
           {
            "marker": {
             "line": {
              "color": "#E5ECF6",
              "width": 0.5
             },
             "pattern": {
              "fillmode": "overlay",
              "size": 10,
              "solidity": 0.2
             }
            },
            "type": "barpolar"
           }
          ],
          "pie": [
           {
            "automargin": true,
            "type": "pie"
           }
          ]
         },
         "layout": {
          "autotypenumbers": "strict",
          "colorway": [
           "#636efa",
           "#EF553B",
           "#00cc96",
           "#ab63fa",
           "#FFA15A",
           "#19d3f3",
           "#FF6692",
           "#B6E880",
           "#FF97FF",
           "#FECB52"
          ],
          "font": {
           "color": "#2a3f5f"
          },
          "hovermode": "closest",
          "hoverlabel": {
           "align": "left"
          },
          "paper_bgcolor": "white",
          "plot_bgcolor": "#E5ECF6",
          "polar": {
           "bgcolor": "#E5ECF6",
           "angularaxis": {
            "gridcolor": "white",
            "linecolor": "white",
            "ticks": ""
           },
           "radialaxis": {
            "gridcolor": "white",
            "linecolor": "white",
            "ticks": ""
           }
          },
          "ternary": {
           "bgcolor": "#E5ECF6",
           "aaxis": {
            "gridcolor": "white",
            "linecolor": "white",
            "ticks": ""
           },
           "baxis": {
            "gridcolor": "white",
            "linecolor": "white",
            "ticks": ""
           },
           "caxis": {
            "gridcolor": "white",
            "linecolor": "white",
            "ticks": ""
           }
          },
          "coloraxis": {
           "colorbar": {
            "outlinewidth": 0,
            "ticks": ""
           }
          },
          "colorscale": {
           "sequential": [
            [
             0.0,
             "#0d0887"
            ],
            [
             0.1111111111111111,
             "#46039f"
            ],
            [
             0.2222222222222222,
             "#7201a8"
            ],
            [
             0.3333333333333333,
             "#9c179e"
            ],
            [
             0.4444444444444444,
             "#bd3786"
            ],
            [
             0.5555555555555556,
             "#d8576b"
            ],
            [
             0.6666666666666666,
             "#ed7953"
            ],
            [
             0.7777777777777778,
             "#fb9f3a"
            ],
            [
             0.8888888888888888,
             "#fdca26"
            ],
            [
             1.0,
             "#f0f921"
            ]
           ],
           "sequentialminus": [
            [
             0.0,
             "#0d0887"
            ],
            [
             0.1111111111111111,
             "#46039f"
            ],
            [
             0.2222222222222222,
             "#7201a8"
            ],
            [
             0.3333333333333333,
             "#9c179e"
            ],
            [
             0.4444444444444444,
             "#bd3786"
            ],
            [
             0.5555555555555556,
             "#d8576b"
            ],
            [
             0.6666666666666666,
             "#ed7953"
            ],
            [
             0.7777777777777778,
             "#fb9f3a"
            ],
            [
             0.8888888888888888,
             "#fdca26"
            ],
            [
             1.0,
             "#f0f921"
            ]
           ],
           "diverging": [
            [
             0,
             "#8e0152"
            ],
            [
             0.1,
             "#c51b7d"
            ],
            [
             0.2,
             "#de77ae"
            ],
            [
             0.3,
             "#f1b6da"
            ],
            [
             0.4,
             "#fde0ef"
            ],
            [
             0.5,
             "#f7f7f7"
            ],
            [
             0.6,
             "#e6f5d0"
            ],
            [
             0.7,
             "#b8e186"
            ],
            [
             0.8,
             "#7fbc41"
            ],
            [
             0.9,
             "#4d9221"
            ],
            [
             1,
             "#276419"
            ]
           ]
          },
          "xaxis": {
           "gridcolor": "white",
           "linecolor": "white",
           "ticks": "",
           "title": {
            "standoff": 15
           },
           "zerolinecolor": "white",
           "automargin": true,
           "zerolinewidth": 2
          },
          "yaxis": {
           "gridcolor": "white",
           "linecolor": "white",
           "ticks": "",
           "title": {
            "standoff": 15
           },
           "zerolinecolor": "white",
           "automargin": true,
           "zerolinewidth": 2
          },
          "scene": {
           "xaxis": {
            "backgroundcolor": "#E5ECF6",
            "gridcolor": "white",
            "linecolor": "white",
            "showbackground": true,
            "ticks": "",
            "zerolinecolor": "white",
            "gridwidth": 2
           },
           "yaxis": {
            "backgroundcolor": "#E5ECF6",
            "gridcolor": "white",
            "linecolor": "white",
            "showbackground": true,
            "ticks": "",
            "zerolinecolor": "white",
            "gridwidth": 2
           },
           "zaxis": {
            "backgroundcolor": "#E5ECF6",
            "gridcolor": "white",
            "linecolor": "white",
            "showbackground": true,
            "ticks": "",
            "zerolinecolor": "white",
            "gridwidth": 2
           }
          },
          "shapedefaults": {
           "line": {
            "color": "#2a3f5f"
           }
          },
          "annotationdefaults": {
           "arrowcolor": "#2a3f5f",
           "arrowhead": 0,
           "arrowwidth": 1
          },
          "geo": {
           "bgcolor": "white",
           "landcolor": "#E5ECF6",
           "subunitcolor": "white",
           "showland": true,
           "showlakes": true,
           "lakecolor": "white"
          },
          "title": {
           "x": 0.05
          },
          "mapbox": {
           "style": "light"
          }
         }
        },
        "legend": {
         "tracegroupgap": 0
        },
        "title": {
         "text": "Distribución por tipos de créditos (estimación)"
        }
       },
       "config": {
        "plotlyServerURL": "https://plot.ly"
       }
      },
      "text/html": "<div>                            <div id=\"8caf9fff-c831-4421-9fb3-85e25990985d\" class=\"plotly-graph-div\" style=\"height:525px; width:100%;\"></div>            <script type=\"text/javascript\">                require([\"plotly\"], function(Plotly) {                    window.PLOTLYENV=window.PLOTLYENV || {};                                    if (document.getElementById(\"8caf9fff-c831-4421-9fb3-85e25990985d\")) {                    Plotly.newPlot(                        \"8caf9fff-c831-4421-9fb3-85e25990985d\",                        [{\"domain\":{\"x\":[0.0,1.0],\"y\":[0.0,1.0]},\"hovertemplate\":\"CREDIT_TYPE=%{label}\\u003cbr\\u003eTotal_Creditos=%{value}\\u003cextra\\u003e\\u003c\\u002fextra\\u003e\",\"labels\":[\"CREDITO AL CONSUMO\",null,\"PRESTAMO PERSONAL BANCARIO\",\"ARRENDAMIENTO\",\"LINEA DE CREDITO\",\"GRUPO SOLIDARIO\",\"CONSOLIDACION\",\"EQUIPO\",\"PRESTAMO PARA ESTUDIANTE\",\"PRESTAMO PERSONAL\",\"TARJETA DE CREDITO\",\"MEJORAS A LA CASA\",\"FONDEO FIRA\",\"AUTOMOTRIZ BANCARIO\",\"COMPRA DE AUTOMOVIL\",\"PRESTAMO GARANTIZADO\",\"BIENES RAICES\",\"DESCONOCIDO\",\"FACTORAJE\",\"APARATOS\\u002fMUEBLES\",\"FISICA ACTIVIDAD EMPRESARIAL\",\"OTROS\",\"PRESTAMO DE NOMINA\",\"CREDITO FISCAL\",\"PRESTAMO EMPRESARIAL\",\"PRESTAMO QUIROGRAFARIO\",\"TARJETA DEPARTAMENTAL\",\"FIANZA\",\"PRESTAMO NO GARANTIZADO\",\"BANCA COMERCIAL\",\"CREDITO PERSONAL AL CONSUMO\",\"NO DISPONIBLE\",\"HIPOTECARIO O VIVIENDA\",\"ARRENDAMIENTO AUTOMOTRIZ\"],\"legendgroup\":\"\",\"name\":\"\",\"showlegend\":true,\"values\":[59553,0,14,640,21460,11116,3,7,6,120503,13915,371,2,3,392,511,639,5,6,9091,145,6778,4503,1151,50,40,14,2,43,325,9080,1249,1141,23],\"type\":\"pie\",\"textposition\":\"inside\"}],                        {\"template\":{\"data\":{\"histogram2dcontour\":[{\"type\":\"histogram2dcontour\",\"colorbar\":{\"outlinewidth\":0,\"ticks\":\"\"},\"colorscale\":[[0.0,\"#0d0887\"],[0.1111111111111111,\"#46039f\"],[0.2222222222222222,\"#7201a8\"],[0.3333333333333333,\"#9c179e\"],[0.4444444444444444,\"#bd3786\"],[0.5555555555555556,\"#d8576b\"],[0.6666666666666666,\"#ed7953\"],[0.7777777777777778,\"#fb9f3a\"],[0.8888888888888888,\"#fdca26\"],[1.0,\"#f0f921\"]]}],\"choropleth\":[{\"type\":\"choropleth\",\"colorbar\":{\"outlinewidth\":0,\"ticks\":\"\"}}],\"histogram2d\":[{\"type\":\"histogram2d\",\"colorbar\":{\"outlinewidth\":0,\"ticks\":\"\"},\"colorscale\":[[0.0,\"#0d0887\"],[0.1111111111111111,\"#46039f\"],[0.2222222222222222,\"#7201a8\"],[0.3333333333333333,\"#9c179e\"],[0.4444444444444444,\"#bd3786\"],[0.5555555555555556,\"#d8576b\"],[0.6666666666666666,\"#ed7953\"],[0.7777777777777778,\"#fb9f3a\"],[0.8888888888888888,\"#fdca26\"],[1.0,\"#f0f921\"]]}],\"heatmap\":[{\"type\":\"heatmap\",\"colorbar\":{\"outlinewidth\":0,\"ticks\":\"\"},\"colorscale\":[[0.0,\"#0d0887\"],[0.1111111111111111,\"#46039f\"],[0.2222222222222222,\"#7201a8\"],[0.3333333333333333,\"#9c179e\"],[0.4444444444444444,\"#bd3786\"],[0.5555555555555556,\"#d8576b\"],[0.6666666666666666,\"#ed7953\"],[0.7777777777777778,\"#fb9f3a\"],[0.8888888888888888,\"#fdca26\"],[1.0,\"#f0f921\"]]}],\"heatmapgl\":[{\"type\":\"heatmapgl\",\"colorbar\":{\"outlinewidth\":0,\"ticks\":\"\"},\"colorscale\":[[0.0,\"#0d0887\"],[0.1111111111111111,\"#46039f\"],[0.2222222222222222,\"#7201a8\"],[0.3333333333333333,\"#9c179e\"],[0.4444444444444444,\"#bd3786\"],[0.5555555555555556,\"#d8576b\"],[0.6666666666666666,\"#ed7953\"],[0.7777777777777778,\"#fb9f3a\"],[0.8888888888888888,\"#fdca26\"],[1.0,\"#f0f921\"]]}],\"contourcarpet\":[{\"type\":\"contourcarpet\",\"colorbar\":{\"outlinewidth\":0,\"ticks\":\"\"}}],\"contour\":[{\"type\":\"contour\",\"colorbar\":{\"outlinewidth\":0,\"ticks\":\"\"},\"colorscale\":[[0.0,\"#0d0887\"],[0.1111111111111111,\"#46039f\"],[0.2222222222222222,\"#7201a8\"],[0.3333333333333333,\"#9c179e\"],[0.4444444444444444,\"#bd3786\"],[0.5555555555555556,\"#d8576b\"],[0.6666666666666666,\"#ed7953\"],[0.7777777777777778,\"#fb9f3a\"],[0.8888888888888888,\"#fdca26\"],[1.0,\"#f0f921\"]]}],\"surface\":[{\"type\":\"surface\",\"colorbar\":{\"outlinewidth\":0,\"ticks\":\"\"},\"colorscale\":[[0.0,\"#0d0887\"],[0.1111111111111111,\"#46039f\"],[0.2222222222222222,\"#7201a8\"],[0.3333333333333333,\"#9c179e\"],[0.4444444444444444,\"#bd3786\"],[0.5555555555555556,\"#d8576b\"],[0.6666666666666666,\"#ed7953\"],[0.7777777777777778,\"#fb9f3a\"],[0.8888888888888888,\"#fdca26\"],[1.0,\"#f0f921\"]]}],\"mesh3d\":[{\"type\":\"mesh3d\",\"colorbar\":{\"outlinewidth\":0,\"ticks\":\"\"}}],\"scatter\":[{\"fillpattern\":{\"fillmode\":\"overlay\",\"size\":10,\"solidity\":0.2},\"type\":\"scatter\"}],\"parcoords\":[{\"type\":\"parcoords\",\"line\":{\"colorbar\":{\"outlinewidth\":0,\"ticks\":\"\"}}}],\"scatterpolargl\":[{\"type\":\"scatterpolargl\",\"marker\":{\"colorbar\":{\"outlinewidth\":0,\"ticks\":\"\"}}}],\"bar\":[{\"error_x\":{\"color\":\"#2a3f5f\"},\"error_y\":{\"color\":\"#2a3f5f\"},\"marker\":{\"line\":{\"color\":\"#E5ECF6\",\"width\":0.5},\"pattern\":{\"fillmode\":\"overlay\",\"size\":10,\"solidity\":0.2}},\"type\":\"bar\"}],\"scattergeo\":[{\"type\":\"scattergeo\",\"marker\":{\"colorbar\":{\"outlinewidth\":0,\"ticks\":\"\"}}}],\"scatterpolar\":[{\"type\":\"scatterpolar\",\"marker\":{\"colorbar\":{\"outlinewidth\":0,\"ticks\":\"\"}}}],\"histogram\":[{\"marker\":{\"pattern\":{\"fillmode\":\"overlay\",\"size\":10,\"solidity\":0.2}},\"type\":\"histogram\"}],\"scattergl\":[{\"type\":\"scattergl\",\"marker\":{\"colorbar\":{\"outlinewidth\":0,\"ticks\":\"\"}}}],\"scatter3d\":[{\"type\":\"scatter3d\",\"line\":{\"colorbar\":{\"outlinewidth\":0,\"ticks\":\"\"}},\"marker\":{\"colorbar\":{\"outlinewidth\":0,\"ticks\":\"\"}}}],\"scattermapbox\":[{\"type\":\"scattermapbox\",\"marker\":{\"colorbar\":{\"outlinewidth\":0,\"ticks\":\"\"}}}],\"scatterternary\":[{\"type\":\"scatterternary\",\"marker\":{\"colorbar\":{\"outlinewidth\":0,\"ticks\":\"\"}}}],\"scattercarpet\":[{\"type\":\"scattercarpet\",\"marker\":{\"colorbar\":{\"outlinewidth\":0,\"ticks\":\"\"}}}],\"carpet\":[{\"aaxis\":{\"endlinecolor\":\"#2a3f5f\",\"gridcolor\":\"white\",\"linecolor\":\"white\",\"minorgridcolor\":\"white\",\"startlinecolor\":\"#2a3f5f\"},\"baxis\":{\"endlinecolor\":\"#2a3f5f\",\"gridcolor\":\"white\",\"linecolor\":\"white\",\"minorgridcolor\":\"white\",\"startlinecolor\":\"#2a3f5f\"},\"type\":\"carpet\"}],\"table\":[{\"cells\":{\"fill\":{\"color\":\"#EBF0F8\"},\"line\":{\"color\":\"white\"}},\"header\":{\"fill\":{\"color\":\"#C8D4E3\"},\"line\":{\"color\":\"white\"}},\"type\":\"table\"}],\"barpolar\":[{\"marker\":{\"line\":{\"color\":\"#E5ECF6\",\"width\":0.5},\"pattern\":{\"fillmode\":\"overlay\",\"size\":10,\"solidity\":0.2}},\"type\":\"barpolar\"}],\"pie\":[{\"automargin\":true,\"type\":\"pie\"}]},\"layout\":{\"autotypenumbers\":\"strict\",\"colorway\":[\"#636efa\",\"#EF553B\",\"#00cc96\",\"#ab63fa\",\"#FFA15A\",\"#19d3f3\",\"#FF6692\",\"#B6E880\",\"#FF97FF\",\"#FECB52\"],\"font\":{\"color\":\"#2a3f5f\"},\"hovermode\":\"closest\",\"hoverlabel\":{\"align\":\"left\"},\"paper_bgcolor\":\"white\",\"plot_bgcolor\":\"#E5ECF6\",\"polar\":{\"bgcolor\":\"#E5ECF6\",\"angularaxis\":{\"gridcolor\":\"white\",\"linecolor\":\"white\",\"ticks\":\"\"},\"radialaxis\":{\"gridcolor\":\"white\",\"linecolor\":\"white\",\"ticks\":\"\"}},\"ternary\":{\"bgcolor\":\"#E5ECF6\",\"aaxis\":{\"gridcolor\":\"white\",\"linecolor\":\"white\",\"ticks\":\"\"},\"baxis\":{\"gridcolor\":\"white\",\"linecolor\":\"white\",\"ticks\":\"\"},\"caxis\":{\"gridcolor\":\"white\",\"linecolor\":\"white\",\"ticks\":\"\"}},\"coloraxis\":{\"colorbar\":{\"outlinewidth\":0,\"ticks\":\"\"}},\"colorscale\":{\"sequential\":[[0.0,\"#0d0887\"],[0.1111111111111111,\"#46039f\"],[0.2222222222222222,\"#7201a8\"],[0.3333333333333333,\"#9c179e\"],[0.4444444444444444,\"#bd3786\"],[0.5555555555555556,\"#d8576b\"],[0.6666666666666666,\"#ed7953\"],[0.7777777777777778,\"#fb9f3a\"],[0.8888888888888888,\"#fdca26\"],[1.0,\"#f0f921\"]],\"sequentialminus\":[[0.0,\"#0d0887\"],[0.1111111111111111,\"#46039f\"],[0.2222222222222222,\"#7201a8\"],[0.3333333333333333,\"#9c179e\"],[0.4444444444444444,\"#bd3786\"],[0.5555555555555556,\"#d8576b\"],[0.6666666666666666,\"#ed7953\"],[0.7777777777777778,\"#fb9f3a\"],[0.8888888888888888,\"#fdca26\"],[1.0,\"#f0f921\"]],\"diverging\":[[0,\"#8e0152\"],[0.1,\"#c51b7d\"],[0.2,\"#de77ae\"],[0.3,\"#f1b6da\"],[0.4,\"#fde0ef\"],[0.5,\"#f7f7f7\"],[0.6,\"#e6f5d0\"],[0.7,\"#b8e186\"],[0.8,\"#7fbc41\"],[0.9,\"#4d9221\"],[1,\"#276419\"]]},\"xaxis\":{\"gridcolor\":\"white\",\"linecolor\":\"white\",\"ticks\":\"\",\"title\":{\"standoff\":15},\"zerolinecolor\":\"white\",\"automargin\":true,\"zerolinewidth\":2},\"yaxis\":{\"gridcolor\":\"white\",\"linecolor\":\"white\",\"ticks\":\"\",\"title\":{\"standoff\":15},\"zerolinecolor\":\"white\",\"automargin\":true,\"zerolinewidth\":2},\"scene\":{\"xaxis\":{\"backgroundcolor\":\"#E5ECF6\",\"gridcolor\":\"white\",\"linecolor\":\"white\",\"showbackground\":true,\"ticks\":\"\",\"zerolinecolor\":\"white\",\"gridwidth\":2},\"yaxis\":{\"backgroundcolor\":\"#E5ECF6\",\"gridcolor\":\"white\",\"linecolor\":\"white\",\"showbackground\":true,\"ticks\":\"\",\"zerolinecolor\":\"white\",\"gridwidth\":2},\"zaxis\":{\"backgroundcolor\":\"#E5ECF6\",\"gridcolor\":\"white\",\"linecolor\":\"white\",\"showbackground\":true,\"ticks\":\"\",\"zerolinecolor\":\"white\",\"gridwidth\":2}},\"shapedefaults\":{\"line\":{\"color\":\"#2a3f5f\"}},\"annotationdefaults\":{\"arrowcolor\":\"#2a3f5f\",\"arrowhead\":0,\"arrowwidth\":1},\"geo\":{\"bgcolor\":\"white\",\"landcolor\":\"#E5ECF6\",\"subunitcolor\":\"white\",\"showland\":true,\"showlakes\":true,\"lakecolor\":\"white\"},\"title\":{\"x\":0.05},\"mapbox\":{\"style\":\"light\"}}},\"legend\":{\"tracegroupgap\":0},\"title\":{\"text\":\"Distribuci\\u00f3n por tipos de cr\\u00e9ditos (estimaci\\u00f3n)\"}},                        {\"responsive\": true}                    ).then(function(){\n                            \nvar gd = document.getElementById('8caf9fff-c831-4421-9fb3-85e25990985d');\nvar x = new MutationObserver(function (mutations, observer) {{\n        var display = window.getComputedStyle(gd).display;\n        if (!display || display === 'none') {{\n            console.log([gd, 'removed!']);\n            Plotly.purge(gd);\n            observer.disconnect();\n        }}\n}});\n\n// Listen for the removal of the full notebook cells\nvar notebookContainer = gd.closest('#notebook-container');\nif (notebookContainer) {{\n    x.observe(notebookContainer, {childList: true});\n}}\n\n// Listen for the clearing of the current output cell\nvar outputEl = gd.closest('.output');\nif (outputEl) {{\n    x.observe(outputEl, {childList: true});\n}}\n\n                        })                };                });            </script>        </div>"
     },
     "metadata": {},
     "output_type": "display_data"
    }
   ],
   "source": [
    "# Visualización\n",
    "fig = px.pie(data_frame=tipos_credito, values='Total_Creditos', names='CREDIT_TYPE', title='Distribución por tipos de créditos (estimación)')\n",
    "fig.update_traces(textposition='inside')\n",
    "\n",
    "fig.show() # Podemoos ver que"
   ],
   "metadata": {
    "collapsed": false,
    "ExecuteTime": {
     "end_time": "2023-10-29T01:57:32.862944200Z",
     "start_time": "2023-10-29T01:57:32.815563500Z"
    }
   }
  },
  {
   "cell_type": "markdown",
   "source": [
    "##### 1.2.4.2) Cantidad de prestamos por plazo solicitado"
   ],
   "metadata": {
    "collapsed": false
   }
  },
  {
   "cell_type": "code",
   "execution_count": 59,
   "outputs": [
    {
     "data": {
      "text/plain": "    Frecuencia                     PAYMENT_FREQUENCY\n0        87712                               SEMANAL\n1        33675                             QUINCENAL\n2          425                                 ANUAL\n3           50                 DEDUCCION DEL SALARIO\n4       124398                               MENSUAL\n5           22                             SEMESTRAL\n6         7019  PAGO MINIMO PARA CUENTAS REVOLVENTES\n7            0                                  None\n8          378                            TRIMESTRAL\n9        23425                   UNA SOLA EXHIBICION\n10        8768                            CATORCENAL\n11        1395                             BIMESTRAL",
      "text/html": "<div>\n<style scoped>\n    .dataframe tbody tr th:only-of-type {\n        vertical-align: middle;\n    }\n\n    .dataframe tbody tr th {\n        vertical-align: top;\n    }\n\n    .dataframe thead th {\n        text-align: right;\n    }\n</style>\n<table border=\"1\" class=\"dataframe\">\n  <thead>\n    <tr style=\"text-align: right;\">\n      <th></th>\n      <th>Frecuencia</th>\n      <th>PAYMENT_FREQUENCY</th>\n    </tr>\n  </thead>\n  <tbody>\n    <tr>\n      <th>0</th>\n      <td>87712</td>\n      <td>SEMANAL</td>\n    </tr>\n    <tr>\n      <th>1</th>\n      <td>33675</td>\n      <td>QUINCENAL</td>\n    </tr>\n    <tr>\n      <th>2</th>\n      <td>425</td>\n      <td>ANUAL</td>\n    </tr>\n    <tr>\n      <th>3</th>\n      <td>50</td>\n      <td>DEDUCCION DEL SALARIO</td>\n    </tr>\n    <tr>\n      <th>4</th>\n      <td>124398</td>\n      <td>MENSUAL</td>\n    </tr>\n    <tr>\n      <th>5</th>\n      <td>22</td>\n      <td>SEMESTRAL</td>\n    </tr>\n    <tr>\n      <th>6</th>\n      <td>7019</td>\n      <td>PAGO MINIMO PARA CUENTAS REVOLVENTES</td>\n    </tr>\n    <tr>\n      <th>7</th>\n      <td>0</td>\n      <td>None</td>\n    </tr>\n    <tr>\n      <th>8</th>\n      <td>378</td>\n      <td>TRIMESTRAL</td>\n    </tr>\n    <tr>\n      <th>9</th>\n      <td>23425</td>\n      <td>UNA SOLA EXHIBICION</td>\n    </tr>\n    <tr>\n      <th>10</th>\n      <td>8768</td>\n      <td>CATORCENAL</td>\n    </tr>\n    <tr>\n      <th>11</th>\n      <td>1395</td>\n      <td>BIMESTRAL</td>\n    </tr>\n  </tbody>\n</table>\n</div>"
     },
     "execution_count": 59,
     "metadata": {},
     "output_type": "execute_result"
    }
   ],
   "source": [
    "# Nuevamente como no cuento con un ID de prestamo tendré que hacer una remoción de duplicados haciendo ciertas suposiciones para dar con un único registro de crédito, eliminando registros duplicados de las variables de: customer_id, loan_opening_date, payment_frecuency & credit_type\n",
    "\n",
    "plazo_creditos = duckdb.sql(\"SELECT DISTINCT ON (customer_id, LOAN_OPENING_DATE, PAYMENT_FREQUENCY, CREDIT_TYPE) * FROM credit_reports ORDER BY customer_id, LOAN_OPENING_DATE, PAYMENT_FREQUENCY, CREDIT_TYPE\").to_df()\n",
    "\n",
    "plazo_creditos = duckdb.sql(\"select count(PAYMENT_FREQUENCY) as Frecuencia, PAYMENT_FREQUENCY from credit_reports group by PAYMENT_FREQUENCY\").to_df()\n",
    "plazo_creditos"
   ],
   "metadata": {
    "collapsed": false,
    "ExecuteTime": {
     "end_time": "2023-10-29T05:08:09.885306600Z",
     "start_time": "2023-10-29T05:08:08.919791900Z"
    }
   }
  },
  {
   "cell_type": "code",
   "execution_count": 60,
   "outputs": [
    {
     "data": {
      "application/vnd.plotly.v1+json": {
       "data": [
        {
         "domain": {
          "x": [
           0.0,
           1.0
          ],
          "y": [
           0.0,
           1.0
          ]
         },
         "hovertemplate": "PAYMENT_FREQUENCY=%{label}<br>Frecuencia=%{value}<extra></extra>",
         "labels": [
          "SEMANAL",
          "QUINCENAL",
          "ANUAL",
          "DEDUCCION DEL SALARIO",
          "MENSUAL",
          "SEMESTRAL",
          "PAGO MINIMO PARA CUENTAS REVOLVENTES",
          null,
          "TRIMESTRAL",
          "UNA SOLA EXHIBICION",
          "CATORCENAL",
          "BIMESTRAL"
         ],
         "legendgroup": "",
         "name": "",
         "showlegend": true,
         "values": [
          87712,
          33675,
          425,
          50,
          124398,
          22,
          7019,
          0,
          378,
          23425,
          8768,
          1395
         ],
         "type": "pie",
         "textposition": "inside"
        }
       ],
       "layout": {
        "template": {
         "data": {
          "histogram2dcontour": [
           {
            "type": "histogram2dcontour",
            "colorbar": {
             "outlinewidth": 0,
             "ticks": ""
            },
            "colorscale": [
             [
              0.0,
              "#0d0887"
             ],
             [
              0.1111111111111111,
              "#46039f"
             ],
             [
              0.2222222222222222,
              "#7201a8"
             ],
             [
              0.3333333333333333,
              "#9c179e"
             ],
             [
              0.4444444444444444,
              "#bd3786"
             ],
             [
              0.5555555555555556,
              "#d8576b"
             ],
             [
              0.6666666666666666,
              "#ed7953"
             ],
             [
              0.7777777777777778,
              "#fb9f3a"
             ],
             [
              0.8888888888888888,
              "#fdca26"
             ],
             [
              1.0,
              "#f0f921"
             ]
            ]
           }
          ],
          "choropleth": [
           {
            "type": "choropleth",
            "colorbar": {
             "outlinewidth": 0,
             "ticks": ""
            }
           }
          ],
          "histogram2d": [
           {
            "type": "histogram2d",
            "colorbar": {
             "outlinewidth": 0,
             "ticks": ""
            },
            "colorscale": [
             [
              0.0,
              "#0d0887"
             ],
             [
              0.1111111111111111,
              "#46039f"
             ],
             [
              0.2222222222222222,
              "#7201a8"
             ],
             [
              0.3333333333333333,
              "#9c179e"
             ],
             [
              0.4444444444444444,
              "#bd3786"
             ],
             [
              0.5555555555555556,
              "#d8576b"
             ],
             [
              0.6666666666666666,
              "#ed7953"
             ],
             [
              0.7777777777777778,
              "#fb9f3a"
             ],
             [
              0.8888888888888888,
              "#fdca26"
             ],
             [
              1.0,
              "#f0f921"
             ]
            ]
           }
          ],
          "heatmap": [
           {
            "type": "heatmap",
            "colorbar": {
             "outlinewidth": 0,
             "ticks": ""
            },
            "colorscale": [
             [
              0.0,
              "#0d0887"
             ],
             [
              0.1111111111111111,
              "#46039f"
             ],
             [
              0.2222222222222222,
              "#7201a8"
             ],
             [
              0.3333333333333333,
              "#9c179e"
             ],
             [
              0.4444444444444444,
              "#bd3786"
             ],
             [
              0.5555555555555556,
              "#d8576b"
             ],
             [
              0.6666666666666666,
              "#ed7953"
             ],
             [
              0.7777777777777778,
              "#fb9f3a"
             ],
             [
              0.8888888888888888,
              "#fdca26"
             ],
             [
              1.0,
              "#f0f921"
             ]
            ]
           }
          ],
          "heatmapgl": [
           {
            "type": "heatmapgl",
            "colorbar": {
             "outlinewidth": 0,
             "ticks": ""
            },
            "colorscale": [
             [
              0.0,
              "#0d0887"
             ],
             [
              0.1111111111111111,
              "#46039f"
             ],
             [
              0.2222222222222222,
              "#7201a8"
             ],
             [
              0.3333333333333333,
              "#9c179e"
             ],
             [
              0.4444444444444444,
              "#bd3786"
             ],
             [
              0.5555555555555556,
              "#d8576b"
             ],
             [
              0.6666666666666666,
              "#ed7953"
             ],
             [
              0.7777777777777778,
              "#fb9f3a"
             ],
             [
              0.8888888888888888,
              "#fdca26"
             ],
             [
              1.0,
              "#f0f921"
             ]
            ]
           }
          ],
          "contourcarpet": [
           {
            "type": "contourcarpet",
            "colorbar": {
             "outlinewidth": 0,
             "ticks": ""
            }
           }
          ],
          "contour": [
           {
            "type": "contour",
            "colorbar": {
             "outlinewidth": 0,
             "ticks": ""
            },
            "colorscale": [
             [
              0.0,
              "#0d0887"
             ],
             [
              0.1111111111111111,
              "#46039f"
             ],
             [
              0.2222222222222222,
              "#7201a8"
             ],
             [
              0.3333333333333333,
              "#9c179e"
             ],
             [
              0.4444444444444444,
              "#bd3786"
             ],
             [
              0.5555555555555556,
              "#d8576b"
             ],
             [
              0.6666666666666666,
              "#ed7953"
             ],
             [
              0.7777777777777778,
              "#fb9f3a"
             ],
             [
              0.8888888888888888,
              "#fdca26"
             ],
             [
              1.0,
              "#f0f921"
             ]
            ]
           }
          ],
          "surface": [
           {
            "type": "surface",
            "colorbar": {
             "outlinewidth": 0,
             "ticks": ""
            },
            "colorscale": [
             [
              0.0,
              "#0d0887"
             ],
             [
              0.1111111111111111,
              "#46039f"
             ],
             [
              0.2222222222222222,
              "#7201a8"
             ],
             [
              0.3333333333333333,
              "#9c179e"
             ],
             [
              0.4444444444444444,
              "#bd3786"
             ],
             [
              0.5555555555555556,
              "#d8576b"
             ],
             [
              0.6666666666666666,
              "#ed7953"
             ],
             [
              0.7777777777777778,
              "#fb9f3a"
             ],
             [
              0.8888888888888888,
              "#fdca26"
             ],
             [
              1.0,
              "#f0f921"
             ]
            ]
           }
          ],
          "mesh3d": [
           {
            "type": "mesh3d",
            "colorbar": {
             "outlinewidth": 0,
             "ticks": ""
            }
           }
          ],
          "scatter": [
           {
            "fillpattern": {
             "fillmode": "overlay",
             "size": 10,
             "solidity": 0.2
            },
            "type": "scatter"
           }
          ],
          "parcoords": [
           {
            "type": "parcoords",
            "line": {
             "colorbar": {
              "outlinewidth": 0,
              "ticks": ""
             }
            }
           }
          ],
          "scatterpolargl": [
           {
            "type": "scatterpolargl",
            "marker": {
             "colorbar": {
              "outlinewidth": 0,
              "ticks": ""
             }
            }
           }
          ],
          "bar": [
           {
            "error_x": {
             "color": "#2a3f5f"
            },
            "error_y": {
             "color": "#2a3f5f"
            },
            "marker": {
             "line": {
              "color": "#E5ECF6",
              "width": 0.5
             },
             "pattern": {
              "fillmode": "overlay",
              "size": 10,
              "solidity": 0.2
             }
            },
            "type": "bar"
           }
          ],
          "scattergeo": [
           {
            "type": "scattergeo",
            "marker": {
             "colorbar": {
              "outlinewidth": 0,
              "ticks": ""
             }
            }
           }
          ],
          "scatterpolar": [
           {
            "type": "scatterpolar",
            "marker": {
             "colorbar": {
              "outlinewidth": 0,
              "ticks": ""
             }
            }
           }
          ],
          "histogram": [
           {
            "marker": {
             "pattern": {
              "fillmode": "overlay",
              "size": 10,
              "solidity": 0.2
             }
            },
            "type": "histogram"
           }
          ],
          "scattergl": [
           {
            "type": "scattergl",
            "marker": {
             "colorbar": {
              "outlinewidth": 0,
              "ticks": ""
             }
            }
           }
          ],
          "scatter3d": [
           {
            "type": "scatter3d",
            "line": {
             "colorbar": {
              "outlinewidth": 0,
              "ticks": ""
             }
            },
            "marker": {
             "colorbar": {
              "outlinewidth": 0,
              "ticks": ""
             }
            }
           }
          ],
          "scattermapbox": [
           {
            "type": "scattermapbox",
            "marker": {
             "colorbar": {
              "outlinewidth": 0,
              "ticks": ""
             }
            }
           }
          ],
          "scatterternary": [
           {
            "type": "scatterternary",
            "marker": {
             "colorbar": {
              "outlinewidth": 0,
              "ticks": ""
             }
            }
           }
          ],
          "scattercarpet": [
           {
            "type": "scattercarpet",
            "marker": {
             "colorbar": {
              "outlinewidth": 0,
              "ticks": ""
             }
            }
           }
          ],
          "carpet": [
           {
            "aaxis": {
             "endlinecolor": "#2a3f5f",
             "gridcolor": "white",
             "linecolor": "white",
             "minorgridcolor": "white",
             "startlinecolor": "#2a3f5f"
            },
            "baxis": {
             "endlinecolor": "#2a3f5f",
             "gridcolor": "white",
             "linecolor": "white",
             "minorgridcolor": "white",
             "startlinecolor": "#2a3f5f"
            },
            "type": "carpet"
           }
          ],
          "table": [
           {
            "cells": {
             "fill": {
              "color": "#EBF0F8"
             },
             "line": {
              "color": "white"
             }
            },
            "header": {
             "fill": {
              "color": "#C8D4E3"
             },
             "line": {
              "color": "white"
             }
            },
            "type": "table"
           }
          ],
          "barpolar": [
           {
            "marker": {
             "line": {
              "color": "#E5ECF6",
              "width": 0.5
             },
             "pattern": {
              "fillmode": "overlay",
              "size": 10,
              "solidity": 0.2
             }
            },
            "type": "barpolar"
           }
          ],
          "pie": [
           {
            "automargin": true,
            "type": "pie"
           }
          ]
         },
         "layout": {
          "autotypenumbers": "strict",
          "colorway": [
           "#636efa",
           "#EF553B",
           "#00cc96",
           "#ab63fa",
           "#FFA15A",
           "#19d3f3",
           "#FF6692",
           "#B6E880",
           "#FF97FF",
           "#FECB52"
          ],
          "font": {
           "color": "#2a3f5f"
          },
          "hovermode": "closest",
          "hoverlabel": {
           "align": "left"
          },
          "paper_bgcolor": "white",
          "plot_bgcolor": "#E5ECF6",
          "polar": {
           "bgcolor": "#E5ECF6",
           "angularaxis": {
            "gridcolor": "white",
            "linecolor": "white",
            "ticks": ""
           },
           "radialaxis": {
            "gridcolor": "white",
            "linecolor": "white",
            "ticks": ""
           }
          },
          "ternary": {
           "bgcolor": "#E5ECF6",
           "aaxis": {
            "gridcolor": "white",
            "linecolor": "white",
            "ticks": ""
           },
           "baxis": {
            "gridcolor": "white",
            "linecolor": "white",
            "ticks": ""
           },
           "caxis": {
            "gridcolor": "white",
            "linecolor": "white",
            "ticks": ""
           }
          },
          "coloraxis": {
           "colorbar": {
            "outlinewidth": 0,
            "ticks": ""
           }
          },
          "colorscale": {
           "sequential": [
            [
             0.0,
             "#0d0887"
            ],
            [
             0.1111111111111111,
             "#46039f"
            ],
            [
             0.2222222222222222,
             "#7201a8"
            ],
            [
             0.3333333333333333,
             "#9c179e"
            ],
            [
             0.4444444444444444,
             "#bd3786"
            ],
            [
             0.5555555555555556,
             "#d8576b"
            ],
            [
             0.6666666666666666,
             "#ed7953"
            ],
            [
             0.7777777777777778,
             "#fb9f3a"
            ],
            [
             0.8888888888888888,
             "#fdca26"
            ],
            [
             1.0,
             "#f0f921"
            ]
           ],
           "sequentialminus": [
            [
             0.0,
             "#0d0887"
            ],
            [
             0.1111111111111111,
             "#46039f"
            ],
            [
             0.2222222222222222,
             "#7201a8"
            ],
            [
             0.3333333333333333,
             "#9c179e"
            ],
            [
             0.4444444444444444,
             "#bd3786"
            ],
            [
             0.5555555555555556,
             "#d8576b"
            ],
            [
             0.6666666666666666,
             "#ed7953"
            ],
            [
             0.7777777777777778,
             "#fb9f3a"
            ],
            [
             0.8888888888888888,
             "#fdca26"
            ],
            [
             1.0,
             "#f0f921"
            ]
           ],
           "diverging": [
            [
             0,
             "#8e0152"
            ],
            [
             0.1,
             "#c51b7d"
            ],
            [
             0.2,
             "#de77ae"
            ],
            [
             0.3,
             "#f1b6da"
            ],
            [
             0.4,
             "#fde0ef"
            ],
            [
             0.5,
             "#f7f7f7"
            ],
            [
             0.6,
             "#e6f5d0"
            ],
            [
             0.7,
             "#b8e186"
            ],
            [
             0.8,
             "#7fbc41"
            ],
            [
             0.9,
             "#4d9221"
            ],
            [
             1,
             "#276419"
            ]
           ]
          },
          "xaxis": {
           "gridcolor": "white",
           "linecolor": "white",
           "ticks": "",
           "title": {
            "standoff": 15
           },
           "zerolinecolor": "white",
           "automargin": true,
           "zerolinewidth": 2
          },
          "yaxis": {
           "gridcolor": "white",
           "linecolor": "white",
           "ticks": "",
           "title": {
            "standoff": 15
           },
           "zerolinecolor": "white",
           "automargin": true,
           "zerolinewidth": 2
          },
          "scene": {
           "xaxis": {
            "backgroundcolor": "#E5ECF6",
            "gridcolor": "white",
            "linecolor": "white",
            "showbackground": true,
            "ticks": "",
            "zerolinecolor": "white",
            "gridwidth": 2
           },
           "yaxis": {
            "backgroundcolor": "#E5ECF6",
            "gridcolor": "white",
            "linecolor": "white",
            "showbackground": true,
            "ticks": "",
            "zerolinecolor": "white",
            "gridwidth": 2
           },
           "zaxis": {
            "backgroundcolor": "#E5ECF6",
            "gridcolor": "white",
            "linecolor": "white",
            "showbackground": true,
            "ticks": "",
            "zerolinecolor": "white",
            "gridwidth": 2
           }
          },
          "shapedefaults": {
           "line": {
            "color": "#2a3f5f"
           }
          },
          "annotationdefaults": {
           "arrowcolor": "#2a3f5f",
           "arrowhead": 0,
           "arrowwidth": 1
          },
          "geo": {
           "bgcolor": "white",
           "landcolor": "#E5ECF6",
           "subunitcolor": "white",
           "showland": true,
           "showlakes": true,
           "lakecolor": "white"
          },
          "title": {
           "x": 0.05
          },
          "mapbox": {
           "style": "light"
          }
         }
        },
        "legend": {
         "tracegroupgap": 0
        },
        "title": {
         "text": "Distribución por plazo de créditos (estimación)"
        }
       },
       "config": {
        "plotlyServerURL": "https://plot.ly"
       }
      },
      "text/html": "<div>                            <div id=\"4432bc50-65ec-434c-a190-4c20f3fab905\" class=\"plotly-graph-div\" style=\"height:525px; width:100%;\"></div>            <script type=\"text/javascript\">                require([\"plotly\"], function(Plotly) {                    window.PLOTLYENV=window.PLOTLYENV || {};                                    if (document.getElementById(\"4432bc50-65ec-434c-a190-4c20f3fab905\")) {                    Plotly.newPlot(                        \"4432bc50-65ec-434c-a190-4c20f3fab905\",                        [{\"domain\":{\"x\":[0.0,1.0],\"y\":[0.0,1.0]},\"hovertemplate\":\"PAYMENT_FREQUENCY=%{label}\\u003cbr\\u003eFrecuencia=%{value}\\u003cextra\\u003e\\u003c\\u002fextra\\u003e\",\"labels\":[\"SEMANAL\",\"QUINCENAL\",\"ANUAL\",\"DEDUCCION DEL SALARIO\",\"MENSUAL\",\"SEMESTRAL\",\"PAGO MINIMO PARA CUENTAS REVOLVENTES\",null,\"TRIMESTRAL\",\"UNA SOLA EXHIBICION\",\"CATORCENAL\",\"BIMESTRAL\"],\"legendgroup\":\"\",\"name\":\"\",\"showlegend\":true,\"values\":[87712,33675,425,50,124398,22,7019,0,378,23425,8768,1395],\"type\":\"pie\",\"textposition\":\"inside\"}],                        {\"template\":{\"data\":{\"histogram2dcontour\":[{\"type\":\"histogram2dcontour\",\"colorbar\":{\"outlinewidth\":0,\"ticks\":\"\"},\"colorscale\":[[0.0,\"#0d0887\"],[0.1111111111111111,\"#46039f\"],[0.2222222222222222,\"#7201a8\"],[0.3333333333333333,\"#9c179e\"],[0.4444444444444444,\"#bd3786\"],[0.5555555555555556,\"#d8576b\"],[0.6666666666666666,\"#ed7953\"],[0.7777777777777778,\"#fb9f3a\"],[0.8888888888888888,\"#fdca26\"],[1.0,\"#f0f921\"]]}],\"choropleth\":[{\"type\":\"choropleth\",\"colorbar\":{\"outlinewidth\":0,\"ticks\":\"\"}}],\"histogram2d\":[{\"type\":\"histogram2d\",\"colorbar\":{\"outlinewidth\":0,\"ticks\":\"\"},\"colorscale\":[[0.0,\"#0d0887\"],[0.1111111111111111,\"#46039f\"],[0.2222222222222222,\"#7201a8\"],[0.3333333333333333,\"#9c179e\"],[0.4444444444444444,\"#bd3786\"],[0.5555555555555556,\"#d8576b\"],[0.6666666666666666,\"#ed7953\"],[0.7777777777777778,\"#fb9f3a\"],[0.8888888888888888,\"#fdca26\"],[1.0,\"#f0f921\"]]}],\"heatmap\":[{\"type\":\"heatmap\",\"colorbar\":{\"outlinewidth\":0,\"ticks\":\"\"},\"colorscale\":[[0.0,\"#0d0887\"],[0.1111111111111111,\"#46039f\"],[0.2222222222222222,\"#7201a8\"],[0.3333333333333333,\"#9c179e\"],[0.4444444444444444,\"#bd3786\"],[0.5555555555555556,\"#d8576b\"],[0.6666666666666666,\"#ed7953\"],[0.7777777777777778,\"#fb9f3a\"],[0.8888888888888888,\"#fdca26\"],[1.0,\"#f0f921\"]]}],\"heatmapgl\":[{\"type\":\"heatmapgl\",\"colorbar\":{\"outlinewidth\":0,\"ticks\":\"\"},\"colorscale\":[[0.0,\"#0d0887\"],[0.1111111111111111,\"#46039f\"],[0.2222222222222222,\"#7201a8\"],[0.3333333333333333,\"#9c179e\"],[0.4444444444444444,\"#bd3786\"],[0.5555555555555556,\"#d8576b\"],[0.6666666666666666,\"#ed7953\"],[0.7777777777777778,\"#fb9f3a\"],[0.8888888888888888,\"#fdca26\"],[1.0,\"#f0f921\"]]}],\"contourcarpet\":[{\"type\":\"contourcarpet\",\"colorbar\":{\"outlinewidth\":0,\"ticks\":\"\"}}],\"contour\":[{\"type\":\"contour\",\"colorbar\":{\"outlinewidth\":0,\"ticks\":\"\"},\"colorscale\":[[0.0,\"#0d0887\"],[0.1111111111111111,\"#46039f\"],[0.2222222222222222,\"#7201a8\"],[0.3333333333333333,\"#9c179e\"],[0.4444444444444444,\"#bd3786\"],[0.5555555555555556,\"#d8576b\"],[0.6666666666666666,\"#ed7953\"],[0.7777777777777778,\"#fb9f3a\"],[0.8888888888888888,\"#fdca26\"],[1.0,\"#f0f921\"]]}],\"surface\":[{\"type\":\"surface\",\"colorbar\":{\"outlinewidth\":0,\"ticks\":\"\"},\"colorscale\":[[0.0,\"#0d0887\"],[0.1111111111111111,\"#46039f\"],[0.2222222222222222,\"#7201a8\"],[0.3333333333333333,\"#9c179e\"],[0.4444444444444444,\"#bd3786\"],[0.5555555555555556,\"#d8576b\"],[0.6666666666666666,\"#ed7953\"],[0.7777777777777778,\"#fb9f3a\"],[0.8888888888888888,\"#fdca26\"],[1.0,\"#f0f921\"]]}],\"mesh3d\":[{\"type\":\"mesh3d\",\"colorbar\":{\"outlinewidth\":0,\"ticks\":\"\"}}],\"scatter\":[{\"fillpattern\":{\"fillmode\":\"overlay\",\"size\":10,\"solidity\":0.2},\"type\":\"scatter\"}],\"parcoords\":[{\"type\":\"parcoords\",\"line\":{\"colorbar\":{\"outlinewidth\":0,\"ticks\":\"\"}}}],\"scatterpolargl\":[{\"type\":\"scatterpolargl\",\"marker\":{\"colorbar\":{\"outlinewidth\":0,\"ticks\":\"\"}}}],\"bar\":[{\"error_x\":{\"color\":\"#2a3f5f\"},\"error_y\":{\"color\":\"#2a3f5f\"},\"marker\":{\"line\":{\"color\":\"#E5ECF6\",\"width\":0.5},\"pattern\":{\"fillmode\":\"overlay\",\"size\":10,\"solidity\":0.2}},\"type\":\"bar\"}],\"scattergeo\":[{\"type\":\"scattergeo\",\"marker\":{\"colorbar\":{\"outlinewidth\":0,\"ticks\":\"\"}}}],\"scatterpolar\":[{\"type\":\"scatterpolar\",\"marker\":{\"colorbar\":{\"outlinewidth\":0,\"ticks\":\"\"}}}],\"histogram\":[{\"marker\":{\"pattern\":{\"fillmode\":\"overlay\",\"size\":10,\"solidity\":0.2}},\"type\":\"histogram\"}],\"scattergl\":[{\"type\":\"scattergl\",\"marker\":{\"colorbar\":{\"outlinewidth\":0,\"ticks\":\"\"}}}],\"scatter3d\":[{\"type\":\"scatter3d\",\"line\":{\"colorbar\":{\"outlinewidth\":0,\"ticks\":\"\"}},\"marker\":{\"colorbar\":{\"outlinewidth\":0,\"ticks\":\"\"}}}],\"scattermapbox\":[{\"type\":\"scattermapbox\",\"marker\":{\"colorbar\":{\"outlinewidth\":0,\"ticks\":\"\"}}}],\"scatterternary\":[{\"type\":\"scatterternary\",\"marker\":{\"colorbar\":{\"outlinewidth\":0,\"ticks\":\"\"}}}],\"scattercarpet\":[{\"type\":\"scattercarpet\",\"marker\":{\"colorbar\":{\"outlinewidth\":0,\"ticks\":\"\"}}}],\"carpet\":[{\"aaxis\":{\"endlinecolor\":\"#2a3f5f\",\"gridcolor\":\"white\",\"linecolor\":\"white\",\"minorgridcolor\":\"white\",\"startlinecolor\":\"#2a3f5f\"},\"baxis\":{\"endlinecolor\":\"#2a3f5f\",\"gridcolor\":\"white\",\"linecolor\":\"white\",\"minorgridcolor\":\"white\",\"startlinecolor\":\"#2a3f5f\"},\"type\":\"carpet\"}],\"table\":[{\"cells\":{\"fill\":{\"color\":\"#EBF0F8\"},\"line\":{\"color\":\"white\"}},\"header\":{\"fill\":{\"color\":\"#C8D4E3\"},\"line\":{\"color\":\"white\"}},\"type\":\"table\"}],\"barpolar\":[{\"marker\":{\"line\":{\"color\":\"#E5ECF6\",\"width\":0.5},\"pattern\":{\"fillmode\":\"overlay\",\"size\":10,\"solidity\":0.2}},\"type\":\"barpolar\"}],\"pie\":[{\"automargin\":true,\"type\":\"pie\"}]},\"layout\":{\"autotypenumbers\":\"strict\",\"colorway\":[\"#636efa\",\"#EF553B\",\"#00cc96\",\"#ab63fa\",\"#FFA15A\",\"#19d3f3\",\"#FF6692\",\"#B6E880\",\"#FF97FF\",\"#FECB52\"],\"font\":{\"color\":\"#2a3f5f\"},\"hovermode\":\"closest\",\"hoverlabel\":{\"align\":\"left\"},\"paper_bgcolor\":\"white\",\"plot_bgcolor\":\"#E5ECF6\",\"polar\":{\"bgcolor\":\"#E5ECF6\",\"angularaxis\":{\"gridcolor\":\"white\",\"linecolor\":\"white\",\"ticks\":\"\"},\"radialaxis\":{\"gridcolor\":\"white\",\"linecolor\":\"white\",\"ticks\":\"\"}},\"ternary\":{\"bgcolor\":\"#E5ECF6\",\"aaxis\":{\"gridcolor\":\"white\",\"linecolor\":\"white\",\"ticks\":\"\"},\"baxis\":{\"gridcolor\":\"white\",\"linecolor\":\"white\",\"ticks\":\"\"},\"caxis\":{\"gridcolor\":\"white\",\"linecolor\":\"white\",\"ticks\":\"\"}},\"coloraxis\":{\"colorbar\":{\"outlinewidth\":0,\"ticks\":\"\"}},\"colorscale\":{\"sequential\":[[0.0,\"#0d0887\"],[0.1111111111111111,\"#46039f\"],[0.2222222222222222,\"#7201a8\"],[0.3333333333333333,\"#9c179e\"],[0.4444444444444444,\"#bd3786\"],[0.5555555555555556,\"#d8576b\"],[0.6666666666666666,\"#ed7953\"],[0.7777777777777778,\"#fb9f3a\"],[0.8888888888888888,\"#fdca26\"],[1.0,\"#f0f921\"]],\"sequentialminus\":[[0.0,\"#0d0887\"],[0.1111111111111111,\"#46039f\"],[0.2222222222222222,\"#7201a8\"],[0.3333333333333333,\"#9c179e\"],[0.4444444444444444,\"#bd3786\"],[0.5555555555555556,\"#d8576b\"],[0.6666666666666666,\"#ed7953\"],[0.7777777777777778,\"#fb9f3a\"],[0.8888888888888888,\"#fdca26\"],[1.0,\"#f0f921\"]],\"diverging\":[[0,\"#8e0152\"],[0.1,\"#c51b7d\"],[0.2,\"#de77ae\"],[0.3,\"#f1b6da\"],[0.4,\"#fde0ef\"],[0.5,\"#f7f7f7\"],[0.6,\"#e6f5d0\"],[0.7,\"#b8e186\"],[0.8,\"#7fbc41\"],[0.9,\"#4d9221\"],[1,\"#276419\"]]},\"xaxis\":{\"gridcolor\":\"white\",\"linecolor\":\"white\",\"ticks\":\"\",\"title\":{\"standoff\":15},\"zerolinecolor\":\"white\",\"automargin\":true,\"zerolinewidth\":2},\"yaxis\":{\"gridcolor\":\"white\",\"linecolor\":\"white\",\"ticks\":\"\",\"title\":{\"standoff\":15},\"zerolinecolor\":\"white\",\"automargin\":true,\"zerolinewidth\":2},\"scene\":{\"xaxis\":{\"backgroundcolor\":\"#E5ECF6\",\"gridcolor\":\"white\",\"linecolor\":\"white\",\"showbackground\":true,\"ticks\":\"\",\"zerolinecolor\":\"white\",\"gridwidth\":2},\"yaxis\":{\"backgroundcolor\":\"#E5ECF6\",\"gridcolor\":\"white\",\"linecolor\":\"white\",\"showbackground\":true,\"ticks\":\"\",\"zerolinecolor\":\"white\",\"gridwidth\":2},\"zaxis\":{\"backgroundcolor\":\"#E5ECF6\",\"gridcolor\":\"white\",\"linecolor\":\"white\",\"showbackground\":true,\"ticks\":\"\",\"zerolinecolor\":\"white\",\"gridwidth\":2}},\"shapedefaults\":{\"line\":{\"color\":\"#2a3f5f\"}},\"annotationdefaults\":{\"arrowcolor\":\"#2a3f5f\",\"arrowhead\":0,\"arrowwidth\":1},\"geo\":{\"bgcolor\":\"white\",\"landcolor\":\"#E5ECF6\",\"subunitcolor\":\"white\",\"showland\":true,\"showlakes\":true,\"lakecolor\":\"white\"},\"title\":{\"x\":0.05},\"mapbox\":{\"style\":\"light\"}}},\"legend\":{\"tracegroupgap\":0},\"title\":{\"text\":\"Distribuci\\u00f3n por plazo de cr\\u00e9ditos (estimaci\\u00f3n)\"}},                        {\"responsive\": true}                    ).then(function(){\n                            \nvar gd = document.getElementById('4432bc50-65ec-434c-a190-4c20f3fab905');\nvar x = new MutationObserver(function (mutations, observer) {{\n        var display = window.getComputedStyle(gd).display;\n        if (!display || display === 'none') {{\n            console.log([gd, 'removed!']);\n            Plotly.purge(gd);\n            observer.disconnect();\n        }}\n}});\n\n// Listen for the removal of the full notebook cells\nvar notebookContainer = gd.closest('#notebook-container');\nif (notebookContainer) {{\n    x.observe(notebookContainer, {childList: true});\n}}\n\n// Listen for the clearing of the current output cell\nvar outputEl = gd.closest('.output');\nif (outputEl) {{\n    x.observe(outputEl, {childList: true});\n}}\n\n                        })                };                });            </script>        </div>"
     },
     "metadata": {},
     "output_type": "display_data"
    }
   ],
   "source": [
    "# Visualización\n",
    "fig = px.pie(data_frame=plazo_creditos, values='Frecuencia', names='PAYMENT_FREQUENCY', title='Distribución por plazo de créditos (estimación)')\n",
    "fig.update_traces(textposition='inside')\n",
    "\n",
    "fig.show()"
   ],
   "metadata": {
    "collapsed": false,
    "ExecuteTime": {
     "end_time": "2023-10-29T05:09:08.837281Z",
     "start_time": "2023-10-29T05:09:08.785264400Z"
    }
   }
  },
  {
   "cell_type": "markdown",
   "source": [
    "##### 1.2.4.3) Distribución de límites de crédito\n",
    "Voy a suponer (no estoy del todo seguro que sea asi) que la variable \"CREDIT_LIMIT\" es independiente a un prestamo concreto, es decir el crédito limite sería el monto máximo de la linea de crétido que tengo  (independientemente si tengo varias lineas de crédito).\n",
    "Otro tema es que en este caso me quedaré con el valor de CREDIT_LIMT de la ultima actualización del cliente ( es decir el esttus más acutal)"
   ],
   "metadata": {
    "collapsed": false
   }
  },
  {
   "cell_type": "code",
   "execution_count": 63,
   "outputs": [
    {
     "data": {
      "text/plain": "        customer_id                     INQUIRY_TIME  \\\n0                 1 2022-06-16 18:06:37.677000-05:00   \n1                 1 2022-06-16 18:06:37.677000-05:00   \n2                 1 2022-06-16 18:06:37.677000-05:00   \n3                 1 2022-06-16 18:06:37.677000-05:00   \n4                 1 2022-06-16 18:06:37.677000-05:00   \n...             ...                              ...   \n287351        14416 2023-04-24 17:36:56.539000-06:00   \n287352        14416 2023-04-24 17:36:56.539000-06:00   \n287353        14416 2023-04-24 17:36:56.539000-06:00   \n287354        14416 2023-04-24 17:36:56.539000-06:00   \n287355        14416 2023-04-24 17:36:56.539000-06:00   \n\n                                      CDC_INQUIRY_ID INQUIRY_DATE  \\\n0           102-b978ce50-aa84-4910-92dd-b3c721e7d831   2022-06-16   \n1           102-b978ce50-aa84-4910-92dd-b3c721e7d831   2022-06-16   \n2           102-b978ce50-aa84-4910-92dd-b3c721e7d831   2022-06-16   \n3           102-b978ce50-aa84-4910-92dd-b3c721e7d831   2022-06-16   \n4           102-b978ce50-aa84-4910-92dd-b3c721e7d831   2022-06-16   \n...                                              ...          ...   \n287351  1169801-55d3f904-d9ce-4ad2-bb39-457595c1859b   2023-04-24   \n287352  1169801-55d3f904-d9ce-4ad2-bb39-457595c1859b   2023-04-24   \n287353  1169801-55d3f904-d9ce-4ad2-bb39-457595c1859b   2023-04-24   \n287354  1169801-55d3f904-d9ce-4ad2-bb39-457595c1859b   2023-04-24   \n287355  1169801-55d3f904-d9ce-4ad2-bb39-457595c1859b   2023-04-24   \n\n         PREVENTION_KEY         CURRENCY  MAX_CREDIT  CREDIT_LIMIT  \\\n0       SIN OBSERVACION  PESOS MEXICANOS     30534.0       80300.0   \n1       SIN OBSERVACION  PESOS MEXICANOS     22710.0       50000.0   \n2       SIN OBSERVACION  PESOS MEXICANOS      2675.0       20000.0   \n3       SIN OBSERVACION  PESOS MEXICANOS     39291.0      161000.0   \n4       SIN OBSERVACION  PESOS MEXICANOS         0.0           0.0   \n...                 ...              ...         ...           ...   \n287351  SIN OBSERVACION  PESOS MEXICANOS     25500.0       25500.0   \n287352  SIN OBSERVACION  PESOS MEXICANOS     25500.0       25500.0   \n287353  SIN OBSERVACION  PESOS MEXICANOS     25500.0       25500.0   \n287354  SIN OBSERVACION  PESOS MEXICANOS         1.0           0.0   \n287355  SIN OBSERVACION  PESOS MEXICANOS      6238.0        6238.0   \n\n        PAYMENT_AMOUNT UPDATE_DATE  ...               ACCOUNT_TYPE  \\\n0                418.0  2022-06-11  ...                 REVOLVENTE   \n1                625.0  2022-06-11  ...                 REVOLVENTE   \n2                  0.0  2022-06-10  ...  SIN LIMITE PREESTABLECIDO   \n3                578.0  2022-06-02  ...                 REVOLVENTE   \n4                  0.0  2022-05-31  ...  SIN LIMITE PREESTABLECIDO   \n...                ...         ...  ...                        ...   \n287351             0.0  2011-03-31  ...                PAGOS FIJOS   \n287352             0.0  2011-03-31  ...                PAGOS FIJOS   \n287353             0.0  2011-03-31  ...                PAGOS FIJOS   \n287354             0.0  2010-10-31  ...                PAGOS FIJOS   \n287355             0.0  2009-04-03  ...                 REVOLVENTE   \n\n         RESPONSABILITY_TYPE TOTAL_PAYMENTS DELAYED_PAYMENTS CURRENT_PAYMENT  \\\n0       INDIVIDUAL (TITULAR)            NaN              0.0               V   \n1       INDIVIDUAL (TITULAR)            NaN              0.0               V   \n2       INDIVIDUAL (TITULAR)            NaN              0.0               V   \n3       INDIVIDUAL (TITULAR)            NaN              0.0               V   \n4       INDIVIDUAL (TITULAR)            1.0              0.0               V   \n...                      ...            ...              ...             ...   \n287351  INDIVIDUAL (TITULAR)           12.0              0.0               V   \n287352  INDIVIDUAL (TITULAR)           12.0              0.0               V   \n287353  INDIVIDUAL (TITULAR)           12.0              0.0               V   \n287354  INDIVIDUAL (TITULAR)           18.0              0.0               V   \n287355  INDIVIDUAL (TITULAR)           60.0              0.0               V   \n\n       WORST_DELAY TOTAL_REPORTED_PAYMENTS CURRENT_BALANCE BALANCE_DUE  \\\n0              0.0                     NaN          4800.0         0.0   \n1              0.0                     NaN           611.0         0.0   \n2              0.0                     NaN             0.0         0.0   \n3              0.0                     NaN         12557.0         0.0   \n4              0.0                     0.0             0.0         0.0   \n...            ...                     ...             ...         ...   \n287351         0.0                     0.0             0.0         0.0   \n287352         0.0                     0.0             0.0         0.0   \n287353         0.0                     0.0             0.0         0.0   \n287354         0.0                     0.0             0.0         0.0   \n287355        12.0                     0.0             0.0         0.0   \n\n       BALANCE_DUE_WORST_DELAY  \n0                          0.0  \n1                          0.0  \n2                          0.0  \n3                          0.0  \n4                          0.0  \n...                        ...  \n287351                     0.0  \n287352                     0.0  \n287353                     0.0  \n287354                     0.0  \n287355                   877.0  \n\n[287356 rows x 29 columns]",
      "text/html": "<div>\n<style scoped>\n    .dataframe tbody tr th:only-of-type {\n        vertical-align: middle;\n    }\n\n    .dataframe tbody tr th {\n        vertical-align: top;\n    }\n\n    .dataframe thead th {\n        text-align: right;\n    }\n</style>\n<table border=\"1\" class=\"dataframe\">\n  <thead>\n    <tr style=\"text-align: right;\">\n      <th></th>\n      <th>customer_id</th>\n      <th>INQUIRY_TIME</th>\n      <th>CDC_INQUIRY_ID</th>\n      <th>INQUIRY_DATE</th>\n      <th>PREVENTION_KEY</th>\n      <th>CURRENCY</th>\n      <th>MAX_CREDIT</th>\n      <th>CREDIT_LIMIT</th>\n      <th>PAYMENT_AMOUNT</th>\n      <th>UPDATE_DATE</th>\n      <th>...</th>\n      <th>ACCOUNT_TYPE</th>\n      <th>RESPONSABILITY_TYPE</th>\n      <th>TOTAL_PAYMENTS</th>\n      <th>DELAYED_PAYMENTS</th>\n      <th>CURRENT_PAYMENT</th>\n      <th>WORST_DELAY</th>\n      <th>TOTAL_REPORTED_PAYMENTS</th>\n      <th>CURRENT_BALANCE</th>\n      <th>BALANCE_DUE</th>\n      <th>BALANCE_DUE_WORST_DELAY</th>\n    </tr>\n  </thead>\n  <tbody>\n    <tr>\n      <th>0</th>\n      <td>1</td>\n      <td>2022-06-16 18:06:37.677000-05:00</td>\n      <td>102-b978ce50-aa84-4910-92dd-b3c721e7d831</td>\n      <td>2022-06-16</td>\n      <td>SIN OBSERVACION</td>\n      <td>PESOS MEXICANOS</td>\n      <td>30534.0</td>\n      <td>80300.0</td>\n      <td>418.0</td>\n      <td>2022-06-11</td>\n      <td>...</td>\n      <td>REVOLVENTE</td>\n      <td>INDIVIDUAL (TITULAR)</td>\n      <td>NaN</td>\n      <td>0.0</td>\n      <td>V</td>\n      <td>0.0</td>\n      <td>NaN</td>\n      <td>4800.0</td>\n      <td>0.0</td>\n      <td>0.0</td>\n    </tr>\n    <tr>\n      <th>1</th>\n      <td>1</td>\n      <td>2022-06-16 18:06:37.677000-05:00</td>\n      <td>102-b978ce50-aa84-4910-92dd-b3c721e7d831</td>\n      <td>2022-06-16</td>\n      <td>SIN OBSERVACION</td>\n      <td>PESOS MEXICANOS</td>\n      <td>22710.0</td>\n      <td>50000.0</td>\n      <td>625.0</td>\n      <td>2022-06-11</td>\n      <td>...</td>\n      <td>REVOLVENTE</td>\n      <td>INDIVIDUAL (TITULAR)</td>\n      <td>NaN</td>\n      <td>0.0</td>\n      <td>V</td>\n      <td>0.0</td>\n      <td>NaN</td>\n      <td>611.0</td>\n      <td>0.0</td>\n      <td>0.0</td>\n    </tr>\n    <tr>\n      <th>2</th>\n      <td>1</td>\n      <td>2022-06-16 18:06:37.677000-05:00</td>\n      <td>102-b978ce50-aa84-4910-92dd-b3c721e7d831</td>\n      <td>2022-06-16</td>\n      <td>SIN OBSERVACION</td>\n      <td>PESOS MEXICANOS</td>\n      <td>2675.0</td>\n      <td>20000.0</td>\n      <td>0.0</td>\n      <td>2022-06-10</td>\n      <td>...</td>\n      <td>SIN LIMITE PREESTABLECIDO</td>\n      <td>INDIVIDUAL (TITULAR)</td>\n      <td>NaN</td>\n      <td>0.0</td>\n      <td>V</td>\n      <td>0.0</td>\n      <td>NaN</td>\n      <td>0.0</td>\n      <td>0.0</td>\n      <td>0.0</td>\n    </tr>\n    <tr>\n      <th>3</th>\n      <td>1</td>\n      <td>2022-06-16 18:06:37.677000-05:00</td>\n      <td>102-b978ce50-aa84-4910-92dd-b3c721e7d831</td>\n      <td>2022-06-16</td>\n      <td>SIN OBSERVACION</td>\n      <td>PESOS MEXICANOS</td>\n      <td>39291.0</td>\n      <td>161000.0</td>\n      <td>578.0</td>\n      <td>2022-06-02</td>\n      <td>...</td>\n      <td>REVOLVENTE</td>\n      <td>INDIVIDUAL (TITULAR)</td>\n      <td>NaN</td>\n      <td>0.0</td>\n      <td>V</td>\n      <td>0.0</td>\n      <td>NaN</td>\n      <td>12557.0</td>\n      <td>0.0</td>\n      <td>0.0</td>\n    </tr>\n    <tr>\n      <th>4</th>\n      <td>1</td>\n      <td>2022-06-16 18:06:37.677000-05:00</td>\n      <td>102-b978ce50-aa84-4910-92dd-b3c721e7d831</td>\n      <td>2022-06-16</td>\n      <td>SIN OBSERVACION</td>\n      <td>PESOS MEXICANOS</td>\n      <td>0.0</td>\n      <td>0.0</td>\n      <td>0.0</td>\n      <td>2022-05-31</td>\n      <td>...</td>\n      <td>SIN LIMITE PREESTABLECIDO</td>\n      <td>INDIVIDUAL (TITULAR)</td>\n      <td>1.0</td>\n      <td>0.0</td>\n      <td>V</td>\n      <td>0.0</td>\n      <td>0.0</td>\n      <td>0.0</td>\n      <td>0.0</td>\n      <td>0.0</td>\n    </tr>\n    <tr>\n      <th>...</th>\n      <td>...</td>\n      <td>...</td>\n      <td>...</td>\n      <td>...</td>\n      <td>...</td>\n      <td>...</td>\n      <td>...</td>\n      <td>...</td>\n      <td>...</td>\n      <td>...</td>\n      <td>...</td>\n      <td>...</td>\n      <td>...</td>\n      <td>...</td>\n      <td>...</td>\n      <td>...</td>\n      <td>...</td>\n      <td>...</td>\n      <td>...</td>\n      <td>...</td>\n      <td>...</td>\n    </tr>\n    <tr>\n      <th>287351</th>\n      <td>14416</td>\n      <td>2023-04-24 17:36:56.539000-06:00</td>\n      <td>1169801-55d3f904-d9ce-4ad2-bb39-457595c1859b</td>\n      <td>2023-04-24</td>\n      <td>SIN OBSERVACION</td>\n      <td>PESOS MEXICANOS</td>\n      <td>25500.0</td>\n      <td>25500.0</td>\n      <td>0.0</td>\n      <td>2011-03-31</td>\n      <td>...</td>\n      <td>PAGOS FIJOS</td>\n      <td>INDIVIDUAL (TITULAR)</td>\n      <td>12.0</td>\n      <td>0.0</td>\n      <td>V</td>\n      <td>0.0</td>\n      <td>0.0</td>\n      <td>0.0</td>\n      <td>0.0</td>\n      <td>0.0</td>\n    </tr>\n    <tr>\n      <th>287352</th>\n      <td>14416</td>\n      <td>2023-04-24 17:36:56.539000-06:00</td>\n      <td>1169801-55d3f904-d9ce-4ad2-bb39-457595c1859b</td>\n      <td>2023-04-24</td>\n      <td>SIN OBSERVACION</td>\n      <td>PESOS MEXICANOS</td>\n      <td>25500.0</td>\n      <td>25500.0</td>\n      <td>0.0</td>\n      <td>2011-03-31</td>\n      <td>...</td>\n      <td>PAGOS FIJOS</td>\n      <td>INDIVIDUAL (TITULAR)</td>\n      <td>12.0</td>\n      <td>0.0</td>\n      <td>V</td>\n      <td>0.0</td>\n      <td>0.0</td>\n      <td>0.0</td>\n      <td>0.0</td>\n      <td>0.0</td>\n    </tr>\n    <tr>\n      <th>287353</th>\n      <td>14416</td>\n      <td>2023-04-24 17:36:56.539000-06:00</td>\n      <td>1169801-55d3f904-d9ce-4ad2-bb39-457595c1859b</td>\n      <td>2023-04-24</td>\n      <td>SIN OBSERVACION</td>\n      <td>PESOS MEXICANOS</td>\n      <td>25500.0</td>\n      <td>25500.0</td>\n      <td>0.0</td>\n      <td>2011-03-31</td>\n      <td>...</td>\n      <td>PAGOS FIJOS</td>\n      <td>INDIVIDUAL (TITULAR)</td>\n      <td>12.0</td>\n      <td>0.0</td>\n      <td>V</td>\n      <td>0.0</td>\n      <td>0.0</td>\n      <td>0.0</td>\n      <td>0.0</td>\n      <td>0.0</td>\n    </tr>\n    <tr>\n      <th>287354</th>\n      <td>14416</td>\n      <td>2023-04-24 17:36:56.539000-06:00</td>\n      <td>1169801-55d3f904-d9ce-4ad2-bb39-457595c1859b</td>\n      <td>2023-04-24</td>\n      <td>SIN OBSERVACION</td>\n      <td>PESOS MEXICANOS</td>\n      <td>1.0</td>\n      <td>0.0</td>\n      <td>0.0</td>\n      <td>2010-10-31</td>\n      <td>...</td>\n      <td>PAGOS FIJOS</td>\n      <td>INDIVIDUAL (TITULAR)</td>\n      <td>18.0</td>\n      <td>0.0</td>\n      <td>V</td>\n      <td>0.0</td>\n      <td>0.0</td>\n      <td>0.0</td>\n      <td>0.0</td>\n      <td>0.0</td>\n    </tr>\n    <tr>\n      <th>287355</th>\n      <td>14416</td>\n      <td>2023-04-24 17:36:56.539000-06:00</td>\n      <td>1169801-55d3f904-d9ce-4ad2-bb39-457595c1859b</td>\n      <td>2023-04-24</td>\n      <td>SIN OBSERVACION</td>\n      <td>PESOS MEXICANOS</td>\n      <td>6238.0</td>\n      <td>6238.0</td>\n      <td>0.0</td>\n      <td>2009-04-03</td>\n      <td>...</td>\n      <td>REVOLVENTE</td>\n      <td>INDIVIDUAL (TITULAR)</td>\n      <td>60.0</td>\n      <td>0.0</td>\n      <td>V</td>\n      <td>12.0</td>\n      <td>0.0</td>\n      <td>0.0</td>\n      <td>0.0</td>\n      <td>877.0</td>\n    </tr>\n  </tbody>\n</table>\n<p>287356 rows × 29 columns</p>\n</div>"
     },
     "execution_count": 63,
     "metadata": {},
     "output_type": "execute_result"
    }
   ],
   "source": [
    "limite_credito = duckdb.sql(\"select * from credit_reports order by customer_id, UPDATE_DATE desc\").to_df()\n",
    "limite_credito # PAUSEMOS ESTO, necesito el ID del credito"
   ],
   "metadata": {
    "collapsed": false,
    "ExecuteTime": {
     "end_time": "2023-10-29T05:32:32.429853700Z",
     "start_time": "2023-10-29T05:32:31.477765900Z"
    }
   }
  },
  {
   "cell_type": "markdown",
   "source": [
    "#### 1.2.5) Inspección de algunas variables en el dataset de main_dataset\n"
   ],
   "metadata": {
    "collapsed": false
   }
  },
  {
   "cell_type": "code",
   "execution_count": null,
   "outputs": [],
   "source": [
    "### AQUI, tambien hacer algunas graficas referentes al dataset de main_dataset\n",
    "\n"
   ],
   "metadata": {
    "collapsed": false
   }
  },
  {
   "cell_type": "markdown",
   "source": [
    "**NOTA:** En el breve análisis sobre lo que vimos acá (algún descrubimento en los datos)"
   ],
   "metadata": {
    "collapsed": false
   }
  },
  {
   "cell_type": "markdown",
   "source": [
    "## 2) Tratamiento de datos\n",
    "En este sección haremos un tratamiento más profundo de los datos, teniendo el objetivo de dejarlos listos para su uso en el modelo que vayamos a usar.\n",
    "\n",
    "**NOTA:** Voy a tomar el dataset de *main_dataset* como base, este dataset es el que realmente contiene el comportamiento del cliente en el primer prestamo en bankaya. Este primer dataset de base lo voy a relacionar con la fuente externa de datos que es el dataset de *credit_reports*. Sin embargo, voy a tranformar radicalmente este dataset. Este último dataset contiene información historica de cada cliente (por lo que cada cliente puede aparecer en multiuples ocaciones en este dataset) voy a tranformalo todo eso para que este en un formato de un solo registro y capture lo que de momento a mi parecer puede significar las variables más prometedora de integrar\n"
   ],
   "metadata": {
    "collapsed": false
   }
  },
  {
   "cell_type": "markdown",
   "source": [
    "### 2.1) Tratamiento a credit reports"
   ],
   "metadata": {
    "collapsed": false
   }
  },
  {
   "cell_type": "markdown",
   "source": [
    "#### 2.1.1) Generación de ID crédito\n",
    "Dado que no cuento con un ID de crédito voy a generar uno haciendo una serie de supuestos, que son los siguientes: un prestamo unico tendrá valores únicos en los siguientes campos:\n",
    "- customer_id\n",
    "- LOAN_OPENING_DATE\n",
    "- PAYMENT_FREQUENCY\n",
    "- BUSINESS_TYPE\n",
    "- CREDIT_TYPE\n",
    "- RESPONSABILITY_TYPE"
   ],
   "metadata": {
    "collapsed": false
   }
  },
  {
   "cell_type": "code",
   "execution_count": 106,
   "outputs": [
    {
     "data": {
      "text/plain": "        customer_id    LOAN_OPENING_DATE  \\\n0              4223  2019-08-30 00:00:00   \n1              4223  2020-04-21 00:00:00   \n2              4223  2021-12-17 00:00:00   \n3              3490  2021-03-02 00:00:00   \n4              6486  2019-02-22 00:00:00   \n...             ...                  ...   \n287351        12079  2020-12-22 00:00:00   \n287352        12079  2021-02-14 00:00:00   \n287353        12079  2021-02-17 00:00:00   \n287354        12079  2021-02-17 00:00:00   \n287355        12079  2018-07-19 00:00:00   \n\n                           PAYMENT_FREQUENCY                   BUSINESS_TYPE  \\\n0                                    MENSUAL            TIENDA DEPARTAMENTAL   \n1       PAGO MINIMO PARA CUENTAS REVOLVENTES            TIENDA DEPARTAMENTAL   \n2                                    SEMANAL                          BANCOS   \n3                                    SEMANAL                  TIENDA DE ROPA   \n4       PAGO MINIMO PARA CUENTAS REVOLVENTES            TIENDA DEPARTAMENTAL   \n...                                      ...                             ...   \n287351                               MENSUAL                 MICROFINANCIERA   \n287352                               MENSUAL                 MICROFINANCIERA   \n287353                               MENSUAL                 MICROFINANCIERA   \n287354                               MENSUAL                 MICROFINANCIERA   \n287355                               SEMANAL  MERCANCIA PARA HOGAR Y OFICINA   \n\n               CREDIT_TYPE   RESPONSABILITY_TYPE  LOAN_ID  \n0         APARATOS/MUEBLES  INDIVIDUAL (TITULAR)        0  \n1         LINEA DE CREDITO  INDIVIDUAL (TITULAR)        1  \n2        PRESTAMO PERSONAL  INDIVIDUAL (TITULAR)        2  \n3        PRESTAMO PERSONAL  INDIVIDUAL (TITULAR)        3  \n4         LINEA DE CREDITO  INDIVIDUAL (TITULAR)        4  \n...                    ...                   ...      ...  \n287351  CREDITO AL CONSUMO  INDIVIDUAL (TITULAR)   287351  \n287352  CREDITO AL CONSUMO  INDIVIDUAL (TITULAR)   287352  \n287353  CREDITO AL CONSUMO  INDIVIDUAL (TITULAR)   287353  \n287354  CREDITO AL CONSUMO  INDIVIDUAL (TITULAR)   287354  \n287355    LINEA DE CREDITO  INDIVIDUAL (TITULAR)   287355  \n\n[272796 rows x 7 columns]",
      "text/html": "<div>\n<style scoped>\n    .dataframe tbody tr th:only-of-type {\n        vertical-align: middle;\n    }\n\n    .dataframe tbody tr th {\n        vertical-align: top;\n    }\n\n    .dataframe thead th {\n        text-align: right;\n    }\n</style>\n<table border=\"1\" class=\"dataframe\">\n  <thead>\n    <tr style=\"text-align: right;\">\n      <th></th>\n      <th>customer_id</th>\n      <th>LOAN_OPENING_DATE</th>\n      <th>PAYMENT_FREQUENCY</th>\n      <th>BUSINESS_TYPE</th>\n      <th>CREDIT_TYPE</th>\n      <th>RESPONSABILITY_TYPE</th>\n      <th>LOAN_ID</th>\n    </tr>\n  </thead>\n  <tbody>\n    <tr>\n      <th>0</th>\n      <td>4223</td>\n      <td>2019-08-30 00:00:00</td>\n      <td>MENSUAL</td>\n      <td>TIENDA DEPARTAMENTAL</td>\n      <td>APARATOS/MUEBLES</td>\n      <td>INDIVIDUAL (TITULAR)</td>\n      <td>0</td>\n    </tr>\n    <tr>\n      <th>1</th>\n      <td>4223</td>\n      <td>2020-04-21 00:00:00</td>\n      <td>PAGO MINIMO PARA CUENTAS REVOLVENTES</td>\n      <td>TIENDA DEPARTAMENTAL</td>\n      <td>LINEA DE CREDITO</td>\n      <td>INDIVIDUAL (TITULAR)</td>\n      <td>1</td>\n    </tr>\n    <tr>\n      <th>2</th>\n      <td>4223</td>\n      <td>2021-12-17 00:00:00</td>\n      <td>SEMANAL</td>\n      <td>BANCOS</td>\n      <td>PRESTAMO PERSONAL</td>\n      <td>INDIVIDUAL (TITULAR)</td>\n      <td>2</td>\n    </tr>\n    <tr>\n      <th>3</th>\n      <td>3490</td>\n      <td>2021-03-02 00:00:00</td>\n      <td>SEMANAL</td>\n      <td>TIENDA DE ROPA</td>\n      <td>PRESTAMO PERSONAL</td>\n      <td>INDIVIDUAL (TITULAR)</td>\n      <td>3</td>\n    </tr>\n    <tr>\n      <th>4</th>\n      <td>6486</td>\n      <td>2019-02-22 00:00:00</td>\n      <td>PAGO MINIMO PARA CUENTAS REVOLVENTES</td>\n      <td>TIENDA DEPARTAMENTAL</td>\n      <td>LINEA DE CREDITO</td>\n      <td>INDIVIDUAL (TITULAR)</td>\n      <td>4</td>\n    </tr>\n    <tr>\n      <th>...</th>\n      <td>...</td>\n      <td>...</td>\n      <td>...</td>\n      <td>...</td>\n      <td>...</td>\n      <td>...</td>\n      <td>...</td>\n    </tr>\n    <tr>\n      <th>287351</th>\n      <td>12079</td>\n      <td>2020-12-22 00:00:00</td>\n      <td>MENSUAL</td>\n      <td>MICROFINANCIERA</td>\n      <td>CREDITO AL CONSUMO</td>\n      <td>INDIVIDUAL (TITULAR)</td>\n      <td>287351</td>\n    </tr>\n    <tr>\n      <th>287352</th>\n      <td>12079</td>\n      <td>2021-02-14 00:00:00</td>\n      <td>MENSUAL</td>\n      <td>MICROFINANCIERA</td>\n      <td>CREDITO AL CONSUMO</td>\n      <td>INDIVIDUAL (TITULAR)</td>\n      <td>287352</td>\n    </tr>\n    <tr>\n      <th>287353</th>\n      <td>12079</td>\n      <td>2021-02-17 00:00:00</td>\n      <td>MENSUAL</td>\n      <td>MICROFINANCIERA</td>\n      <td>CREDITO AL CONSUMO</td>\n      <td>INDIVIDUAL (TITULAR)</td>\n      <td>287353</td>\n    </tr>\n    <tr>\n      <th>287354</th>\n      <td>12079</td>\n      <td>2021-02-17 00:00:00</td>\n      <td>MENSUAL</td>\n      <td>MICROFINANCIERA</td>\n      <td>CREDITO AL CONSUMO</td>\n      <td>INDIVIDUAL (TITULAR)</td>\n      <td>287354</td>\n    </tr>\n    <tr>\n      <th>287355</th>\n      <td>12079</td>\n      <td>2018-07-19 00:00:00</td>\n      <td>SEMANAL</td>\n      <td>MERCANCIA PARA HOGAR Y OFICINA</td>\n      <td>LINEA DE CREDITO</td>\n      <td>INDIVIDUAL (TITULAR)</td>\n      <td>287355</td>\n    </tr>\n  </tbody>\n</table>\n<p>272796 rows × 7 columns</p>\n</div>"
     },
     "execution_count": 106,
     "metadata": {},
     "output_type": "execute_result"
    }
   ],
   "source": [
    "# 1) Dropeo de duplicados\n",
    "ID_loan = credit_reports.drop_duplicates(subset=[\"customer_id\", \"LOAN_OPENING_DATE\", \"PAYMENT_FREQUENCY\", \"BUSINESS_TYPE\", \"CREDIT_TYPE\", \"RESPONSABILITY_TYPE\"]) # De acuerdo con mis supuestos en este punto tendriamos indentificados cada prestamos con un solo registro de él.\n",
    "\n",
    "# 2) Seleccion de columnas de interés\n",
    "ID_loan = ID_loan [[\"customer_id\", \"LOAN_OPENING_DATE\", \"PAYMENT_FREQUENCY\", \"BUSINESS_TYPE\", \"CREDIT_TYPE\", \"RESPONSABILITY_TYPE\"]]\n",
    "ID_loan[\"LOAN_ID\"] = ID_loan.index\n",
    "ID_loan\n",
    "\n",
    "### ESTO AHORITA NO ESTA JALANDO"
   ],
   "metadata": {
    "collapsed": false,
    "ExecuteTime": {
     "end_time": "2023-10-29T16:21:16.434662100Z",
     "start_time": "2023-10-29T16:21:16.218575100Z"
    }
   }
  },
  {
   "cell_type": "markdown",
   "source": [
    "MERGE CON EL DATASET ORIGINAL"
   ],
   "metadata": {
    "collapsed": false
   }
  },
  {
   "cell_type": "code",
   "execution_count": 104,
   "outputs": [
    {
     "data": {
      "text/plain": "        customer_id                      INQUIRY_TIME  \\\n0              4223  2022-04-01 00:32:36.689000+00:00   \n1              4223  2022-04-01 00:32:36.689000+00:00   \n2              4223  2022-04-01 00:32:36.689000+00:00   \n3              3490  2022-02-15 02:30:22.086000+00:00   \n4              6486  2022-06-25 01:57:14.868000+00:00   \n...             ...                               ...   \n287351        12079  2022-12-24 22:21:36.102000+00:00   \n287352        12079  2022-12-24 22:21:36.102000+00:00   \n287353        12079  2022-12-24 22:21:36.102000+00:00   \n287354        12079  2022-12-24 22:21:36.102000+00:00   \n287355        12079  2022-12-24 22:21:36.102000+00:00   \n\n                                      CDC_INQUIRY_ID         INQUIRY_DATE  \\\n0        710278-27993a6e-2885-48d4-a753-9249e7022af1  2022-04-01 00:00:00   \n1        710278-27993a6e-2885-48d4-a753-9249e7022af1  2022-04-01 00:00:00   \n2        710278-27993a6e-2885-48d4-a753-9249e7022af1  2022-04-01 00:00:00   \n3        622857-6b4e9d95-7491-40c3-bccd-442de7f94c58  2022-02-15 00:00:00   \n4        875073-46a5f149-19db-4193-b92a-b8f41fb3e896  2022-06-25 00:00:00   \n...                                              ...                  ...   \n287351  1053785-35891c8d-97ba-4dce-9f5f-e7bf8684473a  2022-12-24 00:00:00   \n287352  1053785-35891c8d-97ba-4dce-9f5f-e7bf8684473a  2022-12-24 00:00:00   \n287353  1053785-35891c8d-97ba-4dce-9f5f-e7bf8684473a  2022-12-24 00:00:00   \n287354  1053785-35891c8d-97ba-4dce-9f5f-e7bf8684473a  2022-12-24 00:00:00   \n287355  1053785-35891c8d-97ba-4dce-9f5f-e7bf8684473a  2022-12-24 00:00:00   \n\n                    PREVENTION_KEY         CURRENCY  MAX_CREDIT  CREDIT_LIMIT  \\\n0                  SIN OBSERVACION  PESOS MEXICANOS      1244.0        9900.0   \n1                  SIN OBSERVACION  PESOS MEXICANOS      1722.0        9900.0   \n2                  SIN OBSERVACION  PESOS MEXICANOS      6346.0           0.0   \n3                  SIN OBSERVACION  PESOS MEXICANOS     11600.0           0.0   \n4                  SIN OBSERVACION  PESOS MEXICANOS      2452.0       16800.0   \n...                            ...              ...         ...           ...   \n287351             SIN OBSERVACION  PESOS MEXICANOS      1609.0        1609.0   \n287352             SIN OBSERVACION  PESOS MEXICANOS       248.0         248.0   \n287353             SIN OBSERVACION  PESOS MEXICANOS      3267.0        3267.0   \n287354             SIN OBSERVACION  PESOS MEXICANOS       496.0         496.0   \n287355  CUENTA QUE CAUSA QUEBRANTO  PESOS MEXICANOS     26458.0           0.0   \n\n        PAYMENT_AMOUNT          UPDATE_DATE  ...   RESPONSABILITY_TYPE  \\\n0               1244.0  2022-02-28 00:00:00  ...  INDIVIDUAL (TITULAR)   \n1               1722.0  2022-02-28 00:00:00  ...  INDIVIDUAL (TITULAR)   \n2                482.0  2022-03-28 00:00:00  ...  INDIVIDUAL (TITULAR)   \n3                232.0  2022-02-01 00:00:00  ...  INDIVIDUAL (TITULAR)   \n4               2452.0  2021-09-30 00:00:00  ...  INDIVIDUAL (TITULAR)   \n...                ...                  ...  ...                   ...   \n287351           634.0  2022-12-01 00:00:00  ...  INDIVIDUAL (TITULAR)   \n287352           263.0  2022-12-01 00:00:00  ...  INDIVIDUAL (TITULAR)   \n287353          1243.0  2022-12-01 00:00:00  ...  INDIVIDUAL (TITULAR)   \n287354           189.0  2022-12-01 00:00:00  ...  INDIVIDUAL (TITULAR)   \n287355          9882.0  2022-12-15 00:00:00  ...  INDIVIDUAL (TITULAR)   \n\n       TOTAL_PAYMENTS DELAYED_PAYMENTS CURRENT_PAYMENT WORST_DELAY  \\\n0                12.0                7              13        13.0   \n1                 0.0                3              13        13.0   \n2                16.0                0               V         0.0   \n3               100.0                4              01         1.0   \n4                 0.0               19              13        13.0   \n...               ...              ...             ...         ...   \n287351            3.0               11              01         1.0   \n287352            1.0               11              01         1.0   \n287353            3.0               10              03         3.0   \n287354            3.0               10              03         3.0   \n287355          102.0               73              84        84.0   \n\n       TOTAL_REPORTED_PAYMENTS CURRENT_BALANCE BALANCE_DUE  \\\n0                            0          1244.0      1244.0   \n1                            0          1722.0      1722.0   \n2                            0           943.0         0.0   \n3                            0          6185.0       116.0   \n4                            0          2452.0      2452.0   \n...                        ...             ...         ...   \n287351                       0           634.0       634.0   \n287352                       0           263.0       263.0   \n287353                       0          3666.0      3666.0   \n287354                       0           557.0       557.0   \n287355                       0          9882.0      9882.0   \n\n       BALANCE_DUE_WORST_DELAY LOAN_ID  \n0                       1244.0       0  \n1                       1722.0       1  \n2                          0.0       2  \n3                        116.0       3  \n4                       2452.0       4  \n...                        ...     ...  \n287351                   634.0  287351  \n287352                   263.0  287352  \n287353                  3666.0  287353  \n287354                   557.0  287353  \n287355                  9882.0  287355  \n\n[287356 rows x 30 columns]",
      "text/html": "<div>\n<style scoped>\n    .dataframe tbody tr th:only-of-type {\n        vertical-align: middle;\n    }\n\n    .dataframe tbody tr th {\n        vertical-align: top;\n    }\n\n    .dataframe thead th {\n        text-align: right;\n    }\n</style>\n<table border=\"1\" class=\"dataframe\">\n  <thead>\n    <tr style=\"text-align: right;\">\n      <th></th>\n      <th>customer_id</th>\n      <th>INQUIRY_TIME</th>\n      <th>CDC_INQUIRY_ID</th>\n      <th>INQUIRY_DATE</th>\n      <th>PREVENTION_KEY</th>\n      <th>CURRENCY</th>\n      <th>MAX_CREDIT</th>\n      <th>CREDIT_LIMIT</th>\n      <th>PAYMENT_AMOUNT</th>\n      <th>UPDATE_DATE</th>\n      <th>...</th>\n      <th>RESPONSABILITY_TYPE</th>\n      <th>TOTAL_PAYMENTS</th>\n      <th>DELAYED_PAYMENTS</th>\n      <th>CURRENT_PAYMENT</th>\n      <th>WORST_DELAY</th>\n      <th>TOTAL_REPORTED_PAYMENTS</th>\n      <th>CURRENT_BALANCE</th>\n      <th>BALANCE_DUE</th>\n      <th>BALANCE_DUE_WORST_DELAY</th>\n      <th>LOAN_ID</th>\n    </tr>\n  </thead>\n  <tbody>\n    <tr>\n      <th>0</th>\n      <td>4223</td>\n      <td>2022-04-01 00:32:36.689000+00:00</td>\n      <td>710278-27993a6e-2885-48d4-a753-9249e7022af1</td>\n      <td>2022-04-01 00:00:00</td>\n      <td>SIN OBSERVACION</td>\n      <td>PESOS MEXICANOS</td>\n      <td>1244.0</td>\n      <td>9900.0</td>\n      <td>1244.0</td>\n      <td>2022-02-28 00:00:00</td>\n      <td>...</td>\n      <td>INDIVIDUAL (TITULAR)</td>\n      <td>12.0</td>\n      <td>7</td>\n      <td>13</td>\n      <td>13.0</td>\n      <td>0</td>\n      <td>1244.0</td>\n      <td>1244.0</td>\n      <td>1244.0</td>\n      <td>0</td>\n    </tr>\n    <tr>\n      <th>1</th>\n      <td>4223</td>\n      <td>2022-04-01 00:32:36.689000+00:00</td>\n      <td>710278-27993a6e-2885-48d4-a753-9249e7022af1</td>\n      <td>2022-04-01 00:00:00</td>\n      <td>SIN OBSERVACION</td>\n      <td>PESOS MEXICANOS</td>\n      <td>1722.0</td>\n      <td>9900.0</td>\n      <td>1722.0</td>\n      <td>2022-02-28 00:00:00</td>\n      <td>...</td>\n      <td>INDIVIDUAL (TITULAR)</td>\n      <td>0.0</td>\n      <td>3</td>\n      <td>13</td>\n      <td>13.0</td>\n      <td>0</td>\n      <td>1722.0</td>\n      <td>1722.0</td>\n      <td>1722.0</td>\n      <td>1</td>\n    </tr>\n    <tr>\n      <th>2</th>\n      <td>4223</td>\n      <td>2022-04-01 00:32:36.689000+00:00</td>\n      <td>710278-27993a6e-2885-48d4-a753-9249e7022af1</td>\n      <td>2022-04-01 00:00:00</td>\n      <td>SIN OBSERVACION</td>\n      <td>PESOS MEXICANOS</td>\n      <td>6346.0</td>\n      <td>0.0</td>\n      <td>482.0</td>\n      <td>2022-03-28 00:00:00</td>\n      <td>...</td>\n      <td>INDIVIDUAL (TITULAR)</td>\n      <td>16.0</td>\n      <td>0</td>\n      <td>V</td>\n      <td>0.0</td>\n      <td>0</td>\n      <td>943.0</td>\n      <td>0.0</td>\n      <td>0.0</td>\n      <td>2</td>\n    </tr>\n    <tr>\n      <th>3</th>\n      <td>3490</td>\n      <td>2022-02-15 02:30:22.086000+00:00</td>\n      <td>622857-6b4e9d95-7491-40c3-bccd-442de7f94c58</td>\n      <td>2022-02-15 00:00:00</td>\n      <td>SIN OBSERVACION</td>\n      <td>PESOS MEXICANOS</td>\n      <td>11600.0</td>\n      <td>0.0</td>\n      <td>232.0</td>\n      <td>2022-02-01 00:00:00</td>\n      <td>...</td>\n      <td>INDIVIDUAL (TITULAR)</td>\n      <td>100.0</td>\n      <td>4</td>\n      <td>01</td>\n      <td>1.0</td>\n      <td>0</td>\n      <td>6185.0</td>\n      <td>116.0</td>\n      <td>116.0</td>\n      <td>3</td>\n    </tr>\n    <tr>\n      <th>4</th>\n      <td>6486</td>\n      <td>2022-06-25 01:57:14.868000+00:00</td>\n      <td>875073-46a5f149-19db-4193-b92a-b8f41fb3e896</td>\n      <td>2022-06-25 00:00:00</td>\n      <td>SIN OBSERVACION</td>\n      <td>PESOS MEXICANOS</td>\n      <td>2452.0</td>\n      <td>16800.0</td>\n      <td>2452.0</td>\n      <td>2021-09-30 00:00:00</td>\n      <td>...</td>\n      <td>INDIVIDUAL (TITULAR)</td>\n      <td>0.0</td>\n      <td>19</td>\n      <td>13</td>\n      <td>13.0</td>\n      <td>0</td>\n      <td>2452.0</td>\n      <td>2452.0</td>\n      <td>2452.0</td>\n      <td>4</td>\n    </tr>\n    <tr>\n      <th>...</th>\n      <td>...</td>\n      <td>...</td>\n      <td>...</td>\n      <td>...</td>\n      <td>...</td>\n      <td>...</td>\n      <td>...</td>\n      <td>...</td>\n      <td>...</td>\n      <td>...</td>\n      <td>...</td>\n      <td>...</td>\n      <td>...</td>\n      <td>...</td>\n      <td>...</td>\n      <td>...</td>\n      <td>...</td>\n      <td>...</td>\n      <td>...</td>\n      <td>...</td>\n      <td>...</td>\n    </tr>\n    <tr>\n      <th>287351</th>\n      <td>12079</td>\n      <td>2022-12-24 22:21:36.102000+00:00</td>\n      <td>1053785-35891c8d-97ba-4dce-9f5f-e7bf8684473a</td>\n      <td>2022-12-24 00:00:00</td>\n      <td>SIN OBSERVACION</td>\n      <td>PESOS MEXICANOS</td>\n      <td>1609.0</td>\n      <td>1609.0</td>\n      <td>634.0</td>\n      <td>2022-12-01 00:00:00</td>\n      <td>...</td>\n      <td>INDIVIDUAL (TITULAR)</td>\n      <td>3.0</td>\n      <td>11</td>\n      <td>01</td>\n      <td>1.0</td>\n      <td>0</td>\n      <td>634.0</td>\n      <td>634.0</td>\n      <td>634.0</td>\n      <td>287351</td>\n    </tr>\n    <tr>\n      <th>287352</th>\n      <td>12079</td>\n      <td>2022-12-24 22:21:36.102000+00:00</td>\n      <td>1053785-35891c8d-97ba-4dce-9f5f-e7bf8684473a</td>\n      <td>2022-12-24 00:00:00</td>\n      <td>SIN OBSERVACION</td>\n      <td>PESOS MEXICANOS</td>\n      <td>248.0</td>\n      <td>248.0</td>\n      <td>263.0</td>\n      <td>2022-12-01 00:00:00</td>\n      <td>...</td>\n      <td>INDIVIDUAL (TITULAR)</td>\n      <td>1.0</td>\n      <td>11</td>\n      <td>01</td>\n      <td>1.0</td>\n      <td>0</td>\n      <td>263.0</td>\n      <td>263.0</td>\n      <td>263.0</td>\n      <td>287352</td>\n    </tr>\n    <tr>\n      <th>287353</th>\n      <td>12079</td>\n      <td>2022-12-24 22:21:36.102000+00:00</td>\n      <td>1053785-35891c8d-97ba-4dce-9f5f-e7bf8684473a</td>\n      <td>2022-12-24 00:00:00</td>\n      <td>SIN OBSERVACION</td>\n      <td>PESOS MEXICANOS</td>\n      <td>3267.0</td>\n      <td>3267.0</td>\n      <td>1243.0</td>\n      <td>2022-12-01 00:00:00</td>\n      <td>...</td>\n      <td>INDIVIDUAL (TITULAR)</td>\n      <td>3.0</td>\n      <td>10</td>\n      <td>03</td>\n      <td>3.0</td>\n      <td>0</td>\n      <td>3666.0</td>\n      <td>3666.0</td>\n      <td>3666.0</td>\n      <td>287353</td>\n    </tr>\n    <tr>\n      <th>287354</th>\n      <td>12079</td>\n      <td>2022-12-24 22:21:36.102000+00:00</td>\n      <td>1053785-35891c8d-97ba-4dce-9f5f-e7bf8684473a</td>\n      <td>2022-12-24 00:00:00</td>\n      <td>SIN OBSERVACION</td>\n      <td>PESOS MEXICANOS</td>\n      <td>496.0</td>\n      <td>496.0</td>\n      <td>189.0</td>\n      <td>2022-12-01 00:00:00</td>\n      <td>...</td>\n      <td>INDIVIDUAL (TITULAR)</td>\n      <td>3.0</td>\n      <td>10</td>\n      <td>03</td>\n      <td>3.0</td>\n      <td>0</td>\n      <td>557.0</td>\n      <td>557.0</td>\n      <td>557.0</td>\n      <td>287353</td>\n    </tr>\n    <tr>\n      <th>287355</th>\n      <td>12079</td>\n      <td>2022-12-24 22:21:36.102000+00:00</td>\n      <td>1053785-35891c8d-97ba-4dce-9f5f-e7bf8684473a</td>\n      <td>2022-12-24 00:00:00</td>\n      <td>CUENTA QUE CAUSA QUEBRANTO</td>\n      <td>PESOS MEXICANOS</td>\n      <td>26458.0</td>\n      <td>0.0</td>\n      <td>9882.0</td>\n      <td>2022-12-15 00:00:00</td>\n      <td>...</td>\n      <td>INDIVIDUAL (TITULAR)</td>\n      <td>102.0</td>\n      <td>73</td>\n      <td>84</td>\n      <td>84.0</td>\n      <td>0</td>\n      <td>9882.0</td>\n      <td>9882.0</td>\n      <td>9882.0</td>\n      <td>287355</td>\n    </tr>\n  </tbody>\n</table>\n<p>287356 rows × 30 columns</p>\n</div>"
     },
     "execution_count": 104,
     "metadata": {},
     "output_type": "execute_result"
    }
   ],
   "source": [
    "credit_reports = pd.merge(left=credit_reports, right=ID_loan, left_on=[\"customer_id\", \"LOAN_OPENING_DATE\", \"PAYMENT_FREQUENCY\", \"BUSINESS_TYPE\", \"CREDIT_TYPE\", \"RESPONSABILITY_TYPE\"], right_on=[\"customer_id\", \"LOAN_OPENING_DATE\", \"PAYMENT_FREQUENCY\", \"BUSINESS_TYPE\", \"CREDIT_TYPE\", \"RESPONSABILITY_TYPE\"], how=\"left\")\n",
    "credit_reports\n",
    "\n",
    "### ES PARTE DE LO DE ARRIBA, ESTO NO ESTA JALANDO"
   ],
   "metadata": {
    "collapsed": false,
    "ExecuteTime": {
     "end_time": "2023-10-29T16:16:42.819164Z",
     "start_time": "2023-10-29T16:16:42.597901200Z"
    }
   }
  },
  {
   "cell_type": "markdown",
   "source": [
    "#### 2.1.2) Linea máxima de crédito\n",
    "Es la linea máxima de crédito en el historial del cliente"
   ],
   "metadata": {
    "collapsed": false
   }
  },
  {
   "cell_type": "code",
   "execution_count": 165,
   "outputs": [
    {
     "data": {
      "text/plain": "      customer_id  CREDIT_LIMIT\n0               1      0.735949\n1               2      0.163011\n2               3      3.034093\n3               4     -0.432844\n4               5      0.109040\n...           ...           ...\n9244        14391      0.290040\n9245        14404     -0.418112\n9246        14408     -0.581808\n9247        14410     -0.565438\n9248        14416      0.416495\n\n[9249 rows x 2 columns]",
      "text/html": "<div>\n<style scoped>\n    .dataframe tbody tr th:only-of-type {\n        vertical-align: middle;\n    }\n\n    .dataframe tbody tr th {\n        vertical-align: top;\n    }\n\n    .dataframe thead th {\n        text-align: right;\n    }\n</style>\n<table border=\"1\" class=\"dataframe\">\n  <thead>\n    <tr style=\"text-align: right;\">\n      <th></th>\n      <th>customer_id</th>\n      <th>CREDIT_LIMIT</th>\n    </tr>\n  </thead>\n  <tbody>\n    <tr>\n      <th>0</th>\n      <td>1</td>\n      <td>0.735949</td>\n    </tr>\n    <tr>\n      <th>1</th>\n      <td>2</td>\n      <td>0.163011</td>\n    </tr>\n    <tr>\n      <th>2</th>\n      <td>3</td>\n      <td>3.034093</td>\n    </tr>\n    <tr>\n      <th>3</th>\n      <td>4</td>\n      <td>-0.432844</td>\n    </tr>\n    <tr>\n      <th>4</th>\n      <td>5</td>\n      <td>0.109040</td>\n    </tr>\n    <tr>\n      <th>...</th>\n      <td>...</td>\n      <td>...</td>\n    </tr>\n    <tr>\n      <th>9244</th>\n      <td>14391</td>\n      <td>0.290040</td>\n    </tr>\n    <tr>\n      <th>9245</th>\n      <td>14404</td>\n      <td>-0.418112</td>\n    </tr>\n    <tr>\n      <th>9246</th>\n      <td>14408</td>\n      <td>-0.581808</td>\n    </tr>\n    <tr>\n      <th>9247</th>\n      <td>14410</td>\n      <td>-0.565438</td>\n    </tr>\n    <tr>\n      <th>9248</th>\n      <td>14416</td>\n      <td>0.416495</td>\n    </tr>\n  </tbody>\n</table>\n<p>9249 rows × 2 columns</p>\n</div>"
     },
     "execution_count": 165,
     "metadata": {},
     "output_type": "execute_result"
    }
   ],
   "source": [
    "credit_limit = duckdb.sql(\"select  distinct on (customer_id) customer_id, CREDIT_LIMIT from credit_reports order by customer_id, CREDIT_LIMIT desc\").to_df()\n",
    "\n",
    "# Escalamos la variable\n",
    "# Instanciar el escalador\n",
    "scaler = StandardScaler()\n",
    "\n",
    "credit_limit['CREDIT_LIMIT'] = scaler.fit_transform(credit_limit[['CREDIT_LIMIT']]) # Escalamientop de esta variable\n",
    "\n",
    "credit_limit # Este es el limite máximo que han tenido en su historia cada cliente"
   ],
   "metadata": {
    "collapsed": false,
    "ExecuteTime": {
     "end_time": "2023-10-29T22:45:01.616353200Z",
     "start_time": "2023-10-29T22:45:01.524330600Z"
    }
   }
  },
  {
   "cell_type": "markdown",
   "source": [
    "#### 2.1.3) Antiguedad crediticia"
   ],
   "metadata": {
    "collapsed": false
   }
  },
  {
   "cell_type": "code",
   "execution_count": 267,
   "outputs": [
    {
     "data": {
      "text/plain": "      customer_id LOAN_OPENING_DATE\n0               1        2003-08-21\n1               2        2009-08-15\n2               3        2014-05-03\n3               4        2020-06-30\n4               5        2002-06-18\n...           ...               ...\n9244        14391        2019-05-31\n9245        14404        2005-05-31\n9246        14408        2019-03-10\n9247        14410        2011-03-25\n9248        14416        2005-11-04\n\n[9249 rows x 2 columns]",
      "text/html": "<div>\n<style scoped>\n    .dataframe tbody tr th:only-of-type {\n        vertical-align: middle;\n    }\n\n    .dataframe tbody tr th {\n        vertical-align: top;\n    }\n\n    .dataframe thead th {\n        text-align: right;\n    }\n</style>\n<table border=\"1\" class=\"dataframe\">\n  <thead>\n    <tr style=\"text-align: right;\">\n      <th></th>\n      <th>customer_id</th>\n      <th>LOAN_OPENING_DATE</th>\n    </tr>\n  </thead>\n  <tbody>\n    <tr>\n      <th>0</th>\n      <td>1</td>\n      <td>2003-08-21</td>\n    </tr>\n    <tr>\n      <th>1</th>\n      <td>2</td>\n      <td>2009-08-15</td>\n    </tr>\n    <tr>\n      <th>2</th>\n      <td>3</td>\n      <td>2014-05-03</td>\n    </tr>\n    <tr>\n      <th>3</th>\n      <td>4</td>\n      <td>2020-06-30</td>\n    </tr>\n    <tr>\n      <th>4</th>\n      <td>5</td>\n      <td>2002-06-18</td>\n    </tr>\n    <tr>\n      <th>...</th>\n      <td>...</td>\n      <td>...</td>\n    </tr>\n    <tr>\n      <th>9244</th>\n      <td>14391</td>\n      <td>2019-05-31</td>\n    </tr>\n    <tr>\n      <th>9245</th>\n      <td>14404</td>\n      <td>2005-05-31</td>\n    </tr>\n    <tr>\n      <th>9246</th>\n      <td>14408</td>\n      <td>2019-03-10</td>\n    </tr>\n    <tr>\n      <th>9247</th>\n      <td>14410</td>\n      <td>2011-03-25</td>\n    </tr>\n    <tr>\n      <th>9248</th>\n      <td>14416</td>\n      <td>2005-11-04</td>\n    </tr>\n  </tbody>\n</table>\n<p>9249 rows × 2 columns</p>\n</div>"
     },
     "execution_count": 267,
     "metadata": {},
     "output_type": "execute_result"
    }
   ],
   "source": [
    "# Vamos a generar la antiguedad crediticia de cada cliente\n",
    "antiguedad_crediticia = duckdb.sql(\"SELECT DISTINCT ON (customer_id) customer_id, LOAN_OPENING_DATE FROM credit_reports ORDER BY customer_id, LOAN_OPENING_DATE ASC\").to_df()\n",
    "antiguedad_crediticia"
   ],
   "metadata": {
    "collapsed": false,
    "ExecuteTime": {
     "end_time": "2023-10-30T06:02:42.212475900Z",
     "start_time": "2023-10-30T06:02:42.077818400Z"
    }
   }
  },
  {
   "cell_type": "code",
   "execution_count": 268,
   "outputs": [
    {
     "data": {
      "text/plain": "      customer_id  Years_old\n0               1       20.0\n1               2       14.0\n2               3        9.0\n3               4        3.0\n4               5       21.0\n...           ...        ...\n9244        14391        4.0\n9245        14404       18.0\n9246        14408        4.0\n9247        14410       12.0\n9248        14416       17.0\n\n[9249 rows x 2 columns]",
      "text/html": "<div>\n<style scoped>\n    .dataframe tbody tr th:only-of-type {\n        vertical-align: middle;\n    }\n\n    .dataframe tbody tr th {\n        vertical-align: top;\n    }\n\n    .dataframe thead th {\n        text-align: right;\n    }\n</style>\n<table border=\"1\" class=\"dataframe\">\n  <thead>\n    <tr style=\"text-align: right;\">\n      <th></th>\n      <th>customer_id</th>\n      <th>Years_old</th>\n    </tr>\n  </thead>\n  <tbody>\n    <tr>\n      <th>0</th>\n      <td>1</td>\n      <td>20.0</td>\n    </tr>\n    <tr>\n      <th>1</th>\n      <td>2</td>\n      <td>14.0</td>\n    </tr>\n    <tr>\n      <th>2</th>\n      <td>3</td>\n      <td>9.0</td>\n    </tr>\n    <tr>\n      <th>3</th>\n      <td>4</td>\n      <td>3.0</td>\n    </tr>\n    <tr>\n      <th>4</th>\n      <td>5</td>\n      <td>21.0</td>\n    </tr>\n    <tr>\n      <th>...</th>\n      <td>...</td>\n      <td>...</td>\n    </tr>\n    <tr>\n      <th>9244</th>\n      <td>14391</td>\n      <td>4.0</td>\n    </tr>\n    <tr>\n      <th>9245</th>\n      <td>14404</td>\n      <td>18.0</td>\n    </tr>\n    <tr>\n      <th>9246</th>\n      <td>14408</td>\n      <td>4.0</td>\n    </tr>\n    <tr>\n      <th>9247</th>\n      <td>14410</td>\n      <td>12.0</td>\n    </tr>\n    <tr>\n      <th>9248</th>\n      <td>14416</td>\n      <td>17.0</td>\n    </tr>\n  </tbody>\n</table>\n<p>9249 rows × 2 columns</p>\n</div>"
     },
     "execution_count": 268,
     "metadata": {},
     "output_type": "execute_result"
    }
   ],
   "source": [
    "# Calculamos la fecha actual\n",
    "antiguedad_crediticia[\"Fecha_actual\"] = datetime.today().date()\n",
    "\n",
    "# La pasamos de string a formqato fecha\n",
    "antiguedad_crediticia[\"Fecha_actual\"] = antiguedad_crediticia[\"Fecha_actual\"].astype(\"datetime64[ns]\")\n",
    "\n",
    "# Calculamos los años de antiguedad crediticia\n",
    "antiguedad_crediticia[\"Years_old\"] = (antiguedad_crediticia[\"Fecha_actual\"] - antiguedad_crediticia[\"LOAN_OPENING_DATE\"]).dt.days // 365\n",
    "\n",
    "#Nos quedamos con las variables de interés\n",
    "antiguedad_crediticia = antiguedad_crediticia[[\"customer_id\", \"Years_old\"]]\n",
    "\n",
    "antiguedad_crediticia"
   ],
   "metadata": {
    "collapsed": false,
    "ExecuteTime": {
     "end_time": "2023-10-30T06:02:42.896237500Z",
     "start_time": "2023-10-30T06:02:42.876934600Z"
    }
   }
  },
  {
   "cell_type": "markdown",
   "source": [
    "#### 2.1.4) Prestamos totales y categoria  por persona\n",
    "Nuevamente aqui al no tener un ID de cada prestamos estamoa haciendo una serie de supuestos para calcular ahora en este caso la cantidad total de prestamos por persona a lo largo de su historial"
   ],
   "metadata": {
    "collapsed": false
   }
  },
  {
   "cell_type": "code",
   "execution_count": 274,
   "outputs": [
    {
     "data": {
      "text/plain": "       customer_id                  CREDIT_TYPE  Total_prestamos_cat\n0                1             LINEA DE CREDITO                    2\n1                1                        OTROS                    1\n2                1           TARJETA DE CREDITO                    3\n3                2     PRESTAMO PARA ESTUDIANTE                    1\n4                2           TARJETA DE CREDITO                    8\n...            ...                          ...                  ...\n47547        14416  CREDITO PERSONAL AL CONSUMO                    2\n47548        14416             LINEA DE CREDITO                    2\n47549        14416                NO DISPONIBLE                    2\n47550        14416            PRESTAMO PERSONAL                    5\n47551        14416           TARJETA DE CREDITO                    2\n\n[47552 rows x 3 columns]",
      "text/html": "<div>\n<style scoped>\n    .dataframe tbody tr th:only-of-type {\n        vertical-align: middle;\n    }\n\n    .dataframe tbody tr th {\n        vertical-align: top;\n    }\n\n    .dataframe thead th {\n        text-align: right;\n    }\n</style>\n<table border=\"1\" class=\"dataframe\">\n  <thead>\n    <tr style=\"text-align: right;\">\n      <th></th>\n      <th>customer_id</th>\n      <th>CREDIT_TYPE</th>\n      <th>Total_prestamos_cat</th>\n    </tr>\n  </thead>\n  <tbody>\n    <tr>\n      <th>0</th>\n      <td>1</td>\n      <td>LINEA DE CREDITO</td>\n      <td>2</td>\n    </tr>\n    <tr>\n      <th>1</th>\n      <td>1</td>\n      <td>OTROS</td>\n      <td>1</td>\n    </tr>\n    <tr>\n      <th>2</th>\n      <td>1</td>\n      <td>TARJETA DE CREDITO</td>\n      <td>3</td>\n    </tr>\n    <tr>\n      <th>3</th>\n      <td>2</td>\n      <td>PRESTAMO PARA ESTUDIANTE</td>\n      <td>1</td>\n    </tr>\n    <tr>\n      <th>4</th>\n      <td>2</td>\n      <td>TARJETA DE CREDITO</td>\n      <td>8</td>\n    </tr>\n    <tr>\n      <th>...</th>\n      <td>...</td>\n      <td>...</td>\n      <td>...</td>\n    </tr>\n    <tr>\n      <th>47547</th>\n      <td>14416</td>\n      <td>CREDITO PERSONAL AL CONSUMO</td>\n      <td>2</td>\n    </tr>\n    <tr>\n      <th>47548</th>\n      <td>14416</td>\n      <td>LINEA DE CREDITO</td>\n      <td>2</td>\n    </tr>\n    <tr>\n      <th>47549</th>\n      <td>14416</td>\n      <td>NO DISPONIBLE</td>\n      <td>2</td>\n    </tr>\n    <tr>\n      <th>47550</th>\n      <td>14416</td>\n      <td>PRESTAMO PERSONAL</td>\n      <td>5</td>\n    </tr>\n    <tr>\n      <th>47551</th>\n      <td>14416</td>\n      <td>TARJETA DE CREDITO</td>\n      <td>2</td>\n    </tr>\n  </tbody>\n</table>\n<p>47552 rows × 3 columns</p>\n</div>"
     },
     "execution_count": 274,
     "metadata": {},
     "output_type": "execute_result"
    }
   ],
   "source": [
    "# 1) Dropeamos duplicados (esta es la estrategia seguida para esitmar la cantidad de prestamos)\n",
    "total_prestamos  = credit_reports.drop_duplicates(subset=[\"customer_id\", \"LOAN_OPENING_DATE\", \"PAYMENT_FREQUENCY\", \"BUSINESS_TYPE\", \"CREDIT_TYPE\"]) # Ahora usamos el API de Pandas\n",
    "\n",
    "# 2) Contabilizamos prestamos por tipo de categoria\n",
    "total_prestamos_categoria = total_prestamos.groupby(by=[\"customer_id\", \"CREDIT_TYPE\"]).size().reset_index()\n",
    "total_prestamos_categoria.rename(columns ={0:\"Total_prestamos_cat\"}, inplace=True)\n",
    "total_prestamos_categoria"
   ],
   "metadata": {
    "collapsed": false,
    "ExecuteTime": {
     "end_time": "2023-10-30T06:04:35.975042300Z",
     "start_time": "2023-10-30T06:04:35.734077200Z"
    }
   }
  },
  {
   "cell_type": "code",
   "execution_count": 275,
   "outputs": [
    {
     "data": {
      "text/plain": "CREDIT_TYPE  APARATOS/MUEBLES  ARRENDAMIENTO  ARRENDAMIENTO AUTOMOTRIZ  \\\ncustomer_id                                                              \n1                         0.0            0.0                       0.0   \n2                         0.0            0.0                       0.0   \n3                         0.0            0.0                       0.0   \n4                         0.0            0.0                       0.0   \n5                         4.0            0.0                       0.0   \n...                       ...            ...                       ...   \n14391                     0.0            0.0                       0.0   \n14404                     1.0            0.0                       0.0   \n14408                     0.0            0.0                       0.0   \n14410                     0.0            0.0                       0.0   \n14416                    15.0            0.0                       0.0   \n\nCREDIT_TYPE  AUTOMOTRIZ BANCARIO  BANCA COMERCIAL  BIENES RAICES  \\\ncustomer_id                                                        \n1                            0.0              0.0            0.0   \n2                            0.0              0.0            0.0   \n3                            0.0              0.0            1.0   \n4                            0.0              0.0            0.0   \n5                            0.0              0.0            0.0   \n...                          ...              ...            ...   \n14391                        0.0              0.0            0.0   \n14404                        0.0              0.0            0.0   \n14408                        0.0              0.0            0.0   \n14410                        0.0              2.0            0.0   \n14416                        0.0              0.0            0.0   \n\nCREDIT_TYPE  COMPRA DE AUTOMOVIL  CONSOLIDACION  CREDITO AL CONSUMO  \\\ncustomer_id                                                           \n1                            0.0            0.0                 0.0   \n2                            0.0            0.0                 0.0   \n3                            0.0            0.0                10.0   \n4                            0.0            0.0                 2.0   \n5                            1.0            0.0                 1.0   \n...                          ...            ...                 ...   \n14391                        0.0            0.0                 0.0   \n14404                        0.0            0.0                 2.0   \n14408                        0.0            0.0                 1.0   \n14410                        0.0            0.0                 2.0   \n14416                        0.0            0.0                 0.0   \n\nCREDIT_TYPE  CREDITO FISCAL  ...  PRESTAMO DE NOMINA  PRESTAMO EMPRESARIAL  \\\ncustomer_id                  ...                                             \n1                       0.0  ...                 0.0                   0.0   \n2                       0.0  ...                 0.0                   0.0   \n3                       0.0  ...                 1.0                   0.0   \n4                       0.0  ...                 2.0                   0.0   \n5                       3.0  ...                 5.0                   0.0   \n...                     ...  ...                 ...                   ...   \n14391                   0.0  ...                 0.0                   0.0   \n14404                   0.0  ...                 0.0                   0.0   \n14408                   0.0  ...                 0.0                   0.0   \n14410                   0.0  ...                 0.0                   0.0   \n14416                   0.0  ...                 0.0                   0.0   \n\nCREDIT_TYPE  PRESTAMO GARANTIZADO  PRESTAMO NO GARANTIZADO  \\\ncustomer_id                                                  \n1                             0.0                      0.0   \n2                             0.0                      0.0   \n3                             0.0                      0.0   \n4                             0.0                      0.0   \n5                             0.0                      0.0   \n...                           ...                      ...   \n14391                         0.0                      0.0   \n14404                         0.0                      0.0   \n14408                         0.0                      0.0   \n14410                         0.0                      0.0   \n14416                         0.0                      0.0   \n\nCREDIT_TYPE  PRESTAMO PARA ESTUDIANTE  PRESTAMO PERSONAL  \\\ncustomer_id                                                \n1                                 0.0                0.0   \n2                                 1.0                0.0   \n3                                 0.0               19.0   \n4                                 0.0                6.0   \n5                                 0.0                5.0   \n...                               ...                ...   \n14391                             0.0               15.0   \n14404                             0.0               13.0   \n14408                             0.0                2.0   \n14410                             0.0              120.0   \n14416                             0.0                5.0   \n\nCREDIT_TYPE  PRESTAMO PERSONAL BANCARIO  PRESTAMO QUIROGRAFARIO  \\\ncustomer_id                                                       \n1                                   0.0                     0.0   \n2                                   0.0                     0.0   \n3                                   0.0                     0.0   \n4                                   0.0                     0.0   \n5                                   0.0                     0.0   \n...                                 ...                     ...   \n14391                               0.0                     0.0   \n14404                               0.0                     0.0   \n14408                               0.0                     0.0   \n14410                               0.0                     0.0   \n14416                               0.0                     0.0   \n\nCREDIT_TYPE  TARJETA DE CREDITO  TARJETA DEPARTAMENTAL  \ncustomer_id                                             \n1                           3.0                    0.0  \n2                           8.0                    0.0  \n3                           0.0                    0.0  \n4                           3.0                    0.0  \n5                          13.0                    0.0  \n...                         ...                    ...  \n14391                       2.0                    0.0  \n14404                       1.0                    0.0  \n14408                       0.0                    0.0  \n14410                       3.0                    0.0  \n14416                       2.0                    0.0  \n\n[9172 rows x 33 columns]",
      "text/html": "<div>\n<style scoped>\n    .dataframe tbody tr th:only-of-type {\n        vertical-align: middle;\n    }\n\n    .dataframe tbody tr th {\n        vertical-align: top;\n    }\n\n    .dataframe thead th {\n        text-align: right;\n    }\n</style>\n<table border=\"1\" class=\"dataframe\">\n  <thead>\n    <tr style=\"text-align: right;\">\n      <th>CREDIT_TYPE</th>\n      <th>APARATOS/MUEBLES</th>\n      <th>ARRENDAMIENTO</th>\n      <th>ARRENDAMIENTO AUTOMOTRIZ</th>\n      <th>AUTOMOTRIZ BANCARIO</th>\n      <th>BANCA COMERCIAL</th>\n      <th>BIENES RAICES</th>\n      <th>COMPRA DE AUTOMOVIL</th>\n      <th>CONSOLIDACION</th>\n      <th>CREDITO AL CONSUMO</th>\n      <th>CREDITO FISCAL</th>\n      <th>...</th>\n      <th>PRESTAMO DE NOMINA</th>\n      <th>PRESTAMO EMPRESARIAL</th>\n      <th>PRESTAMO GARANTIZADO</th>\n      <th>PRESTAMO NO GARANTIZADO</th>\n      <th>PRESTAMO PARA ESTUDIANTE</th>\n      <th>PRESTAMO PERSONAL</th>\n      <th>PRESTAMO PERSONAL BANCARIO</th>\n      <th>PRESTAMO QUIROGRAFARIO</th>\n      <th>TARJETA DE CREDITO</th>\n      <th>TARJETA DEPARTAMENTAL</th>\n    </tr>\n    <tr>\n      <th>customer_id</th>\n      <th></th>\n      <th></th>\n      <th></th>\n      <th></th>\n      <th></th>\n      <th></th>\n      <th></th>\n      <th></th>\n      <th></th>\n      <th></th>\n      <th></th>\n      <th></th>\n      <th></th>\n      <th></th>\n      <th></th>\n      <th></th>\n      <th></th>\n      <th></th>\n      <th></th>\n      <th></th>\n      <th></th>\n    </tr>\n  </thead>\n  <tbody>\n    <tr>\n      <th>1</th>\n      <td>0.0</td>\n      <td>0.0</td>\n      <td>0.0</td>\n      <td>0.0</td>\n      <td>0.0</td>\n      <td>0.0</td>\n      <td>0.0</td>\n      <td>0.0</td>\n      <td>0.0</td>\n      <td>0.0</td>\n      <td>...</td>\n      <td>0.0</td>\n      <td>0.0</td>\n      <td>0.0</td>\n      <td>0.0</td>\n      <td>0.0</td>\n      <td>0.0</td>\n      <td>0.0</td>\n      <td>0.0</td>\n      <td>3.0</td>\n      <td>0.0</td>\n    </tr>\n    <tr>\n      <th>2</th>\n      <td>0.0</td>\n      <td>0.0</td>\n      <td>0.0</td>\n      <td>0.0</td>\n      <td>0.0</td>\n      <td>0.0</td>\n      <td>0.0</td>\n      <td>0.0</td>\n      <td>0.0</td>\n      <td>0.0</td>\n      <td>...</td>\n      <td>0.0</td>\n      <td>0.0</td>\n      <td>0.0</td>\n      <td>0.0</td>\n      <td>1.0</td>\n      <td>0.0</td>\n      <td>0.0</td>\n      <td>0.0</td>\n      <td>8.0</td>\n      <td>0.0</td>\n    </tr>\n    <tr>\n      <th>3</th>\n      <td>0.0</td>\n      <td>0.0</td>\n      <td>0.0</td>\n      <td>0.0</td>\n      <td>0.0</td>\n      <td>1.0</td>\n      <td>0.0</td>\n      <td>0.0</td>\n      <td>10.0</td>\n      <td>0.0</td>\n      <td>...</td>\n      <td>1.0</td>\n      <td>0.0</td>\n      <td>0.0</td>\n      <td>0.0</td>\n      <td>0.0</td>\n      <td>19.0</td>\n      <td>0.0</td>\n      <td>0.0</td>\n      <td>0.0</td>\n      <td>0.0</td>\n    </tr>\n    <tr>\n      <th>4</th>\n      <td>0.0</td>\n      <td>0.0</td>\n      <td>0.0</td>\n      <td>0.0</td>\n      <td>0.0</td>\n      <td>0.0</td>\n      <td>0.0</td>\n      <td>0.0</td>\n      <td>2.0</td>\n      <td>0.0</td>\n      <td>...</td>\n      <td>2.0</td>\n      <td>0.0</td>\n      <td>0.0</td>\n      <td>0.0</td>\n      <td>0.0</td>\n      <td>6.0</td>\n      <td>0.0</td>\n      <td>0.0</td>\n      <td>3.0</td>\n      <td>0.0</td>\n    </tr>\n    <tr>\n      <th>5</th>\n      <td>4.0</td>\n      <td>0.0</td>\n      <td>0.0</td>\n      <td>0.0</td>\n      <td>0.0</td>\n      <td>0.0</td>\n      <td>1.0</td>\n      <td>0.0</td>\n      <td>1.0</td>\n      <td>3.0</td>\n      <td>...</td>\n      <td>5.0</td>\n      <td>0.0</td>\n      <td>0.0</td>\n      <td>0.0</td>\n      <td>0.0</td>\n      <td>5.0</td>\n      <td>0.0</td>\n      <td>0.0</td>\n      <td>13.0</td>\n      <td>0.0</td>\n    </tr>\n    <tr>\n      <th>...</th>\n      <td>...</td>\n      <td>...</td>\n      <td>...</td>\n      <td>...</td>\n      <td>...</td>\n      <td>...</td>\n      <td>...</td>\n      <td>...</td>\n      <td>...</td>\n      <td>...</td>\n      <td>...</td>\n      <td>...</td>\n      <td>...</td>\n      <td>...</td>\n      <td>...</td>\n      <td>...</td>\n      <td>...</td>\n      <td>...</td>\n      <td>...</td>\n      <td>...</td>\n      <td>...</td>\n    </tr>\n    <tr>\n      <th>14391</th>\n      <td>0.0</td>\n      <td>0.0</td>\n      <td>0.0</td>\n      <td>0.0</td>\n      <td>0.0</td>\n      <td>0.0</td>\n      <td>0.0</td>\n      <td>0.0</td>\n      <td>0.0</td>\n      <td>0.0</td>\n      <td>...</td>\n      <td>0.0</td>\n      <td>0.0</td>\n      <td>0.0</td>\n      <td>0.0</td>\n      <td>0.0</td>\n      <td>15.0</td>\n      <td>0.0</td>\n      <td>0.0</td>\n      <td>2.0</td>\n      <td>0.0</td>\n    </tr>\n    <tr>\n      <th>14404</th>\n      <td>1.0</td>\n      <td>0.0</td>\n      <td>0.0</td>\n      <td>0.0</td>\n      <td>0.0</td>\n      <td>0.0</td>\n      <td>0.0</td>\n      <td>0.0</td>\n      <td>2.0</td>\n      <td>0.0</td>\n      <td>...</td>\n      <td>0.0</td>\n      <td>0.0</td>\n      <td>0.0</td>\n      <td>0.0</td>\n      <td>0.0</td>\n      <td>13.0</td>\n      <td>0.0</td>\n      <td>0.0</td>\n      <td>1.0</td>\n      <td>0.0</td>\n    </tr>\n    <tr>\n      <th>14408</th>\n      <td>0.0</td>\n      <td>0.0</td>\n      <td>0.0</td>\n      <td>0.0</td>\n      <td>0.0</td>\n      <td>0.0</td>\n      <td>0.0</td>\n      <td>0.0</td>\n      <td>1.0</td>\n      <td>0.0</td>\n      <td>...</td>\n      <td>0.0</td>\n      <td>0.0</td>\n      <td>0.0</td>\n      <td>0.0</td>\n      <td>0.0</td>\n      <td>2.0</td>\n      <td>0.0</td>\n      <td>0.0</td>\n      <td>0.0</td>\n      <td>0.0</td>\n    </tr>\n    <tr>\n      <th>14410</th>\n      <td>0.0</td>\n      <td>0.0</td>\n      <td>0.0</td>\n      <td>0.0</td>\n      <td>2.0</td>\n      <td>0.0</td>\n      <td>0.0</td>\n      <td>0.0</td>\n      <td>2.0</td>\n      <td>0.0</td>\n      <td>...</td>\n      <td>0.0</td>\n      <td>0.0</td>\n      <td>0.0</td>\n      <td>0.0</td>\n      <td>0.0</td>\n      <td>120.0</td>\n      <td>0.0</td>\n      <td>0.0</td>\n      <td>3.0</td>\n      <td>0.0</td>\n    </tr>\n    <tr>\n      <th>14416</th>\n      <td>15.0</td>\n      <td>0.0</td>\n      <td>0.0</td>\n      <td>0.0</td>\n      <td>0.0</td>\n      <td>0.0</td>\n      <td>0.0</td>\n      <td>0.0</td>\n      <td>0.0</td>\n      <td>0.0</td>\n      <td>...</td>\n      <td>0.0</td>\n      <td>0.0</td>\n      <td>0.0</td>\n      <td>0.0</td>\n      <td>0.0</td>\n      <td>5.0</td>\n      <td>0.0</td>\n      <td>0.0</td>\n      <td>2.0</td>\n      <td>0.0</td>\n    </tr>\n  </tbody>\n</table>\n<p>9172 rows × 33 columns</p>\n</div>"
     },
     "execution_count": 275,
     "metadata": {},
     "output_type": "execute_result"
    }
   ],
   "source": [
    "# 3) Pivoteo de la tabla\n",
    "total_prestamos_categoria  = total_prestamos_categoria.pivot(index='customer_id', columns='CREDIT_TYPE', values='Total_prestamos_cat')\n",
    "total_prestamos_categoria.fillna(value=0, inplace =True)\n",
    "total_prestamos_categoria"
   ],
   "metadata": {
    "collapsed": false,
    "ExecuteTime": {
     "end_time": "2023-10-30T06:04:37.750278400Z",
     "start_time": "2023-10-30T06:04:37.662130200Z"
    }
   }
  },
  {
   "cell_type": "code",
   "execution_count": 276,
   "outputs": [
    {
     "data": {
      "text/plain": "      customer_id  Prestamos_totales\n0               1                  6\n1               2                  9\n2               3                 31\n3               4                 13\n4               5                 41\n...           ...                ...\n9244        14391                 26\n9245        14404                 25\n9246        14408                  4\n9247        14410                130\n9248        14416                 28\n\n[9249 rows x 2 columns]",
      "text/html": "<div>\n<style scoped>\n    .dataframe tbody tr th:only-of-type {\n        vertical-align: middle;\n    }\n\n    .dataframe tbody tr th {\n        vertical-align: top;\n    }\n\n    .dataframe thead th {\n        text-align: right;\n    }\n</style>\n<table border=\"1\" class=\"dataframe\">\n  <thead>\n    <tr style=\"text-align: right;\">\n      <th></th>\n      <th>customer_id</th>\n      <th>Prestamos_totales</th>\n    </tr>\n  </thead>\n  <tbody>\n    <tr>\n      <th>0</th>\n      <td>1</td>\n      <td>6</td>\n    </tr>\n    <tr>\n      <th>1</th>\n      <td>2</td>\n      <td>9</td>\n    </tr>\n    <tr>\n      <th>2</th>\n      <td>3</td>\n      <td>31</td>\n    </tr>\n    <tr>\n      <th>3</th>\n      <td>4</td>\n      <td>13</td>\n    </tr>\n    <tr>\n      <th>4</th>\n      <td>5</td>\n      <td>41</td>\n    </tr>\n    <tr>\n      <th>...</th>\n      <td>...</td>\n      <td>...</td>\n    </tr>\n    <tr>\n      <th>9244</th>\n      <td>14391</td>\n      <td>26</td>\n    </tr>\n    <tr>\n      <th>9245</th>\n      <td>14404</td>\n      <td>25</td>\n    </tr>\n    <tr>\n      <th>9246</th>\n      <td>14408</td>\n      <td>4</td>\n    </tr>\n    <tr>\n      <th>9247</th>\n      <td>14410</td>\n      <td>130</td>\n    </tr>\n    <tr>\n      <th>9248</th>\n      <td>14416</td>\n      <td>28</td>\n    </tr>\n  </tbody>\n</table>\n<p>9249 rows × 2 columns</p>\n</div>"
     },
     "execution_count": 276,
     "metadata": {},
     "output_type": "execute_result"
    }
   ],
   "source": [
    "# 1) Contabilizamos prestamos  totales por cliente\n",
    "total_prestamos = total_prestamos.groupby(by=[\"customer_id\"]).size().reset_index()\n",
    "\n",
    "# 2) Cambio de nombre\n",
    "total_prestamos.rename(columns = {0:\"Prestamos_totales\"}, inplace=True)\n",
    "total_prestamos\n",
    "\n",
    "# ESTO ES UNA ESTIMACION, NO ES LO MAS OPTMO, NECESITO EL ID DE LOS PRESTAMOS"
   ],
   "metadata": {
    "collapsed": false,
    "ExecuteTime": {
     "end_time": "2023-10-30T06:04:39.087186800Z",
     "start_time": "2023-10-30T06:04:39.045640200Z"
    }
   }
  },
  {
   "cell_type": "markdown",
   "source": [
    "#### 2.1.5) Total de pagos con retraso\n",
    "Seguimo con el problema de que no contamos con un ID de los prestamos en credit_reports. Lo que intentaremos estimar aqui es la cantidad de prestamos con algún retraso en su historial de pago"
   ],
   "metadata": {
    "collapsed": false
   }
  },
  {
   "cell_type": "code",
   "execution_count": 227,
   "outputs": [
    {
     "name": "stdout",
     "output_type": "stream",
     "text": [
      "CPU times: total: 391 ms\n",
      "Wall time: 391 ms\n"
     ]
    },
    {
     "data": {
      "text/plain": "        customer_id  DELAYED_PAYMENTS\n187528            1                 0\n187529            1                 0\n187530            1                 0\n187527            1                 0\n187526            1                 0\n...             ...               ...\n286521        14416                 0\n286522        14416                 0\n286523        14416                 0\n286508        14416                 0\n286507        14416                 0\n\n[266251 rows x 2 columns]",
      "text/html": "<div>\n<style scoped>\n    .dataframe tbody tr th:only-of-type {\n        vertical-align: middle;\n    }\n\n    .dataframe tbody tr th {\n        vertical-align: top;\n    }\n\n    .dataframe thead th {\n        text-align: right;\n    }\n</style>\n<table border=\"1\" class=\"dataframe\">\n  <thead>\n    <tr style=\"text-align: right;\">\n      <th></th>\n      <th>customer_id</th>\n      <th>DELAYED_PAYMENTS</th>\n    </tr>\n  </thead>\n  <tbody>\n    <tr>\n      <th>187528</th>\n      <td>1</td>\n      <td>0</td>\n    </tr>\n    <tr>\n      <th>187529</th>\n      <td>1</td>\n      <td>0</td>\n    </tr>\n    <tr>\n      <th>187530</th>\n      <td>1</td>\n      <td>0</td>\n    </tr>\n    <tr>\n      <th>187527</th>\n      <td>1</td>\n      <td>0</td>\n    </tr>\n    <tr>\n      <th>187526</th>\n      <td>1</td>\n      <td>0</td>\n    </tr>\n    <tr>\n      <th>...</th>\n      <td>...</td>\n      <td>...</td>\n    </tr>\n    <tr>\n      <th>286521</th>\n      <td>14416</td>\n      <td>0</td>\n    </tr>\n    <tr>\n      <th>286522</th>\n      <td>14416</td>\n      <td>0</td>\n    </tr>\n    <tr>\n      <th>286523</th>\n      <td>14416</td>\n      <td>0</td>\n    </tr>\n    <tr>\n      <th>286508</th>\n      <td>14416</td>\n      <td>0</td>\n    </tr>\n    <tr>\n      <th>286507</th>\n      <td>14416</td>\n      <td>0</td>\n    </tr>\n  </tbody>\n</table>\n<p>266251 rows × 2 columns</p>\n</div>"
     },
     "execution_count": 227,
     "metadata": {},
     "output_type": "execute_result"
    }
   ],
   "source": [
    "%%time\n",
    "### ESTO NO ES LO MEJOR, NECESITO EL ID DE LOS PRESTAMOS\n",
    "\n",
    "# Lo hacemos con pandas\n",
    "# 1) Ordemos los valores mas recientes\n",
    "total_retrasos = credit_reports.copy()\n",
    "total_retrasos = total_retrasos.sort_values(by=[\"customer_id\", \"UPDATE_DATE\"],\n",
    "                                            ascending=[True, False])\n",
    "\n",
    "# 2) Drop duplicates\n",
    "total_retrasos.drop_duplicates(subset=[\"customer_id\", \"LOAN_OPENING_DATE\", \"PAYMENT_FREQUENCY\", \"BUSINESS_TYPE\", \"CREDIT_TYPE\"], inplace=True)\n",
    "\n",
    "# 3) Selección de la columnas de interés\n",
    "total_retrasos = total_retrasos[[\"customer_id\", \"DELAYED_PAYMENTS\"]]\n",
    "total_retrasos"
   ],
   "metadata": {
    "collapsed": false,
    "ExecuteTime": {
     "end_time": "2023-10-30T00:23:19.480629Z",
     "start_time": "2023-10-30T00:23:19.058303100Z"
    }
   }
  },
  {
   "cell_type": "code",
   "execution_count": 228,
   "outputs": [
    {
     "name": "stdout",
     "output_type": "stream",
     "text": [
      "CPU times: total: 266 ms\n",
      "Wall time: 263 ms\n"
     ]
    },
    {
     "data": {
      "text/plain": "      customer_id  Porcentaje_retrasos\n0               1            16.666667\n1               2             0.000000\n2               3            32.258065\n3               4            15.384615\n4               5            46.341463\n...           ...                  ...\n9244        14391            34.615385\n9245        14404            52.000000\n9246        14408            50.000000\n9247        14410             7.692308\n9248        14416            14.285714\n\n[9249 rows x 2 columns]",
      "text/html": "<div>\n<style scoped>\n    .dataframe tbody tr th:only-of-type {\n        vertical-align: middle;\n    }\n\n    .dataframe tbody tr th {\n        vertical-align: top;\n    }\n\n    .dataframe thead th {\n        text-align: right;\n    }\n</style>\n<table border=\"1\" class=\"dataframe\">\n  <thead>\n    <tr style=\"text-align: right;\">\n      <th></th>\n      <th>customer_id</th>\n      <th>Porcentaje_retrasos</th>\n    </tr>\n  </thead>\n  <tbody>\n    <tr>\n      <th>0</th>\n      <td>1</td>\n      <td>16.666667</td>\n    </tr>\n    <tr>\n      <th>1</th>\n      <td>2</td>\n      <td>0.000000</td>\n    </tr>\n    <tr>\n      <th>2</th>\n      <td>3</td>\n      <td>32.258065</td>\n    </tr>\n    <tr>\n      <th>3</th>\n      <td>4</td>\n      <td>15.384615</td>\n    </tr>\n    <tr>\n      <th>4</th>\n      <td>5</td>\n      <td>46.341463</td>\n    </tr>\n    <tr>\n      <th>...</th>\n      <td>...</td>\n      <td>...</td>\n    </tr>\n    <tr>\n      <th>9244</th>\n      <td>14391</td>\n      <td>34.615385</td>\n    </tr>\n    <tr>\n      <th>9245</th>\n      <td>14404</td>\n      <td>52.000000</td>\n    </tr>\n    <tr>\n      <th>9246</th>\n      <td>14408</td>\n      <td>50.000000</td>\n    </tr>\n    <tr>\n      <th>9247</th>\n      <td>14410</td>\n      <td>7.692308</td>\n    </tr>\n    <tr>\n      <th>9248</th>\n      <td>14416</td>\n      <td>14.285714</td>\n    </tr>\n  </tbody>\n</table>\n<p>9249 rows × 2 columns</p>\n</div>"
     },
     "execution_count": 228,
     "metadata": {},
     "output_type": "execute_result"
    }
   ],
   "source": [
    "%%time\n",
    "# Usaremos la funcion de apply para no meter la siguiente condicionante dentro de un ciclo y aumentar asi el rendimiento del proceso\n",
    "\n",
    "# 1) Definición de la función\n",
    "def retraso (delay):\n",
    "    if delay > 0:\n",
    "        x = 1\n",
    "    else:\n",
    "        x= 0\n",
    "    return x\n",
    "\n",
    "total_retrasos[\"DELAYED_PAYMENTS\"].fillna(value=0, inplace=True)\n",
    "\n",
    "# 2) Aplicamos con apply\n",
    "total_retrasos['Retraso'] = total_retrasos['DELAYED_PAYMENTS'].apply(retraso)\n",
    "\n",
    "# 3) Agrupamos los registros\n",
    "total_retrasos = total_retrasos.groupby(by=[\"customer_id\"])[\"Retraso\"].sum().reset_index()\n",
    "total_retrasos.rename(columns ={\"Retraso\":\"Deudas_con_retraso\"}, inplace= True)\n",
    "\n",
    "# 4) Unimos con el total de deudas adquiridas para sacar % de deudas con algún reistro de retraso\n",
    "total_retrasos = pd.merge (left=total_retrasos, right=total_prestamos, on=\"customer_id\", how=\"left\")\n",
    "\n",
    "# Sacamos porcentaje\n",
    "total_retrasos[\"Porcentaje_retrasos\"] = (total_retrasos[\"Deudas_con_retraso\"] / total_retrasos[\"Prestamos_totales\"])*100\n",
    "\n",
    "# 5) Filtro variables de interes\n",
    "total_retrasos = total_retrasos[[\"customer_id\", \"Porcentaje_retrasos\"]]\n",
    "total_retrasos"
   ],
   "metadata": {
    "collapsed": false,
    "ExecuteTime": {
     "end_time": "2023-10-30T00:23:31.137256800Z",
     "start_time": "2023-10-30T00:23:30.861215400Z"
    }
   }
  },
  {
   "cell_type": "markdown",
   "source": [
    "#### 2.1.6) Prevention keys por cliente\n",
    "Sacaremos el total de prevention keys en todo el historial del cliente"
   ],
   "metadata": {
    "collapsed": false
   }
  },
  {
   "cell_type": "code",
   "execution_count": 309,
   "outputs": [
    {
     "data": {
      "text/plain": "PREVENTION_KEY  ADJUDICACION O APLICACION DE GARANTIA  \\\ncustomer_id                                             \n1                                                 0.0   \n2                                                 0.0   \n3                                                 0.0   \n4                                                 0.0   \n5                                                 0.0   \n...                                               ...   \n14391                                             0.0   \n14404                                             0.0   \n14408                                             0.0   \n14410                                             0.0   \n14416                                             0.0   \n\nPREVENTION_KEY  CARTERA AL CORRIENTE VENDIDA O CEDIDA A UN USUARIO DE UNA SOCIEDAD  \\\ncustomer_id                                                                          \n1                                                             0.0                    \n2                                                             1.0                    \n3                                                             0.0                    \n4                                                             0.0                    \n5                                                             1.0                    \n...                                                           ...                    \n14391                                                         0.0                    \n14404                                                         0.0                    \n14408                                                         0.0                    \n14410                                                         0.0                    \n14416                                                         0.0                    \n\nPREVENTION_KEY  CONVENIO DE FINIQUITO O PAGO MENOR  \\\ncustomer_id                                          \n1                                              0.0   \n2                                              0.0   \n3                                              0.0   \n4                                              0.0   \n5                                              1.0   \n...                                            ...   \n14391                                          0.0   \n14404                                          0.0   \n14408                                          0.0   \n14410                                          0.0   \n14416                                          0.0   \n\nPREVENTION_KEY  CONVENIO Y DISMINUCION DE PAGO  \\\ncustomer_id                                      \n1                                          0.0   \n2                                          0.0   \n3                                          0.0   \n4                                          0.0   \n5                                          0.0   \n...                                        ...   \n14391                                      0.0   \n14404                                      0.0   \n14408                                      0.0   \n14410                                      0.0   \n14416                                      0.0   \n\nPREVENTION_KEY  CUENTA AL CORRIENTE VENDIDA O CEDIDA A UN NO USUARIO DE UNA SOCIEDAD  \\\ncustomer_id                                                                            \n1                                                             0.0                      \n2                                                             0.0                      \n3                                                             0.0                      \n4                                                             0.0                      \n5                                                             0.0                      \n...                                                           ...                      \n14391                                                         0.0                      \n14404                                                         0.0                      \n14408                                                         0.0                      \n14410                                                         0.0                      \n14416                                                         0.0                      \n\nPREVENTION_KEY  CUENTA CANCELADA O CERRADA  \\\ncustomer_id                                  \n1                                      2.0   \n2                                      3.0   \n3                                      6.0   \n4                                      1.0   \n5                                      7.0   \n...                                    ...   \n14391                                 14.0   \n14404                                  6.0   \n14408                                  2.0   \n14410                                  5.0   \n14416                                  2.0   \n\nPREVENTION_KEY  CUENTA CERRADA QUE ESTUVO EN COBRANZA Y FUE PAGADA SIN CAUSAR QUEBRANTO  \\\ncustomer_id                                                                               \n1                                                             0.0                         \n2                                                             0.0                         \n3                                                             0.0                         \n4                                                             0.0                         \n5                                                             0.0                         \n...                                                           ...                         \n14391                                                         0.0                         \n14404                                                         3.0                         \n14408                                                         0.0                         \n14410                                                         1.0                         \n14416                                                         0.0                         \n\nPREVENTION_KEY  CUENTA EN COBRANZA  CUENTA FRAUDULENTA  CUENTA INACTIVA  ...  \\\ncustomer_id                                                              ...   \n1                              0.0                 0.0              0.0  ...   \n2                              0.0                 0.0              0.0  ...   \n3                              0.0                 0.0              0.0  ...   \n4                              0.0                 0.0              0.0  ...   \n5                              2.0                 0.0              1.0  ...   \n...                            ...                 ...              ...  ...   \n14391                          0.0                 0.0              0.0  ...   \n14404                          0.0                 0.0              0.0  ...   \n14408                          0.0                 0.0              0.0  ...   \n14410                          1.0                 0.0              0.0  ...   \n14416                          0.0                 0.0              0.0  ...   \n\nPREVENTION_KEY  FRAUDE NO ATRIBUIBLE AL CONSUMIDOR  \\\ncustomer_id                                          \n1                                              0.0   \n2                                              0.0   \n3                                              0.0   \n4                                              0.0   \n5                                              0.0   \n...                                            ...   \n14391                                          0.0   \n14404                                          0.0   \n14408                                          0.0   \n14410                                          0.0   \n14416                                          0.0   \n\nPREVENTION_KEY  INTEGRANTE CAUSANTE DE MORA  \\\ncustomer_id                                   \n1                                       0.0   \n2                                       0.0   \n3                                       0.0   \n4                                       0.0   \n5                                       0.0   \n...                                     ...   \n14391                                   0.0   \n14404                                   0.0   \n14408                                   0.0   \n14410                                   0.0   \n14416                                   0.0   \n\nPREVENTION_KEY  INTEGRANTE QUE FUE SUBSIDIADO PARA EVITAR MORA  \\\ncustomer_id                                                      \n1                                                          0.0   \n2                                                          0.0   \n3                                                          0.0   \n4                                                          0.0   \n5                                                          0.0   \n...                                                        ...   \n14391                                                      0.0   \n14404                                                      0.0   \n14408                                                      0.0   \n14410                                                      0.0   \n14416                                                      0.0   \n\nPREVENTION_KEY  PEGO MENOR POR PROGRAMA INSTITUCIONAL DE GOBIERNO  \\\ncustomer_id                                                         \n1                                                             0.0   \n2                                                             0.0   \n3                                                             0.0   \n4                                                             0.0   \n5                                                             0.0   \n...                                                           ...   \n14391                                                         0.0   \n14404                                                         0.0   \n14408                                                         0.0   \n14410                                                         0.0   \n14416                                                         0.0   \n\nPREVENTION_KEY  PRORROGA POR DESASTRE NATURAL  PRORROGA POR PERDIDA DE EMPLEO  \\\ncustomer_id                                                                     \n1                                         0.0                             0.0   \n2                                         0.0                             0.0   \n3                                         0.0                             1.0   \n4                                         0.0                             0.0   \n5                                         0.0                             0.0   \n...                                       ...                             ...   \n14391                                     0.0                             0.0   \n14404                                     0.0                             0.0   \n14408                                     0.0                             0.0   \n14410                                     0.0                             0.0   \n14416                                     0.0                             0.0   \n\nPREVENTION_KEY  PRORROGA POR SITUACION ESPECIAL  ROBO DE IDENTIDAD  \\\ncustomer_id                                                          \n1                                           0.0                0.0   \n2                                           0.0                0.0   \n3                                           0.0                0.0   \n4                                           0.0                0.0   \n5                                           0.0                0.0   \n...                                         ...                ...   \n14391                                       0.0                0.0   \n14404                                       0.0                0.0   \n14408                                       0.0                0.0   \n14410                                       0.0                0.0   \n14416                                       0.0                0.0   \n\nPREVENTION_KEY  SIN OBSERVACION  TARJETA DE CREDITO EXTRAVIADA O ROBADA  \ncustomer_id                                                              \n1                           4.0                                     0.0  \n2                           4.0                                     1.0  \n3                          23.0                                     0.0  \n4                          12.0                                     0.0  \n5                          23.0                                     0.0  \n...                         ...                                     ...  \n14391                       9.0                                     0.0  \n14404                      12.0                                     0.0  \n14408                       0.0                                     0.0  \n14410                     122.0                                     0.0  \n14416                      25.0                                     0.0  \n\n[9172 rows x 31 columns]",
      "text/html": "<div>\n<style scoped>\n    .dataframe tbody tr th:only-of-type {\n        vertical-align: middle;\n    }\n\n    .dataframe tbody tr th {\n        vertical-align: top;\n    }\n\n    .dataframe thead th {\n        text-align: right;\n    }\n</style>\n<table border=\"1\" class=\"dataframe\">\n  <thead>\n    <tr style=\"text-align: right;\">\n      <th>PREVENTION_KEY</th>\n      <th>ADJUDICACION O APLICACION DE GARANTIA</th>\n      <th>CARTERA AL CORRIENTE VENDIDA O CEDIDA A UN USUARIO DE UNA SOCIEDAD</th>\n      <th>CONVENIO DE FINIQUITO O PAGO MENOR</th>\n      <th>CONVENIO Y DISMINUCION DE PAGO</th>\n      <th>CUENTA AL CORRIENTE VENDIDA O CEDIDA A UN NO USUARIO DE UNA SOCIEDAD</th>\n      <th>CUENTA CANCELADA O CERRADA</th>\n      <th>CUENTA CERRADA QUE ESTUVO EN COBRANZA Y FUE PAGADA SIN CAUSAR QUEBRANTO</th>\n      <th>CUENTA EN COBRANZA</th>\n      <th>CUENTA FRAUDULENTA</th>\n      <th>CUENTA INACTIVA</th>\n      <th>...</th>\n      <th>FRAUDE NO ATRIBUIBLE AL CONSUMIDOR</th>\n      <th>INTEGRANTE CAUSANTE DE MORA</th>\n      <th>INTEGRANTE QUE FUE SUBSIDIADO PARA EVITAR MORA</th>\n      <th>PEGO MENOR POR PROGRAMA INSTITUCIONAL DE GOBIERNO</th>\n      <th>PRORROGA POR DESASTRE NATURAL</th>\n      <th>PRORROGA POR PERDIDA DE EMPLEO</th>\n      <th>PRORROGA POR SITUACION ESPECIAL</th>\n      <th>ROBO DE IDENTIDAD</th>\n      <th>SIN OBSERVACION</th>\n      <th>TARJETA DE CREDITO EXTRAVIADA O ROBADA</th>\n    </tr>\n    <tr>\n      <th>customer_id</th>\n      <th></th>\n      <th></th>\n      <th></th>\n      <th></th>\n      <th></th>\n      <th></th>\n      <th></th>\n      <th></th>\n      <th></th>\n      <th></th>\n      <th></th>\n      <th></th>\n      <th></th>\n      <th></th>\n      <th></th>\n      <th></th>\n      <th></th>\n      <th></th>\n      <th></th>\n      <th></th>\n      <th></th>\n    </tr>\n  </thead>\n  <tbody>\n    <tr>\n      <th>1</th>\n      <td>0.0</td>\n      <td>0.0</td>\n      <td>0.0</td>\n      <td>0.0</td>\n      <td>0.0</td>\n      <td>2.0</td>\n      <td>0.0</td>\n      <td>0.0</td>\n      <td>0.0</td>\n      <td>0.0</td>\n      <td>...</td>\n      <td>0.0</td>\n      <td>0.0</td>\n      <td>0.0</td>\n      <td>0.0</td>\n      <td>0.0</td>\n      <td>0.0</td>\n      <td>0.0</td>\n      <td>0.0</td>\n      <td>4.0</td>\n      <td>0.0</td>\n    </tr>\n    <tr>\n      <th>2</th>\n      <td>0.0</td>\n      <td>1.0</td>\n      <td>0.0</td>\n      <td>0.0</td>\n      <td>0.0</td>\n      <td>3.0</td>\n      <td>0.0</td>\n      <td>0.0</td>\n      <td>0.0</td>\n      <td>0.0</td>\n      <td>...</td>\n      <td>0.0</td>\n      <td>0.0</td>\n      <td>0.0</td>\n      <td>0.0</td>\n      <td>0.0</td>\n      <td>0.0</td>\n      <td>0.0</td>\n      <td>0.0</td>\n      <td>4.0</td>\n      <td>1.0</td>\n    </tr>\n    <tr>\n      <th>3</th>\n      <td>0.0</td>\n      <td>0.0</td>\n      <td>0.0</td>\n      <td>0.0</td>\n      <td>0.0</td>\n      <td>6.0</td>\n      <td>0.0</td>\n      <td>0.0</td>\n      <td>0.0</td>\n      <td>0.0</td>\n      <td>...</td>\n      <td>0.0</td>\n      <td>0.0</td>\n      <td>0.0</td>\n      <td>0.0</td>\n      <td>0.0</td>\n      <td>1.0</td>\n      <td>0.0</td>\n      <td>0.0</td>\n      <td>23.0</td>\n      <td>0.0</td>\n    </tr>\n    <tr>\n      <th>4</th>\n      <td>0.0</td>\n      <td>0.0</td>\n      <td>0.0</td>\n      <td>0.0</td>\n      <td>0.0</td>\n      <td>1.0</td>\n      <td>0.0</td>\n      <td>0.0</td>\n      <td>0.0</td>\n      <td>0.0</td>\n      <td>...</td>\n      <td>0.0</td>\n      <td>0.0</td>\n      <td>0.0</td>\n      <td>0.0</td>\n      <td>0.0</td>\n      <td>0.0</td>\n      <td>0.0</td>\n      <td>0.0</td>\n      <td>12.0</td>\n      <td>0.0</td>\n    </tr>\n    <tr>\n      <th>5</th>\n      <td>0.0</td>\n      <td>1.0</td>\n      <td>1.0</td>\n      <td>0.0</td>\n      <td>0.0</td>\n      <td>7.0</td>\n      <td>0.0</td>\n      <td>2.0</td>\n      <td>0.0</td>\n      <td>1.0</td>\n      <td>...</td>\n      <td>0.0</td>\n      <td>0.0</td>\n      <td>0.0</td>\n      <td>0.0</td>\n      <td>0.0</td>\n      <td>0.0</td>\n      <td>0.0</td>\n      <td>0.0</td>\n      <td>23.0</td>\n      <td>0.0</td>\n    </tr>\n    <tr>\n      <th>...</th>\n      <td>...</td>\n      <td>...</td>\n      <td>...</td>\n      <td>...</td>\n      <td>...</td>\n      <td>...</td>\n      <td>...</td>\n      <td>...</td>\n      <td>...</td>\n      <td>...</td>\n      <td>...</td>\n      <td>...</td>\n      <td>...</td>\n      <td>...</td>\n      <td>...</td>\n      <td>...</td>\n      <td>...</td>\n      <td>...</td>\n      <td>...</td>\n      <td>...</td>\n      <td>...</td>\n    </tr>\n    <tr>\n      <th>14391</th>\n      <td>0.0</td>\n      <td>0.0</td>\n      <td>0.0</td>\n      <td>0.0</td>\n      <td>0.0</td>\n      <td>14.0</td>\n      <td>0.0</td>\n      <td>0.0</td>\n      <td>0.0</td>\n      <td>0.0</td>\n      <td>...</td>\n      <td>0.0</td>\n      <td>0.0</td>\n      <td>0.0</td>\n      <td>0.0</td>\n      <td>0.0</td>\n      <td>0.0</td>\n      <td>0.0</td>\n      <td>0.0</td>\n      <td>9.0</td>\n      <td>0.0</td>\n    </tr>\n    <tr>\n      <th>14404</th>\n      <td>0.0</td>\n      <td>0.0</td>\n      <td>0.0</td>\n      <td>0.0</td>\n      <td>0.0</td>\n      <td>6.0</td>\n      <td>3.0</td>\n      <td>0.0</td>\n      <td>0.0</td>\n      <td>0.0</td>\n      <td>...</td>\n      <td>0.0</td>\n      <td>0.0</td>\n      <td>0.0</td>\n      <td>0.0</td>\n      <td>0.0</td>\n      <td>0.0</td>\n      <td>0.0</td>\n      <td>0.0</td>\n      <td>12.0</td>\n      <td>0.0</td>\n    </tr>\n    <tr>\n      <th>14408</th>\n      <td>0.0</td>\n      <td>0.0</td>\n      <td>0.0</td>\n      <td>0.0</td>\n      <td>0.0</td>\n      <td>2.0</td>\n      <td>0.0</td>\n      <td>0.0</td>\n      <td>0.0</td>\n      <td>0.0</td>\n      <td>...</td>\n      <td>0.0</td>\n      <td>0.0</td>\n      <td>0.0</td>\n      <td>0.0</td>\n      <td>0.0</td>\n      <td>0.0</td>\n      <td>0.0</td>\n      <td>0.0</td>\n      <td>0.0</td>\n      <td>0.0</td>\n    </tr>\n    <tr>\n      <th>14410</th>\n      <td>0.0</td>\n      <td>0.0</td>\n      <td>0.0</td>\n      <td>0.0</td>\n      <td>0.0</td>\n      <td>5.0</td>\n      <td>1.0</td>\n      <td>1.0</td>\n      <td>0.0</td>\n      <td>0.0</td>\n      <td>...</td>\n      <td>0.0</td>\n      <td>0.0</td>\n      <td>0.0</td>\n      <td>0.0</td>\n      <td>0.0</td>\n      <td>0.0</td>\n      <td>0.0</td>\n      <td>0.0</td>\n      <td>122.0</td>\n      <td>0.0</td>\n    </tr>\n    <tr>\n      <th>14416</th>\n      <td>0.0</td>\n      <td>0.0</td>\n      <td>0.0</td>\n      <td>0.0</td>\n      <td>0.0</td>\n      <td>2.0</td>\n      <td>0.0</td>\n      <td>0.0</td>\n      <td>0.0</td>\n      <td>0.0</td>\n      <td>...</td>\n      <td>0.0</td>\n      <td>0.0</td>\n      <td>0.0</td>\n      <td>0.0</td>\n      <td>0.0</td>\n      <td>0.0</td>\n      <td>0.0</td>\n      <td>0.0</td>\n      <td>25.0</td>\n      <td>0.0</td>\n    </tr>\n  </tbody>\n</table>\n<p>9172 rows × 31 columns</p>\n</div>"
     },
     "execution_count": 309,
     "metadata": {},
     "output_type": "execute_result"
    }
   ],
   "source": [
    "# 1) Dropeamos duplicados (esta es la estrategia seguida para esitmar la cantidad de prestamos)\n",
    "prevention_keys  = credit_reports.drop_duplicates(subset=[\"customer_id\", \"LOAN_OPENING_DATE\", \"PAYMENT_FREQUENCY\", \"BUSINESS_TYPE\", \"CREDIT_TYPE\"]) # Ahora usamos el API de Pandas\n",
    "\n",
    "# 2) Contabilizamos prestamos por tipo de categoria\n",
    "prevention_keys = prevention_keys.groupby(by=[\"customer_id\", \"PREVENTION_KEY\"]).size().reset_index()\n",
    "prevention_keys.rename(columns ={0:\"Prevention_key\"}, inplace=True)\n",
    "\n",
    "# 3) Pivoteo de la tabla\n",
    "prevention_keys  = prevention_keys.pivot(index='customer_id', columns='PREVENTION_KEY', values='Prevention_key')\n",
    "\n",
    "prevention_keys.fillna(value=0, inplace =True)\n",
    "prevention_keys"
   ],
   "metadata": {
    "collapsed": false,
    "ExecuteTime": {
     "end_time": "2023-10-30T06:35:07.785932300Z",
     "start_time": "2023-10-30T06:35:07.484836300Z"
    }
   }
  },
  {
   "cell_type": "markdown",
   "source": [
    "### 2.2) Feature engeenering de main_dataset\n",
    "\n",
    "**IMPORTANTE:** decir poruqe no vamos a tomar variabls como  \"max_days_late\" del main_dataset, se supone que esto es para hacer una prediccion de un cliente qu equiere un poretamo , ee dato no lo puedo tener al momento inicial"
   ],
   "metadata": {
    "collapsed": false
   }
  },
  {
   "cell_type": "code",
   "execution_count": 334,
   "outputs": [
    {
     "data": {
      "text/plain": "       customer_id  loan_id ACC_CREATION_DATETIME APPLICATION_DATETIME  \\\n0             1223        1   2021-08-23 13:57:56  2022-04-26 07:00:00   \n1             5190        2   2022-04-26 09:57:25  2022-04-26 07:00:00   \n2             5194        3   2022-04-26 12:22:35  2022-04-26 07:00:00   \n3             3978        4   2022-03-09 11:26:55  2022-04-26 07:00:00   \n4             4535        5   2022-04-01 14:28:42  2022-04-26 07:00:00   \n...            ...      ...                   ...                  ...   \n14449        14452    14450   2023-05-15 12:02:51  2023-05-15 07:00:00   \n14450        14453    14451   2023-05-16 12:54:39  2023-05-16 07:00:00   \n14451        14454    14452   2023-05-19 19:55:04  2023-05-19 07:00:00   \n14452          768    14453   2021-06-28 14:36:50  2023-05-22 07:00:00   \n14453        12079    14454   2022-12-24 17:19:26  2023-05-26 07:00:00   \n\n      LOAN_ORIGINATION_DATETIME  max_days_late  target  \\\n0           2022-10-20 18:26:35              5       0   \n1           2022-12-22 18:03:32              2       0   \n2           2022-08-09 17:31:05              4       0   \n3           2022-11-11 19:48:08              2       0   \n4           2022-07-24 12:07:15              2       0   \n...                         ...            ...     ...   \n14449       2023-05-21 14:56:30              5       0   \n14450       2023-05-19 21:07:56              0       0   \n14451       2023-05-22 15:14:50              0       0   \n14452       2023-05-26 07:12:16              0       0   \n14453       2023-05-29 12:18:28              0       0   \n\n       account_to_application_days  n_sf_apps       first_app_date  \\\n0                              245        1.0  2022-04-25 00:00:00   \n1                                0       <NA>                 <NA>   \n2                                0       <NA>                 <NA>   \n3                               47        1.0  2022-03-17 00:00:00   \n4                               24        1.0  2022-04-01 00:00:00   \n...                            ...        ...                  ...   \n14449                            0       <NA>                 <NA>   \n14450                            0       <NA>                 <NA>   \n14451                            0       <NA>                 <NA>   \n14452                          692       <NA>                 <NA>   \n14453                          152        1.0  2022-12-24 00:00:00   \n\n             last_app_date  n_bnpl_apps  n_bnpl_approved_apps  \\\n0      2022-04-25 00:00:00          1.0                   0.0   \n1                     <NA>         <NA>                  <NA>   \n2                     <NA>         <NA>                  <NA>   \n3      2022-03-17 00:00:00          2.0                   0.0   \n4      2022-04-01 00:00:00          1.0                   0.0   \n...                    ...          ...                   ...   \n14449                 <NA>         <NA>                  <NA>   \n14450                 <NA>         <NA>                  <NA>   \n14451                 <NA>         <NA>                  <NA>   \n14452                 <NA>          3.0                   0.0   \n14453  2022-12-24 00:00:00          1.0                   0.0   \n\n              first_bnpl_app_date          last_bnpl_app_date  \\\n0      2022-04-26 02:15:17.742000  2022-04-26 02:15:17.742000   \n1                            <NA>                        <NA>   \n2                            <NA>                        <NA>   \n3      2022-03-19 22:02:50.555000  2022-03-09 16:41:49.675000   \n4      2022-04-01 19:37:56.185000  2022-04-01 19:37:56.185000   \n...                           ...                         ...   \n14449                        <NA>                        <NA>   \n14450                        <NA>                        <NA>   \n14451                        <NA>                        <NA>   \n14452         2023-05-20 17:15:47         2023-05-17 15:20:48   \n14453  2022-12-25 05:05:05.841000  2022-12-25 05:05:05.841000   \n\n       n_inquiries_l3m  n_inquiries_l6m  \n0                 91.0             91.0  \n1                 <NA>             <NA>  \n2                 <NA>             <NA>  \n3                 13.0             13.0  \n4                 21.0             21.0  \n...                ...              ...  \n14449             <NA>             <NA>  \n14450             <NA>             <NA>  \n14451             <NA>             <NA>  \n14452             10.0             10.0  \n14453              0.0             25.0  \n\n[14454 rows x 17 columns]",
      "text/html": "<div>\n<style scoped>\n    .dataframe tbody tr th:only-of-type {\n        vertical-align: middle;\n    }\n\n    .dataframe tbody tr th {\n        vertical-align: top;\n    }\n\n    .dataframe thead th {\n        text-align: right;\n    }\n</style>\n<table border=\"1\" class=\"dataframe\">\n  <thead>\n    <tr style=\"text-align: right;\">\n      <th></th>\n      <th>customer_id</th>\n      <th>loan_id</th>\n      <th>ACC_CREATION_DATETIME</th>\n      <th>APPLICATION_DATETIME</th>\n      <th>LOAN_ORIGINATION_DATETIME</th>\n      <th>max_days_late</th>\n      <th>target</th>\n      <th>account_to_application_days</th>\n      <th>n_sf_apps</th>\n      <th>first_app_date</th>\n      <th>last_app_date</th>\n      <th>n_bnpl_apps</th>\n      <th>n_bnpl_approved_apps</th>\n      <th>first_bnpl_app_date</th>\n      <th>last_bnpl_app_date</th>\n      <th>n_inquiries_l3m</th>\n      <th>n_inquiries_l6m</th>\n    </tr>\n  </thead>\n  <tbody>\n    <tr>\n      <th>0</th>\n      <td>1223</td>\n      <td>1</td>\n      <td>2021-08-23 13:57:56</td>\n      <td>2022-04-26 07:00:00</td>\n      <td>2022-10-20 18:26:35</td>\n      <td>5</td>\n      <td>0</td>\n      <td>245</td>\n      <td>1.0</td>\n      <td>2022-04-25 00:00:00</td>\n      <td>2022-04-25 00:00:00</td>\n      <td>1.0</td>\n      <td>0.0</td>\n      <td>2022-04-26 02:15:17.742000</td>\n      <td>2022-04-26 02:15:17.742000</td>\n      <td>91.0</td>\n      <td>91.0</td>\n    </tr>\n    <tr>\n      <th>1</th>\n      <td>5190</td>\n      <td>2</td>\n      <td>2022-04-26 09:57:25</td>\n      <td>2022-04-26 07:00:00</td>\n      <td>2022-12-22 18:03:32</td>\n      <td>2</td>\n      <td>0</td>\n      <td>0</td>\n      <td>&lt;NA&gt;</td>\n      <td>&lt;NA&gt;</td>\n      <td>&lt;NA&gt;</td>\n      <td>&lt;NA&gt;</td>\n      <td>&lt;NA&gt;</td>\n      <td>&lt;NA&gt;</td>\n      <td>&lt;NA&gt;</td>\n      <td>&lt;NA&gt;</td>\n      <td>&lt;NA&gt;</td>\n    </tr>\n    <tr>\n      <th>2</th>\n      <td>5194</td>\n      <td>3</td>\n      <td>2022-04-26 12:22:35</td>\n      <td>2022-04-26 07:00:00</td>\n      <td>2022-08-09 17:31:05</td>\n      <td>4</td>\n      <td>0</td>\n      <td>0</td>\n      <td>&lt;NA&gt;</td>\n      <td>&lt;NA&gt;</td>\n      <td>&lt;NA&gt;</td>\n      <td>&lt;NA&gt;</td>\n      <td>&lt;NA&gt;</td>\n      <td>&lt;NA&gt;</td>\n      <td>&lt;NA&gt;</td>\n      <td>&lt;NA&gt;</td>\n      <td>&lt;NA&gt;</td>\n    </tr>\n    <tr>\n      <th>3</th>\n      <td>3978</td>\n      <td>4</td>\n      <td>2022-03-09 11:26:55</td>\n      <td>2022-04-26 07:00:00</td>\n      <td>2022-11-11 19:48:08</td>\n      <td>2</td>\n      <td>0</td>\n      <td>47</td>\n      <td>1.0</td>\n      <td>2022-03-17 00:00:00</td>\n      <td>2022-03-17 00:00:00</td>\n      <td>2.0</td>\n      <td>0.0</td>\n      <td>2022-03-19 22:02:50.555000</td>\n      <td>2022-03-09 16:41:49.675000</td>\n      <td>13.0</td>\n      <td>13.0</td>\n    </tr>\n    <tr>\n      <th>4</th>\n      <td>4535</td>\n      <td>5</td>\n      <td>2022-04-01 14:28:42</td>\n      <td>2022-04-26 07:00:00</td>\n      <td>2022-07-24 12:07:15</td>\n      <td>2</td>\n      <td>0</td>\n      <td>24</td>\n      <td>1.0</td>\n      <td>2022-04-01 00:00:00</td>\n      <td>2022-04-01 00:00:00</td>\n      <td>1.0</td>\n      <td>0.0</td>\n      <td>2022-04-01 19:37:56.185000</td>\n      <td>2022-04-01 19:37:56.185000</td>\n      <td>21.0</td>\n      <td>21.0</td>\n    </tr>\n    <tr>\n      <th>...</th>\n      <td>...</td>\n      <td>...</td>\n      <td>...</td>\n      <td>...</td>\n      <td>...</td>\n      <td>...</td>\n      <td>...</td>\n      <td>...</td>\n      <td>...</td>\n      <td>...</td>\n      <td>...</td>\n      <td>...</td>\n      <td>...</td>\n      <td>...</td>\n      <td>...</td>\n      <td>...</td>\n      <td>...</td>\n    </tr>\n    <tr>\n      <th>14449</th>\n      <td>14452</td>\n      <td>14450</td>\n      <td>2023-05-15 12:02:51</td>\n      <td>2023-05-15 07:00:00</td>\n      <td>2023-05-21 14:56:30</td>\n      <td>5</td>\n      <td>0</td>\n      <td>0</td>\n      <td>&lt;NA&gt;</td>\n      <td>&lt;NA&gt;</td>\n      <td>&lt;NA&gt;</td>\n      <td>&lt;NA&gt;</td>\n      <td>&lt;NA&gt;</td>\n      <td>&lt;NA&gt;</td>\n      <td>&lt;NA&gt;</td>\n      <td>&lt;NA&gt;</td>\n      <td>&lt;NA&gt;</td>\n    </tr>\n    <tr>\n      <th>14450</th>\n      <td>14453</td>\n      <td>14451</td>\n      <td>2023-05-16 12:54:39</td>\n      <td>2023-05-16 07:00:00</td>\n      <td>2023-05-19 21:07:56</td>\n      <td>0</td>\n      <td>0</td>\n      <td>0</td>\n      <td>&lt;NA&gt;</td>\n      <td>&lt;NA&gt;</td>\n      <td>&lt;NA&gt;</td>\n      <td>&lt;NA&gt;</td>\n      <td>&lt;NA&gt;</td>\n      <td>&lt;NA&gt;</td>\n      <td>&lt;NA&gt;</td>\n      <td>&lt;NA&gt;</td>\n      <td>&lt;NA&gt;</td>\n    </tr>\n    <tr>\n      <th>14451</th>\n      <td>14454</td>\n      <td>14452</td>\n      <td>2023-05-19 19:55:04</td>\n      <td>2023-05-19 07:00:00</td>\n      <td>2023-05-22 15:14:50</td>\n      <td>0</td>\n      <td>0</td>\n      <td>0</td>\n      <td>&lt;NA&gt;</td>\n      <td>&lt;NA&gt;</td>\n      <td>&lt;NA&gt;</td>\n      <td>&lt;NA&gt;</td>\n      <td>&lt;NA&gt;</td>\n      <td>&lt;NA&gt;</td>\n      <td>&lt;NA&gt;</td>\n      <td>&lt;NA&gt;</td>\n      <td>&lt;NA&gt;</td>\n    </tr>\n    <tr>\n      <th>14452</th>\n      <td>768</td>\n      <td>14453</td>\n      <td>2021-06-28 14:36:50</td>\n      <td>2023-05-22 07:00:00</td>\n      <td>2023-05-26 07:12:16</td>\n      <td>0</td>\n      <td>0</td>\n      <td>692</td>\n      <td>&lt;NA&gt;</td>\n      <td>&lt;NA&gt;</td>\n      <td>&lt;NA&gt;</td>\n      <td>3.0</td>\n      <td>0.0</td>\n      <td>2023-05-20 17:15:47</td>\n      <td>2023-05-17 15:20:48</td>\n      <td>10.0</td>\n      <td>10.0</td>\n    </tr>\n    <tr>\n      <th>14453</th>\n      <td>12079</td>\n      <td>14454</td>\n      <td>2022-12-24 17:19:26</td>\n      <td>2023-05-26 07:00:00</td>\n      <td>2023-05-29 12:18:28</td>\n      <td>0</td>\n      <td>0</td>\n      <td>152</td>\n      <td>1.0</td>\n      <td>2022-12-24 00:00:00</td>\n      <td>2022-12-24 00:00:00</td>\n      <td>1.0</td>\n      <td>0.0</td>\n      <td>2022-12-25 05:05:05.841000</td>\n      <td>2022-12-25 05:05:05.841000</td>\n      <td>0.0</td>\n      <td>25.0</td>\n    </tr>\n  </tbody>\n</table>\n<p>14454 rows × 17 columns</p>\n</div>"
     },
     "execution_count": 334,
     "metadata": {},
     "output_type": "execute_result"
    }
   ],
   "source": [
    "main_dataset"
   ],
   "metadata": {
    "collapsed": false,
    "ExecuteTime": {
     "end_time": "2023-10-30T06:47:34.649344800Z",
     "start_time": "2023-10-30T06:47:34.608773700Z"
    }
   }
  },
  {
   "cell_type": "markdown",
   "source": [
    "## 3) Creación del modelo"
   ],
   "metadata": {
    "collapsed": false
   }
  },
  {
   "cell_type": "markdown",
   "source": [
    "ESTO DE ABAJO DEBERIA ESTAR EN LA SECCION DE TRATAMENTO DE DATOS, son las variables iniciales del dataset de main_dataset que tomaremos para  el entrenamiento del modelo"
   ],
   "metadata": {
    "collapsed": false
   }
  },
  {
   "cell_type": "code",
   "execution_count": 360,
   "outputs": [
    {
     "data": {
      "text/plain": "       customer_id  account_to_application_days  n_bnpl_approved_apps  \\\n0             1223                          245                   0.0   \n1             5190                            0                   0.0   \n2             5194                            0                   0.0   \n3             3978                           47                   0.0   \n4             4535                           24                   0.0   \n...            ...                          ...                   ...   \n14449        14452                            0                   0.0   \n14450        14453                            0                   0.0   \n14451        14454                            0                   0.0   \n14452          768                          692                   0.0   \n14453        12079                          152                   0.0   \n\n       n_inquiries_l3m  n_inquiries_l6m  target  \n0                 91.0             91.0       0  \n1                  0.0              0.0       0  \n2                  0.0              0.0       0  \n3                 13.0             13.0       0  \n4                 21.0             21.0       0  \n...                ...              ...     ...  \n14449              0.0              0.0       0  \n14450              0.0              0.0       0  \n14451              0.0              0.0       0  \n14452             10.0             10.0       0  \n14453              0.0             25.0       0  \n\n[14454 rows x 6 columns]",
      "text/html": "<div>\n<style scoped>\n    .dataframe tbody tr th:only-of-type {\n        vertical-align: middle;\n    }\n\n    .dataframe tbody tr th {\n        vertical-align: top;\n    }\n\n    .dataframe thead th {\n        text-align: right;\n    }\n</style>\n<table border=\"1\" class=\"dataframe\">\n  <thead>\n    <tr style=\"text-align: right;\">\n      <th></th>\n      <th>customer_id</th>\n      <th>account_to_application_days</th>\n      <th>n_bnpl_approved_apps</th>\n      <th>n_inquiries_l3m</th>\n      <th>n_inquiries_l6m</th>\n      <th>target</th>\n    </tr>\n  </thead>\n  <tbody>\n    <tr>\n      <th>0</th>\n      <td>1223</td>\n      <td>245</td>\n      <td>0.0</td>\n      <td>91.0</td>\n      <td>91.0</td>\n      <td>0</td>\n    </tr>\n    <tr>\n      <th>1</th>\n      <td>5190</td>\n      <td>0</td>\n      <td>0.0</td>\n      <td>0.0</td>\n      <td>0.0</td>\n      <td>0</td>\n    </tr>\n    <tr>\n      <th>2</th>\n      <td>5194</td>\n      <td>0</td>\n      <td>0.0</td>\n      <td>0.0</td>\n      <td>0.0</td>\n      <td>0</td>\n    </tr>\n    <tr>\n      <th>3</th>\n      <td>3978</td>\n      <td>47</td>\n      <td>0.0</td>\n      <td>13.0</td>\n      <td>13.0</td>\n      <td>0</td>\n    </tr>\n    <tr>\n      <th>4</th>\n      <td>4535</td>\n      <td>24</td>\n      <td>0.0</td>\n      <td>21.0</td>\n      <td>21.0</td>\n      <td>0</td>\n    </tr>\n    <tr>\n      <th>...</th>\n      <td>...</td>\n      <td>...</td>\n      <td>...</td>\n      <td>...</td>\n      <td>...</td>\n      <td>...</td>\n    </tr>\n    <tr>\n      <th>14449</th>\n      <td>14452</td>\n      <td>0</td>\n      <td>0.0</td>\n      <td>0.0</td>\n      <td>0.0</td>\n      <td>0</td>\n    </tr>\n    <tr>\n      <th>14450</th>\n      <td>14453</td>\n      <td>0</td>\n      <td>0.0</td>\n      <td>0.0</td>\n      <td>0.0</td>\n      <td>0</td>\n    </tr>\n    <tr>\n      <th>14451</th>\n      <td>14454</td>\n      <td>0</td>\n      <td>0.0</td>\n      <td>0.0</td>\n      <td>0.0</td>\n      <td>0</td>\n    </tr>\n    <tr>\n      <th>14452</th>\n      <td>768</td>\n      <td>692</td>\n      <td>0.0</td>\n      <td>10.0</td>\n      <td>10.0</td>\n      <td>0</td>\n    </tr>\n    <tr>\n      <th>14453</th>\n      <td>12079</td>\n      <td>152</td>\n      <td>0.0</td>\n      <td>0.0</td>\n      <td>25.0</td>\n      <td>0</td>\n    </tr>\n  </tbody>\n</table>\n<p>14454 rows × 6 columns</p>\n</div>"
     },
     "execution_count": 360,
     "metadata": {},
     "output_type": "execute_result"
    }
   ],
   "source": [
    "features = main_dataset.copy()\n",
    "features = duckdb.sql(\"select customer_id, account_to_application_days,n_bnpl_approved_apps, n_inquiries_l3m , n_inquiries_l6m, target from features\").to_df()\n",
    "\n",
    "\n",
    "# Llenamos con 0 los NA\n",
    "features.fillna(value=0,inplace=True)\n",
    "features"
   ],
   "metadata": {
    "collapsed": false,
    "ExecuteTime": {
     "end_time": "2023-10-30T07:07:58.006743600Z",
     "start_time": "2023-10-30T07:07:57.942605400Z"
    }
   }
  },
  {
   "cell_type": "markdown",
   "source": [
    "Merge"
   ],
   "metadata": {
    "collapsed": false
   }
  },
  {
   "cell_type": "code",
   "execution_count": 361,
   "outputs": [
    {
     "data": {
      "text/plain": "      customer_id  account_to_application_days  n_bnpl_approved_apps  \\\n0            1223                          245                   0.0   \n1            3978                           47                   0.0   \n2            4535                           24                   0.0   \n3            3604                           72                   0.0   \n4             271                          393                   0.0   \n...           ...                          ...                   ...   \n9244        11725                          151                   0.0   \n9245         7008                          300                   0.0   \n9246        12781                          101                   0.0   \n9247          768                          692                   0.0   \n9248        12079                          152                   0.0   \n\n      n_inquiries_l3m  n_inquiries_l6m  target  Prestamos_totales  Years_old  \\\n0                91.0             91.0       0                 52       18.0   \n1                13.0             13.0       0                  9        6.0   \n2                21.0             21.0       0                 12       13.0   \n3                26.0             26.0       0                 31       10.0   \n4                11.0             11.0       0                 22        7.0   \n...               ...              ...     ...                ...        ...   \n9244              0.0             11.0       0                  5       16.0   \n9245              0.0              0.0       0                 65        9.0   \n9246              0.0              4.0       0                 21       13.0   \n9247             10.0             10.0       0                 20       15.0   \n9248              0.0             25.0       0                 37       15.0   \n\n      CREDIT_LIMIT  Porcentaje_retrasos  \n0        -0.338719            23.076923  \n1        -0.499960            77.777778  \n2         0.604828            50.000000  \n3         2.482673            51.612903  \n4        -0.019011            36.363636  \n...            ...                  ...  \n9244     -0.456580            20.000000  \n9245      0.178562            50.769231  \n9246     -0.455778            14.285714  \n9247     -0.484556            10.000000  \n9248     -0.524514            43.243243  \n\n[9249 rows x 10 columns]",
      "text/html": "<div>\n<style scoped>\n    .dataframe tbody tr th:only-of-type {\n        vertical-align: middle;\n    }\n\n    .dataframe tbody tr th {\n        vertical-align: top;\n    }\n\n    .dataframe thead th {\n        text-align: right;\n    }\n</style>\n<table border=\"1\" class=\"dataframe\">\n  <thead>\n    <tr style=\"text-align: right;\">\n      <th></th>\n      <th>customer_id</th>\n      <th>account_to_application_days</th>\n      <th>n_bnpl_approved_apps</th>\n      <th>n_inquiries_l3m</th>\n      <th>n_inquiries_l6m</th>\n      <th>target</th>\n      <th>Prestamos_totales</th>\n      <th>Years_old</th>\n      <th>CREDIT_LIMIT</th>\n      <th>Porcentaje_retrasos</th>\n    </tr>\n  </thead>\n  <tbody>\n    <tr>\n      <th>0</th>\n      <td>1223</td>\n      <td>245</td>\n      <td>0.0</td>\n      <td>91.0</td>\n      <td>91.0</td>\n      <td>0</td>\n      <td>52</td>\n      <td>18.0</td>\n      <td>-0.338719</td>\n      <td>23.076923</td>\n    </tr>\n    <tr>\n      <th>1</th>\n      <td>3978</td>\n      <td>47</td>\n      <td>0.0</td>\n      <td>13.0</td>\n      <td>13.0</td>\n      <td>0</td>\n      <td>9</td>\n      <td>6.0</td>\n      <td>-0.499960</td>\n      <td>77.777778</td>\n    </tr>\n    <tr>\n      <th>2</th>\n      <td>4535</td>\n      <td>24</td>\n      <td>0.0</td>\n      <td>21.0</td>\n      <td>21.0</td>\n      <td>0</td>\n      <td>12</td>\n      <td>13.0</td>\n      <td>0.604828</td>\n      <td>50.000000</td>\n    </tr>\n    <tr>\n      <th>3</th>\n      <td>3604</td>\n      <td>72</td>\n      <td>0.0</td>\n      <td>26.0</td>\n      <td>26.0</td>\n      <td>0</td>\n      <td>31</td>\n      <td>10.0</td>\n      <td>2.482673</td>\n      <td>51.612903</td>\n    </tr>\n    <tr>\n      <th>4</th>\n      <td>271</td>\n      <td>393</td>\n      <td>0.0</td>\n      <td>11.0</td>\n      <td>11.0</td>\n      <td>0</td>\n      <td>22</td>\n      <td>7.0</td>\n      <td>-0.019011</td>\n      <td>36.363636</td>\n    </tr>\n    <tr>\n      <th>...</th>\n      <td>...</td>\n      <td>...</td>\n      <td>...</td>\n      <td>...</td>\n      <td>...</td>\n      <td>...</td>\n      <td>...</td>\n      <td>...</td>\n      <td>...</td>\n      <td>...</td>\n    </tr>\n    <tr>\n      <th>9244</th>\n      <td>11725</td>\n      <td>151</td>\n      <td>0.0</td>\n      <td>0.0</td>\n      <td>11.0</td>\n      <td>0</td>\n      <td>5</td>\n      <td>16.0</td>\n      <td>-0.456580</td>\n      <td>20.000000</td>\n    </tr>\n    <tr>\n      <th>9245</th>\n      <td>7008</td>\n      <td>300</td>\n      <td>0.0</td>\n      <td>0.0</td>\n      <td>0.0</td>\n      <td>0</td>\n      <td>65</td>\n      <td>9.0</td>\n      <td>0.178562</td>\n      <td>50.769231</td>\n    </tr>\n    <tr>\n      <th>9246</th>\n      <td>12781</td>\n      <td>101</td>\n      <td>0.0</td>\n      <td>0.0</td>\n      <td>4.0</td>\n      <td>0</td>\n      <td>21</td>\n      <td>13.0</td>\n      <td>-0.455778</td>\n      <td>14.285714</td>\n    </tr>\n    <tr>\n      <th>9247</th>\n      <td>768</td>\n      <td>692</td>\n      <td>0.0</td>\n      <td>10.0</td>\n      <td>10.0</td>\n      <td>0</td>\n      <td>20</td>\n      <td>15.0</td>\n      <td>-0.484556</td>\n      <td>10.000000</td>\n    </tr>\n    <tr>\n      <th>9248</th>\n      <td>12079</td>\n      <td>152</td>\n      <td>0.0</td>\n      <td>0.0</td>\n      <td>25.0</td>\n      <td>0</td>\n      <td>37</td>\n      <td>15.0</td>\n      <td>-0.524514</td>\n      <td>43.243243</td>\n    </tr>\n  </tbody>\n</table>\n<p>9249 rows × 10 columns</p>\n</div>"
     },
     "execution_count": 361,
     "metadata": {},
     "output_type": "execute_result"
    }
   ],
   "source": [
    "# 1) Primer merge\n",
    "features = pd.merge(left=features, right=total_prestamos , on=\"customer_id\", how=\"inner\") # \"inner\" para solo quedarme con los clientes que tienen también datos en el credit_report\n",
    "\n",
    "# 2) Segundo merge\n",
    "features = pd.merge(left=features, right=antiguedad_crediticia, on=\"customer_id\", how=\"inner\")\n",
    "\n",
    "# 3) Tercer merge\n",
    "features = pd.merge(left=features, right=credit_limit, on=\"customer_id\", how=\"inner\")\n",
    "\n",
    "# 4) Cuarto merge (% de prestamos con retraso)\n",
    "features = pd.merge( left=features, right=total_retrasos, on=\"customer_id\", how=\"inner\")\n",
    "\n",
    "# 5) Quinto merge total de prestamos por tipo de crédito por persona\n",
    "#features = pd.merge (left=features, right=total_prestamos_categoria, on=\"customer_id\", how=\"inner\")\n",
    "\n",
    "# 6) Relfextion keys\n",
    "#features = pd.merge (left=features, right=prevention_keys, on=\"customer_id\", how=\"inner\")\n",
    "\n",
    "features"
   ],
   "metadata": {
    "collapsed": false,
    "ExecuteTime": {
     "end_time": "2023-10-30T07:07:58.754683200Z",
     "start_time": "2023-10-30T07:07:58.701214400Z"
    }
   }
  },
  {
   "cell_type": "code",
   "execution_count": 362,
   "outputs": [
    {
     "data": {
      "text/plain": "      account_to_application_days  n_bnpl_approved_apps  n_inquiries_l3m  \\\n0                             245                   0.0             91.0   \n1                              47                   0.0             13.0   \n2                              24                   0.0             21.0   \n3                              72                   0.0             26.0   \n4                             393                   0.0             11.0   \n...                           ...                   ...              ...   \n9244                          151                   0.0              0.0   \n9245                          300                   0.0              0.0   \n9246                          101                   0.0              0.0   \n9247                          692                   0.0             10.0   \n9248                          152                   0.0              0.0   \n\n      n_inquiries_l6m  target  Prestamos_totales  Years_old  CREDIT_LIMIT  \\\n0                91.0       0                 52       18.0     -0.338719   \n1                13.0       0                  9        6.0     -0.499960   \n2                21.0       0                 12       13.0      0.604828   \n3                26.0       0                 31       10.0      2.482673   \n4                11.0       0                 22        7.0     -0.019011   \n...               ...     ...                ...        ...           ...   \n9244             11.0       0                  5       16.0     -0.456580   \n9245              0.0       0                 65        9.0      0.178562   \n9246              4.0       0                 21       13.0     -0.455778   \n9247             10.0       0                 20       15.0     -0.484556   \n9248             25.0       0                 37       15.0     -0.524514   \n\n      Porcentaje_retrasos  \n0               23.076923  \n1               77.777778  \n2               50.000000  \n3               51.612903  \n4               36.363636  \n...                   ...  \n9244            20.000000  \n9245            50.769231  \n9246            14.285714  \n9247            10.000000  \n9248            43.243243  \n\n[9249 rows x 9 columns]",
      "text/html": "<div>\n<style scoped>\n    .dataframe tbody tr th:only-of-type {\n        vertical-align: middle;\n    }\n\n    .dataframe tbody tr th {\n        vertical-align: top;\n    }\n\n    .dataframe thead th {\n        text-align: right;\n    }\n</style>\n<table border=\"1\" class=\"dataframe\">\n  <thead>\n    <tr style=\"text-align: right;\">\n      <th></th>\n      <th>account_to_application_days</th>\n      <th>n_bnpl_approved_apps</th>\n      <th>n_inquiries_l3m</th>\n      <th>n_inquiries_l6m</th>\n      <th>target</th>\n      <th>Prestamos_totales</th>\n      <th>Years_old</th>\n      <th>CREDIT_LIMIT</th>\n      <th>Porcentaje_retrasos</th>\n    </tr>\n  </thead>\n  <tbody>\n    <tr>\n      <th>0</th>\n      <td>245</td>\n      <td>0.0</td>\n      <td>91.0</td>\n      <td>91.0</td>\n      <td>0</td>\n      <td>52</td>\n      <td>18.0</td>\n      <td>-0.338719</td>\n      <td>23.076923</td>\n    </tr>\n    <tr>\n      <th>1</th>\n      <td>47</td>\n      <td>0.0</td>\n      <td>13.0</td>\n      <td>13.0</td>\n      <td>0</td>\n      <td>9</td>\n      <td>6.0</td>\n      <td>-0.499960</td>\n      <td>77.777778</td>\n    </tr>\n    <tr>\n      <th>2</th>\n      <td>24</td>\n      <td>0.0</td>\n      <td>21.0</td>\n      <td>21.0</td>\n      <td>0</td>\n      <td>12</td>\n      <td>13.0</td>\n      <td>0.604828</td>\n      <td>50.000000</td>\n    </tr>\n    <tr>\n      <th>3</th>\n      <td>72</td>\n      <td>0.0</td>\n      <td>26.0</td>\n      <td>26.0</td>\n      <td>0</td>\n      <td>31</td>\n      <td>10.0</td>\n      <td>2.482673</td>\n      <td>51.612903</td>\n    </tr>\n    <tr>\n      <th>4</th>\n      <td>393</td>\n      <td>0.0</td>\n      <td>11.0</td>\n      <td>11.0</td>\n      <td>0</td>\n      <td>22</td>\n      <td>7.0</td>\n      <td>-0.019011</td>\n      <td>36.363636</td>\n    </tr>\n    <tr>\n      <th>...</th>\n      <td>...</td>\n      <td>...</td>\n      <td>...</td>\n      <td>...</td>\n      <td>...</td>\n      <td>...</td>\n      <td>...</td>\n      <td>...</td>\n      <td>...</td>\n    </tr>\n    <tr>\n      <th>9244</th>\n      <td>151</td>\n      <td>0.0</td>\n      <td>0.0</td>\n      <td>11.0</td>\n      <td>0</td>\n      <td>5</td>\n      <td>16.0</td>\n      <td>-0.456580</td>\n      <td>20.000000</td>\n    </tr>\n    <tr>\n      <th>9245</th>\n      <td>300</td>\n      <td>0.0</td>\n      <td>0.0</td>\n      <td>0.0</td>\n      <td>0</td>\n      <td>65</td>\n      <td>9.0</td>\n      <td>0.178562</td>\n      <td>50.769231</td>\n    </tr>\n    <tr>\n      <th>9246</th>\n      <td>101</td>\n      <td>0.0</td>\n      <td>0.0</td>\n      <td>4.0</td>\n      <td>0</td>\n      <td>21</td>\n      <td>13.0</td>\n      <td>-0.455778</td>\n      <td>14.285714</td>\n    </tr>\n    <tr>\n      <th>9247</th>\n      <td>692</td>\n      <td>0.0</td>\n      <td>10.0</td>\n      <td>10.0</td>\n      <td>0</td>\n      <td>20</td>\n      <td>15.0</td>\n      <td>-0.484556</td>\n      <td>10.000000</td>\n    </tr>\n    <tr>\n      <th>9248</th>\n      <td>152</td>\n      <td>0.0</td>\n      <td>0.0</td>\n      <td>25.0</td>\n      <td>0</td>\n      <td>37</td>\n      <td>15.0</td>\n      <td>-0.524514</td>\n      <td>43.243243</td>\n    </tr>\n  </tbody>\n</table>\n<p>9249 rows × 9 columns</p>\n</div>"
     },
     "execution_count": 362,
     "metadata": {},
     "output_type": "execute_result"
    }
   ],
   "source": [
    "# Fill  NA con 0\n",
    "features.fillna(value=0,inplace=True)\n",
    "\n",
    "# Dreopeo del customer ID\n",
    "features.drop(columns=[\"customer_id\"], inplace=True)\n",
    "features"
   ],
   "metadata": {
    "collapsed": false,
    "ExecuteTime": {
     "end_time": "2023-10-30T07:07:59.237493200Z",
     "start_time": "2023-10-30T07:07:59.213563800Z"
    }
   }
  },
  {
   "cell_type": "code",
   "execution_count": 363,
   "outputs": [
    {
     "data": {
      "text/plain": "      target\n0          0\n1          0\n2          0\n3          0\n4          0\n...      ...\n9244       0\n9245       0\n9246       0\n9247       0\n9248       0\n\n[9249 rows x 1 columns]",
      "text/html": "<div>\n<style scoped>\n    .dataframe tbody tr th:only-of-type {\n        vertical-align: middle;\n    }\n\n    .dataframe tbody tr th {\n        vertical-align: top;\n    }\n\n    .dataframe thead th {\n        text-align: right;\n    }\n</style>\n<table border=\"1\" class=\"dataframe\">\n  <thead>\n    <tr style=\"text-align: right;\">\n      <th></th>\n      <th>target</th>\n    </tr>\n  </thead>\n  <tbody>\n    <tr>\n      <th>0</th>\n      <td>0</td>\n    </tr>\n    <tr>\n      <th>1</th>\n      <td>0</td>\n    </tr>\n    <tr>\n      <th>2</th>\n      <td>0</td>\n    </tr>\n    <tr>\n      <th>3</th>\n      <td>0</td>\n    </tr>\n    <tr>\n      <th>4</th>\n      <td>0</td>\n    </tr>\n    <tr>\n      <th>...</th>\n      <td>...</td>\n    </tr>\n    <tr>\n      <th>9244</th>\n      <td>0</td>\n    </tr>\n    <tr>\n      <th>9245</th>\n      <td>0</td>\n    </tr>\n    <tr>\n      <th>9246</th>\n      <td>0</td>\n    </tr>\n    <tr>\n      <th>9247</th>\n      <td>0</td>\n    </tr>\n    <tr>\n      <th>9248</th>\n      <td>0</td>\n    </tr>\n  </tbody>\n</table>\n<p>9249 rows × 1 columns</p>\n</div>"
     },
     "execution_count": 363,
     "metadata": {},
     "output_type": "execute_result"
    }
   ],
   "source": [
    "# Variable objetivo\n",
    "target  =features[[\"target\"]]\n",
    "\n",
    "# Dropeo de la vriable target\n",
    "features.drop(columns=[\"target\"], inplace=True)\n",
    "target"
   ],
   "metadata": {
    "collapsed": false,
    "ExecuteTime": {
     "end_time": "2023-10-30T07:07:59.255647700Z",
     "start_time": "2023-10-30T07:07:59.232492500Z"
    }
   }
  },
  {
   "cell_type": "markdown",
   "source": [
    "### 3.1) Definición del conjunto de datos de entrenaimento y de testeo"
   ],
   "metadata": {
    "collapsed": false
   }
  },
  {
   "cell_type": "code",
   "execution_count": 364,
   "outputs": [
    {
     "data": {
      "text/plain": "      account_to_application_days  n_bnpl_approved_apps  n_inquiries_l3m  \\\n4002                          658                   0.0              0.0   \n3885                          181                   0.0              0.0   \n9129                          286                   0.0              0.0   \n1597                          162                   1.0              9.0   \n4649                           47                   0.0             38.0   \n...                           ...                   ...              ...   \n5734                          140                   0.0              0.0   \n5191                           69                   0.0             41.0   \n5390                          250                   1.0              0.0   \n860                             3                   0.0             16.0   \n7270                          313                   0.0              0.0   \n\n      n_inquiries_l6m  Prestamos_totales  Years_old  CREDIT_LIMIT  \\\n4002              0.0                  9       23.0     -0.532699   \n3885             31.0                 28        8.0     -0.435071   \n9129              0.0                 72       11.0      0.509721   \n1597              9.0                 38        3.0     -0.336263   \n4649             38.0                 48       17.0     -0.414396   \n...               ...                ...        ...           ...   \n5734             22.0                 39       13.0     -0.335846   \n5191             41.0                 27        4.0     -0.456679   \n5390              0.0                 22       15.0     -0.513882   \n860              16.0                 12        7.0     -0.581808   \n7270              0.0                 16       17.0      1.369430   \n\n      Porcentaje_retrasos  \n4002            22.222222  \n3885            42.857143  \n9129            38.888889  \n1597             2.631579  \n4649            25.000000  \n...                   ...  \n5734            23.076923  \n5191            44.444444  \n5390            40.909091  \n860             41.666667  \n7270            50.000000  \n\n[7399 rows x 8 columns]",
      "text/html": "<div>\n<style scoped>\n    .dataframe tbody tr th:only-of-type {\n        vertical-align: middle;\n    }\n\n    .dataframe tbody tr th {\n        vertical-align: top;\n    }\n\n    .dataframe thead th {\n        text-align: right;\n    }\n</style>\n<table border=\"1\" class=\"dataframe\">\n  <thead>\n    <tr style=\"text-align: right;\">\n      <th></th>\n      <th>account_to_application_days</th>\n      <th>n_bnpl_approved_apps</th>\n      <th>n_inquiries_l3m</th>\n      <th>n_inquiries_l6m</th>\n      <th>Prestamos_totales</th>\n      <th>Years_old</th>\n      <th>CREDIT_LIMIT</th>\n      <th>Porcentaje_retrasos</th>\n    </tr>\n  </thead>\n  <tbody>\n    <tr>\n      <th>4002</th>\n      <td>658</td>\n      <td>0.0</td>\n      <td>0.0</td>\n      <td>0.0</td>\n      <td>9</td>\n      <td>23.0</td>\n      <td>-0.532699</td>\n      <td>22.222222</td>\n    </tr>\n    <tr>\n      <th>3885</th>\n      <td>181</td>\n      <td>0.0</td>\n      <td>0.0</td>\n      <td>31.0</td>\n      <td>28</td>\n      <td>8.0</td>\n      <td>-0.435071</td>\n      <td>42.857143</td>\n    </tr>\n    <tr>\n      <th>9129</th>\n      <td>286</td>\n      <td>0.0</td>\n      <td>0.0</td>\n      <td>0.0</td>\n      <td>72</td>\n      <td>11.0</td>\n      <td>0.509721</td>\n      <td>38.888889</td>\n    </tr>\n    <tr>\n      <th>1597</th>\n      <td>162</td>\n      <td>1.0</td>\n      <td>9.0</td>\n      <td>9.0</td>\n      <td>38</td>\n      <td>3.0</td>\n      <td>-0.336263</td>\n      <td>2.631579</td>\n    </tr>\n    <tr>\n      <th>4649</th>\n      <td>47</td>\n      <td>0.0</td>\n      <td>38.0</td>\n      <td>38.0</td>\n      <td>48</td>\n      <td>17.0</td>\n      <td>-0.414396</td>\n      <td>25.000000</td>\n    </tr>\n    <tr>\n      <th>...</th>\n      <td>...</td>\n      <td>...</td>\n      <td>...</td>\n      <td>...</td>\n      <td>...</td>\n      <td>...</td>\n      <td>...</td>\n      <td>...</td>\n    </tr>\n    <tr>\n      <th>5734</th>\n      <td>140</td>\n      <td>0.0</td>\n      <td>0.0</td>\n      <td>22.0</td>\n      <td>39</td>\n      <td>13.0</td>\n      <td>-0.335846</td>\n      <td>23.076923</td>\n    </tr>\n    <tr>\n      <th>5191</th>\n      <td>69</td>\n      <td>0.0</td>\n      <td>41.0</td>\n      <td>41.0</td>\n      <td>27</td>\n      <td>4.0</td>\n      <td>-0.456679</td>\n      <td>44.444444</td>\n    </tr>\n    <tr>\n      <th>5390</th>\n      <td>250</td>\n      <td>1.0</td>\n      <td>0.0</td>\n      <td>0.0</td>\n      <td>22</td>\n      <td>15.0</td>\n      <td>-0.513882</td>\n      <td>40.909091</td>\n    </tr>\n    <tr>\n      <th>860</th>\n      <td>3</td>\n      <td>0.0</td>\n      <td>16.0</td>\n      <td>16.0</td>\n      <td>12</td>\n      <td>7.0</td>\n      <td>-0.581808</td>\n      <td>41.666667</td>\n    </tr>\n    <tr>\n      <th>7270</th>\n      <td>313</td>\n      <td>0.0</td>\n      <td>0.0</td>\n      <td>0.0</td>\n      <td>16</td>\n      <td>17.0</td>\n      <td>1.369430</td>\n      <td>50.000000</td>\n    </tr>\n  </tbody>\n</table>\n<p>7399 rows × 8 columns</p>\n</div>"
     },
     "execution_count": 364,
     "metadata": {},
     "output_type": "execute_result"
    }
   ],
   "source": [
    "# Traning adn testing dataset\n",
    "X_train, X_test, y_train, y_test = train_test_split(features, target, test_size=0.2, random_state=42)\n",
    "X_train"
   ],
   "metadata": {
    "collapsed": false,
    "ExecuteTime": {
     "end_time": "2023-10-30T07:08:00.066603800Z",
     "start_time": "2023-10-30T07:08:00.024129100Z"
    }
   }
  },
  {
   "cell_type": "markdown",
   "source": [
    "### 3.2) Defiinción de la grilla (grid)\n",
    "La grilla la usarmeos para hacer un grid_serach que servira para el tuneo de hiperrametros del modelo"
   ],
   "metadata": {
    "collapsed": false
   }
  },
  {
   "cell_type": "code",
   "execution_count": 365,
   "outputs": [],
   "source": [
    "# Instancia del modelo\n",
    "model = xgb.XGBClassifier()\n",
    "\n",
    "# Grilla de hiperparámetros\n",
    "param_grid = {\n",
    "    'n_estimators': [50, 100, 200], # Número de arboles que  quieres construir\n",
    "    'learning_rate': [0.01, 0.05, 0.1],\n",
    "    'max_depth': [3, 6, 12], # profundidad de los arboles\n",
    "    'colsample_bytree': [0.3, 0.5, 0.9], # Fracción de las características que se pueden seleccionar (de forma aleatoria) para construir un árbol en cada iteración.\n",
    "}\n"
   ],
   "metadata": {
    "collapsed": false,
    "ExecuteTime": {
     "end_time": "2023-10-30T07:08:00.569205800Z",
     "start_time": "2023-10-30T07:08:00.556200800Z"
    }
   }
  },
  {
   "cell_type": "markdown",
   "source": [
    "### 3.3) Entrenamiento y tuneo del modelo"
   ],
   "metadata": {
    "collapsed": false
   }
  },
  {
   "cell_type": "code",
   "execution_count": 366,
   "outputs": [
    {
     "name": "stdout",
     "output_type": "stream",
     "text": [
      "CPU times: total: 8.19 s\n",
      "Wall time: 21 s\n"
     ]
    },
    {
     "data": {
      "text/plain": "GridSearchCV(cv=5,\n             estimator=XGBClassifier(base_score=None, booster=None,\n                                     callbacks=None, colsample_bylevel=None,\n                                     colsample_bynode=None,\n                                     colsample_bytree=None, device=None,\n                                     early_stopping_rounds=None,\n                                     enable_categorical=False, eval_metric=None,\n                                     feature_types=None, gamma=None,\n                                     grow_policy=None, importance_type=None,\n                                     interaction_constraints=None,\n                                     learning_rate=None,...\n                                     max_delta_step=None, max_depth=None,\n                                     max_leaves=None, min_child_weight=None,\n                                     missing=nan, monotone_constraints=None,\n                                     multi_strategy=None, n_estimators=None,\n                                     n_jobs=None, num_parallel_tree=None,\n                                     random_state=None, ...),\n             n_jobs=-1,\n             param_grid={'colsample_bytree': [0.3, 0.5, 0.9],\n                         'learning_rate': [0.01, 0.05, 0.1],\n                         'max_depth': [3, 6, 12],\n                         'n_estimators': [50, 100, 200]},\n             scoring='accuracy')",
      "text/html": "<style>#sk-container-id-19 {color: black;}#sk-container-id-19 pre{padding: 0;}#sk-container-id-19 div.sk-toggleable {background-color: white;}#sk-container-id-19 label.sk-toggleable__label {cursor: pointer;display: block;width: 100%;margin-bottom: 0;padding: 0.3em;box-sizing: border-box;text-align: center;}#sk-container-id-19 label.sk-toggleable__label-arrow:before {content: \"▸\";float: left;margin-right: 0.25em;color: #696969;}#sk-container-id-19 label.sk-toggleable__label-arrow:hover:before {color: black;}#sk-container-id-19 div.sk-estimator:hover label.sk-toggleable__label-arrow:before {color: black;}#sk-container-id-19 div.sk-toggleable__content {max-height: 0;max-width: 0;overflow: hidden;text-align: left;background-color: #f0f8ff;}#sk-container-id-19 div.sk-toggleable__content pre {margin: 0.2em;color: black;border-radius: 0.25em;background-color: #f0f8ff;}#sk-container-id-19 input.sk-toggleable__control:checked~div.sk-toggleable__content {max-height: 200px;max-width: 100%;overflow: auto;}#sk-container-id-19 input.sk-toggleable__control:checked~label.sk-toggleable__label-arrow:before {content: \"▾\";}#sk-container-id-19 div.sk-estimator input.sk-toggleable__control:checked~label.sk-toggleable__label {background-color: #d4ebff;}#sk-container-id-19 div.sk-label input.sk-toggleable__control:checked~label.sk-toggleable__label {background-color: #d4ebff;}#sk-container-id-19 input.sk-hidden--visually {border: 0;clip: rect(1px 1px 1px 1px);clip: rect(1px, 1px, 1px, 1px);height: 1px;margin: -1px;overflow: hidden;padding: 0;position: absolute;width: 1px;}#sk-container-id-19 div.sk-estimator {font-family: monospace;background-color: #f0f8ff;border: 1px dotted black;border-radius: 0.25em;box-sizing: border-box;margin-bottom: 0.5em;}#sk-container-id-19 div.sk-estimator:hover {background-color: #d4ebff;}#sk-container-id-19 div.sk-parallel-item::after {content: \"\";width: 100%;border-bottom: 1px solid gray;flex-grow: 1;}#sk-container-id-19 div.sk-label:hover label.sk-toggleable__label {background-color: #d4ebff;}#sk-container-id-19 div.sk-serial::before {content: \"\";position: absolute;border-left: 1px solid gray;box-sizing: border-box;top: 0;bottom: 0;left: 50%;z-index: 0;}#sk-container-id-19 div.sk-serial {display: flex;flex-direction: column;align-items: center;background-color: white;padding-right: 0.2em;padding-left: 0.2em;position: relative;}#sk-container-id-19 div.sk-item {position: relative;z-index: 1;}#sk-container-id-19 div.sk-parallel {display: flex;align-items: stretch;justify-content: center;background-color: white;position: relative;}#sk-container-id-19 div.sk-item::before, #sk-container-id-19 div.sk-parallel-item::before {content: \"\";position: absolute;border-left: 1px solid gray;box-sizing: border-box;top: 0;bottom: 0;left: 50%;z-index: -1;}#sk-container-id-19 div.sk-parallel-item {display: flex;flex-direction: column;z-index: 1;position: relative;background-color: white;}#sk-container-id-19 div.sk-parallel-item:first-child::after {align-self: flex-end;width: 50%;}#sk-container-id-19 div.sk-parallel-item:last-child::after {align-self: flex-start;width: 50%;}#sk-container-id-19 div.sk-parallel-item:only-child::after {width: 0;}#sk-container-id-19 div.sk-dashed-wrapped {border: 1px dashed gray;margin: 0 0.4em 0.5em 0.4em;box-sizing: border-box;padding-bottom: 0.4em;background-color: white;}#sk-container-id-19 div.sk-label label {font-family: monospace;font-weight: bold;display: inline-block;line-height: 1.2em;}#sk-container-id-19 div.sk-label-container {text-align: center;}#sk-container-id-19 div.sk-container {/* jupyter's `normalize.less` sets `[hidden] { display: none; }` but bootstrap.min.css set `[hidden] { display: none !important; }` so we also need the `!important` here to be able to override the default hidden behavior on the sphinx rendered scikit-learn.org. See: https://github.com/scikit-learn/scikit-learn/issues/21755 */display: inline-block !important;position: relative;}#sk-container-id-19 div.sk-text-repr-fallback {display: none;}</style><div id=\"sk-container-id-19\" class=\"sk-top-container\"><div class=\"sk-text-repr-fallback\"><pre>GridSearchCV(cv=5,\n             estimator=XGBClassifier(base_score=None, booster=None,\n                                     callbacks=None, colsample_bylevel=None,\n                                     colsample_bynode=None,\n                                     colsample_bytree=None, device=None,\n                                     early_stopping_rounds=None,\n                                     enable_categorical=False, eval_metric=None,\n                                     feature_types=None, gamma=None,\n                                     grow_policy=None, importance_type=None,\n                                     interaction_constraints=None,\n                                     learning_rate=None,...\n                                     max_delta_step=None, max_depth=None,\n                                     max_leaves=None, min_child_weight=None,\n                                     missing=nan, monotone_constraints=None,\n                                     multi_strategy=None, n_estimators=None,\n                                     n_jobs=None, num_parallel_tree=None,\n                                     random_state=None, ...),\n             n_jobs=-1,\n             param_grid={&#x27;colsample_bytree&#x27;: [0.3, 0.5, 0.9],\n                         &#x27;learning_rate&#x27;: [0.01, 0.05, 0.1],\n                         &#x27;max_depth&#x27;: [3, 6, 12],\n                         &#x27;n_estimators&#x27;: [50, 100, 200]},\n             scoring=&#x27;accuracy&#x27;)</pre><b>In a Jupyter environment, please rerun this cell to show the HTML representation or trust the notebook. <br />On GitHub, the HTML representation is unable to render, please try loading this page with nbviewer.org.</b></div><div class=\"sk-container\" hidden><div class=\"sk-item sk-dashed-wrapped\"><div class=\"sk-label-container\"><div class=\"sk-label sk-toggleable\"><input class=\"sk-toggleable__control sk-hidden--visually\" id=\"sk-estimator-id-39\" type=\"checkbox\" ><label for=\"sk-estimator-id-39\" class=\"sk-toggleable__label sk-toggleable__label-arrow\">GridSearchCV</label><div class=\"sk-toggleable__content\"><pre>GridSearchCV(cv=5,\n             estimator=XGBClassifier(base_score=None, booster=None,\n                                     callbacks=None, colsample_bylevel=None,\n                                     colsample_bynode=None,\n                                     colsample_bytree=None, device=None,\n                                     early_stopping_rounds=None,\n                                     enable_categorical=False, eval_metric=None,\n                                     feature_types=None, gamma=None,\n                                     grow_policy=None, importance_type=None,\n                                     interaction_constraints=None,\n                                     learning_rate=None,...\n                                     max_delta_step=None, max_depth=None,\n                                     max_leaves=None, min_child_weight=None,\n                                     missing=nan, monotone_constraints=None,\n                                     multi_strategy=None, n_estimators=None,\n                                     n_jobs=None, num_parallel_tree=None,\n                                     random_state=None, ...),\n             n_jobs=-1,\n             param_grid={&#x27;colsample_bytree&#x27;: [0.3, 0.5, 0.9],\n                         &#x27;learning_rate&#x27;: [0.01, 0.05, 0.1],\n                         &#x27;max_depth&#x27;: [3, 6, 12],\n                         &#x27;n_estimators&#x27;: [50, 100, 200]},\n             scoring=&#x27;accuracy&#x27;)</pre></div></div></div><div class=\"sk-parallel\"><div class=\"sk-parallel-item\"><div class=\"sk-item\"><div class=\"sk-label-container\"><div class=\"sk-label sk-toggleable\"><input class=\"sk-toggleable__control sk-hidden--visually\" id=\"sk-estimator-id-40\" type=\"checkbox\" ><label for=\"sk-estimator-id-40\" class=\"sk-toggleable__label sk-toggleable__label-arrow\">estimator: XGBClassifier</label><div class=\"sk-toggleable__content\"><pre>XGBClassifier(base_score=None, booster=None, callbacks=None,\n              colsample_bylevel=None, colsample_bynode=None,\n              colsample_bytree=None, device=None, early_stopping_rounds=None,\n              enable_categorical=False, eval_metric=None, feature_types=None,\n              gamma=None, grow_policy=None, importance_type=None,\n              interaction_constraints=None, learning_rate=None, max_bin=None,\n              max_cat_threshold=None, max_cat_to_onehot=None,\n              max_delta_step=None, max_depth=None, max_leaves=None,\n              min_child_weight=None, missing=nan, monotone_constraints=None,\n              multi_strategy=None, n_estimators=None, n_jobs=None,\n              num_parallel_tree=None, random_state=None, ...)</pre></div></div></div><div class=\"sk-serial\"><div class=\"sk-item\"><div class=\"sk-estimator sk-toggleable\"><input class=\"sk-toggleable__control sk-hidden--visually\" id=\"sk-estimator-id-41\" type=\"checkbox\" ><label for=\"sk-estimator-id-41\" class=\"sk-toggleable__label sk-toggleable__label-arrow\">XGBClassifier</label><div class=\"sk-toggleable__content\"><pre>XGBClassifier(base_score=None, booster=None, callbacks=None,\n              colsample_bylevel=None, colsample_bynode=None,\n              colsample_bytree=None, device=None, early_stopping_rounds=None,\n              enable_categorical=False, eval_metric=None, feature_types=None,\n              gamma=None, grow_policy=None, importance_type=None,\n              interaction_constraints=None, learning_rate=None, max_bin=None,\n              max_cat_threshold=None, max_cat_to_onehot=None,\n              max_delta_step=None, max_depth=None, max_leaves=None,\n              min_child_weight=None, missing=nan, monotone_constraints=None,\n              multi_strategy=None, n_estimators=None, n_jobs=None,\n              num_parallel_tree=None, random_state=None, ...)</pre></div></div></div></div></div></div></div></div></div></div>"
     },
     "execution_count": 366,
     "metadata": {},
     "output_type": "execute_result"
    }
   ],
   "source": [
    "%%time\n",
    "grid_search = GridSearchCV(estimator=model,param_grid= param_grid, cv=5,\n",
    "                           scoring='accuracy', n_jobs=-1)\n",
    "\n",
    "grid_search.fit(X_train, y_train)"
   ],
   "metadata": {
    "collapsed": false,
    "ExecuteTime": {
     "end_time": "2023-10-30T07:08:22.485631100Z",
     "start_time": "2023-10-30T07:08:01.466145400Z"
    }
   }
  },
  {
   "cell_type": "markdown",
   "source": [
    "### 3.4) Evaluación del modelo final"
   ],
   "metadata": {
    "collapsed": false
   }
  },
  {
   "cell_type": "code",
   "execution_count": 367,
   "outputs": [
    {
     "name": "stdout",
     "output_type": "stream",
     "text": [
      "Mejores hiperparámetros: {'colsample_bytree': 0.5, 'learning_rate': 0.1, 'max_depth': 3, 'n_estimators': 50}\n",
      "Mejor precisión alcanzada: 0.8145696507866893\n"
     ]
    }
   ],
   "source": [
    "print(f\"Mejores hiperparámetros: {grid_search.best_params_}\")\n",
    "print(f\"Mejor precisión alcanzada: {grid_search.best_score_}\")\n",
    "\n",
    "# Mejor modelo\n",
    "best_model = grid_search.best_estimator_"
   ],
   "metadata": {
    "collapsed": false,
    "ExecuteTime": {
     "end_time": "2023-10-30T07:08:22.494662200Z",
     "start_time": "2023-10-30T07:08:22.487152600Z"
    }
   }
  },
  {
   "cell_type": "markdown",
   "source": [
    "### 3.5) Análisis de relevancias por variable"
   ],
   "metadata": {
    "collapsed": false
   }
  },
  {
   "cell_type": "code",
   "execution_count": 368,
   "outputs": [
    {
     "data": {
      "text/plain": "<Figure size 640x480 with 1 Axes>",
      "image/png": "[encoded data removed]"
     },
     "metadata": {},
     "output_type": "display_data"
    }
   ],
   "source": [
    "#relevancia de cada variable\n",
    "# Obtener la importancia usando el método 'get_booster().get_score()'\n",
    "importance = best_model.get_booster().get_score(importance_type='weight')\n",
    "\n",
    "# Usar la función plot_importance\n",
    "plot_importance(booster=best_model, importance_type='weight', title='Importance by Weight')\n",
    "plt.show()"
   ],
   "metadata": {
    "collapsed": false,
    "ExecuteTime": {
     "end_time": "2023-10-30T07:08:22.699812100Z",
     "start_time": "2023-10-30T07:08:22.490661100Z"
    }
   }
  },
  {
   "cell_type": "markdown",
   "source": [
    "**REGRESION LOGISTICA**"
   ],
   "metadata": {
    "collapsed": false
   }
  },
  {
   "cell_type": "code",
   "execution_count": 353,
   "outputs": [
    {
     "name": "stdout",
     "output_type": "stream",
     "text": [
      "Fitting 5 folds for each of 12 candidates, totalling 60 fits\n"
     ]
    },
    {
     "name": "stderr",
     "output_type": "stream",
     "text": [
      "C:\\ProgramData\\Anaconda3\\envs\\Data_Science\\Lib\\site-packages\\sklearn\\utils\\validation.py:1183: DataConversionWarning:\n",
      "\n",
      "A column-vector y was passed when a 1d array was expected. Please change the shape of y to (n_samples, ), for example using ravel().\n",
      "\n"
     ]
    },
    {
     "data": {
      "text/plain": "GridSearchCV(cv=5, estimator=LogisticRegression(max_iter=10000), n_jobs=-1,\n             param_grid={'C': [0.001, 0.01, 0.1, 1, 10, 100],\n                         'penalty': ['l1', 'l2'], 'solver': ['liblinear']},\n             scoring='accuracy', verbose=1)",
      "text/html": "<style>#sk-container-id-17 {color: black;}#sk-container-id-17 pre{padding: 0;}#sk-container-id-17 div.sk-toggleable {background-color: white;}#sk-container-id-17 label.sk-toggleable__label {cursor: pointer;display: block;width: 100%;margin-bottom: 0;padding: 0.3em;box-sizing: border-box;text-align: center;}#sk-container-id-17 label.sk-toggleable__label-arrow:before {content: \"▸\";float: left;margin-right: 0.25em;color: #696969;}#sk-container-id-17 label.sk-toggleable__label-arrow:hover:before {color: black;}#sk-container-id-17 div.sk-estimator:hover label.sk-toggleable__label-arrow:before {color: black;}#sk-container-id-17 div.sk-toggleable__content {max-height: 0;max-width: 0;overflow: hidden;text-align: left;background-color: #f0f8ff;}#sk-container-id-17 div.sk-toggleable__content pre {margin: 0.2em;color: black;border-radius: 0.25em;background-color: #f0f8ff;}#sk-container-id-17 input.sk-toggleable__control:checked~div.sk-toggleable__content {max-height: 200px;max-width: 100%;overflow: auto;}#sk-container-id-17 input.sk-toggleable__control:checked~label.sk-toggleable__label-arrow:before {content: \"▾\";}#sk-container-id-17 div.sk-estimator input.sk-toggleable__control:checked~label.sk-toggleable__label {background-color: #d4ebff;}#sk-container-id-17 div.sk-label input.sk-toggleable__control:checked~label.sk-toggleable__label {background-color: #d4ebff;}#sk-container-id-17 input.sk-hidden--visually {border: 0;clip: rect(1px 1px 1px 1px);clip: rect(1px, 1px, 1px, 1px);height: 1px;margin: -1px;overflow: hidden;padding: 0;position: absolute;width: 1px;}#sk-container-id-17 div.sk-estimator {font-family: monospace;background-color: #f0f8ff;border: 1px dotted black;border-radius: 0.25em;box-sizing: border-box;margin-bottom: 0.5em;}#sk-container-id-17 div.sk-estimator:hover {background-color: #d4ebff;}#sk-container-id-17 div.sk-parallel-item::after {content: \"\";width: 100%;border-bottom: 1px solid gray;flex-grow: 1;}#sk-container-id-17 div.sk-label:hover label.sk-toggleable__label {background-color: #d4ebff;}#sk-container-id-17 div.sk-serial::before {content: \"\";position: absolute;border-left: 1px solid gray;box-sizing: border-box;top: 0;bottom: 0;left: 50%;z-index: 0;}#sk-container-id-17 div.sk-serial {display: flex;flex-direction: column;align-items: center;background-color: white;padding-right: 0.2em;padding-left: 0.2em;position: relative;}#sk-container-id-17 div.sk-item {position: relative;z-index: 1;}#sk-container-id-17 div.sk-parallel {display: flex;align-items: stretch;justify-content: center;background-color: white;position: relative;}#sk-container-id-17 div.sk-item::before, #sk-container-id-17 div.sk-parallel-item::before {content: \"\";position: absolute;border-left: 1px solid gray;box-sizing: border-box;top: 0;bottom: 0;left: 50%;z-index: -1;}#sk-container-id-17 div.sk-parallel-item {display: flex;flex-direction: column;z-index: 1;position: relative;background-color: white;}#sk-container-id-17 div.sk-parallel-item:first-child::after {align-self: flex-end;width: 50%;}#sk-container-id-17 div.sk-parallel-item:last-child::after {align-self: flex-start;width: 50%;}#sk-container-id-17 div.sk-parallel-item:only-child::after {width: 0;}#sk-container-id-17 div.sk-dashed-wrapped {border: 1px dashed gray;margin: 0 0.4em 0.5em 0.4em;box-sizing: border-box;padding-bottom: 0.4em;background-color: white;}#sk-container-id-17 div.sk-label label {font-family: monospace;font-weight: bold;display: inline-block;line-height: 1.2em;}#sk-container-id-17 div.sk-label-container {text-align: center;}#sk-container-id-17 div.sk-container {/* jupyter's `normalize.less` sets `[hidden] { display: none; }` but bootstrap.min.css set `[hidden] { display: none !important; }` so we also need the `!important` here to be able to override the default hidden behavior on the sphinx rendered scikit-learn.org. See: https://github.com/scikit-learn/scikit-learn/issues/21755 */display: inline-block !important;position: relative;}#sk-container-id-17 div.sk-text-repr-fallback {display: none;}</style><div id=\"sk-container-id-17\" class=\"sk-top-container\"><div class=\"sk-text-repr-fallback\"><pre>GridSearchCV(cv=5, estimator=LogisticRegression(max_iter=10000), n_jobs=-1,\n             param_grid={&#x27;C&#x27;: [0.001, 0.01, 0.1, 1, 10, 100],\n                         &#x27;penalty&#x27;: [&#x27;l1&#x27;, &#x27;l2&#x27;], &#x27;solver&#x27;: [&#x27;liblinear&#x27;]},\n             scoring=&#x27;accuracy&#x27;, verbose=1)</pre><b>In a Jupyter environment, please rerun this cell to show the HTML representation or trust the notebook. <br />On GitHub, the HTML representation is unable to render, please try loading this page with nbviewer.org.</b></div><div class=\"sk-container\" hidden><div class=\"sk-item sk-dashed-wrapped\"><div class=\"sk-label-container\"><div class=\"sk-label sk-toggleable\"><input class=\"sk-toggleable__control sk-hidden--visually\" id=\"sk-estimator-id-33\" type=\"checkbox\" ><label for=\"sk-estimator-id-33\" class=\"sk-toggleable__label sk-toggleable__label-arrow\">GridSearchCV</label><div class=\"sk-toggleable__content\"><pre>GridSearchCV(cv=5, estimator=LogisticRegression(max_iter=10000), n_jobs=-1,\n             param_grid={&#x27;C&#x27;: [0.001, 0.01, 0.1, 1, 10, 100],\n                         &#x27;penalty&#x27;: [&#x27;l1&#x27;, &#x27;l2&#x27;], &#x27;solver&#x27;: [&#x27;liblinear&#x27;]},\n             scoring=&#x27;accuracy&#x27;, verbose=1)</pre></div></div></div><div class=\"sk-parallel\"><div class=\"sk-parallel-item\"><div class=\"sk-item\"><div class=\"sk-label-container\"><div class=\"sk-label sk-toggleable\"><input class=\"sk-toggleable__control sk-hidden--visually\" id=\"sk-estimator-id-34\" type=\"checkbox\" ><label for=\"sk-estimator-id-34\" class=\"sk-toggleable__label sk-toggleable__label-arrow\">estimator: LogisticRegression</label><div class=\"sk-toggleable__content\"><pre>LogisticRegression(max_iter=10000)</pre></div></div></div><div class=\"sk-serial\"><div class=\"sk-item\"><div class=\"sk-estimator sk-toggleable\"><input class=\"sk-toggleable__control sk-hidden--visually\" id=\"sk-estimator-id-35\" type=\"checkbox\" ><label for=\"sk-estimator-id-35\" class=\"sk-toggleable__label sk-toggleable__label-arrow\">LogisticRegression</label><div class=\"sk-toggleable__content\"><pre>LogisticRegression(max_iter=10000)</pre></div></div></div></div></div></div></div></div></div></div>"
     },
     "execution_count": 353,
     "metadata": {},
     "output_type": "execute_result"
    }
   ],
   "source": [
    "# Crear una instancia del clasificador y entrenar\n",
    "# Instancia del modelo\n",
    "model = LogisticRegression(max_iter=10000)\n",
    "\n",
    "# Grilla de hiperparámetros\n",
    "param_grid = {\n",
    "    'C': [0.001, 0.01, 0.1, 1, 10, 100],\n",
    "    'penalty': ['l1', 'l2'],\n",
    "    'solver': ['liblinear']  # 'liblinear' es necesario para el penalty 'l1'\n",
    "}\n",
    "\n",
    "grid_search = GridSearchCV(model, param_grid, cv=5, scoring='accuracy', n_jobs=-1, verbose=1)\n",
    "\n",
    "grid_search.fit(X_train, y_train)\n",
    "\n"
   ],
   "metadata": {
    "collapsed": false,
    "ExecuteTime": {
     "end_time": "2023-10-30T07:06:33.965049800Z",
     "start_time": "2023-10-30T07:06:33.388321300Z"
    }
   }
  },
  {
   "cell_type": "code",
   "execution_count": 354,
   "outputs": [
    {
     "name": "stdout",
     "output_type": "stream",
     "text": [
      "Mejores hiperparámetros: {'C': 0.1, 'penalty': 'l1', 'solver': 'liblinear'}\n",
      "Mejor precisión alcanzada: 0.8145695594174296\n"
     ]
    }
   ],
   "source": [
    "print(f\"Mejores hiperparámetros: {grid_search.best_params_}\")\n",
    "print(f\"Mejor precisión alcanzada: {grid_search.best_score_}\")\n",
    "\n",
    "best_model = grid_search.best_estimator_\n"
   ],
   "metadata": {
    "collapsed": false,
    "ExecuteTime": {
     "end_time": "2023-10-30T07:06:33.970424200Z",
     "start_time": "2023-10-30T07:06:33.967421600Z"
    }
   }
  },
  {
   "cell_type": "markdown",
   "source": [
    "**NOTA:** Quitar las variables de\n",
    "- Prestamos por Categoria\n",
    "- Prevention keys"
   ],
   "metadata": {
    "collapsed": false
   }
  },
  {
   "cell_type": "markdown",
   "source": [
    "## 4) Discuciones\n",
    "Crear un modelo de riesgo financiero es crucial para muchas instituciones financieras. La selección de variables es esencial para la eficacia del modelo. Aquí te dejo 11 variables principales que se suelen considerar en estos modelos:\n",
    "\n",
    "1. *Historial crediticio*: Registra el comportamiento pasado del cliente en relación con sus créditos anteriores. Los pagos tardíos, los incumplimientos o las quiebras son indicadores de alto riesgo.\n",
    "\n",
    "2. *Ingreso mensual*: Una medida de la capacidad del cliente para pagar. Un ingreso más alto podría indicar una mayor capacidad de pago.\n",
    "\n",
    "3. *Ratio de endeudamiento*: Indica cuánto de los ingresos mensuales del cliente ya está comprometido en otros pagos de deuda.\n",
    "\n",
    "4. *Duración del empleo*: Un empleo estable puede ser indicativo de ingresos regulares y estabilidad financiera.\n",
    "\n",
    "5. *Edad*: En algunos casos, la edad puede influir en el comportamiento de pago. Por ejemplo, los clientes más jóvenes pueden no tener un historial crediticio establecido.\n",
    "\n",
    "6. *Número de créditos abiertos*: Tener muchos créditos puede ser tanto un indicador de buena gestión crediticia como de sobreendeudamiento.\n",
    "\n",
    "7. *Garantías o activos*: La existencia de activos o propiedades que puedan ser utilizadas como garantía reduce el riesgo para el prestamista.\n",
    "\n",
    "8. *Antigüedad en la vivienda actual*: Una residencia estable puede ser un indicativo de estabilidad general en la vida del cliente.\n",
    "\n",
    "9. *Estado civil y dependientes*: Estar casado o tener dependientes puede influir en las responsabilidades financieras y, por lo tanto, en el comportamiento de pago.\n",
    "\n",
    "10. *Tipo de empleo o profesión*: Algunas profesiones pueden estar asociadas con ingresos más estables o más volátiles.\n",
    "\n",
    "11. *Consulta de crédito reciente*: Si el cliente ha solicitado muchos créditos recientemente, puede ser una señal de desesperación financiera.\n",
    "\n",
    "Recuerda que, además de seleccionar las variables correctas, es esencial contar con un conjunto de datos de calidad y suficientemente grande para entrenar tu modelo. También es vital realizar un análisis exploratorio de los datos y considerar la posibilidad de interacciones entre variables."
   ],
   "metadata": {
    "collapsed": false
   }
  }
 ],
 "metadata": {
  "kernelspec": {
   "display_name": "Python 3",
   "language": "python",
   "name": "python3"
  },
  "language_info": {
   "codemirror_mode": {
    "name": "ipython",
    "version": 2
   },
   "file_extension": ".py",
   "mimetype": "text/x-python",
   "name": "python",
   "nbconvert_exporter": "python",
   "pygments_lexer": "ipython2",
   "version": "2.7.6"
  }
 },
 "nbformat": 4,
 "nbformat_minor": 0
}
